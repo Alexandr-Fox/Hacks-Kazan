{
 "cells": [
  {
   "cell_type": "code",
   "execution_count": 44,
   "metadata": {
    "collapsed": true,
    "pycharm": {
     "name": "#%%\n"
    }
   },
   "outputs": [],
   "source": [
    "import pickle\n",
    "import pyarrow.parquet as pq\n",
    "import pandas as pd\n",
    "import tqdm"
   ]
  },
  {
   "cell_type": "code",
   "execution_count": 45,
   "outputs": [],
   "source": [
    "from sklearn.linear_model import LogisticRegression\n",
    "from catboost import CatBoostClassifier\n",
    "\n",
    "\n",
    "def get_scores(X, y, x_predict, return_names=False, return_only_names=False):\n",
    "    if return_only_names is True and return_names is False:\n",
    "        raise ValueError(\"return_only_names cannot be True if return_names is False\")\n",
    "    clf = LogisticRegression(max_iter=3000).fit(X.to_numpy(), y)\n",
    "    scores = clf.predict_proba([x_predict])\n",
    "    if return_names is False:\n",
    "        return scores\n",
    "    else:\n",
    "        classes = clf.classes_\n",
    "        scores = scores.tolist()[0]\n",
    "        classes = [(classes[i], scores[i]) for i in range(10)]\n",
    "        classes.sort(key=lambda x: x[1], reverse=True)\n",
    "        if return_only_names is True:\n",
    "            classes = [i[0] for i in classes]\n",
    "            print('результаты', classes)\n",
    "        return classes\n",
    "\n",
    "\n",
    "def get_scores_catboost(X, y, x_predict, return_names=False, return_only_names=False):\n",
    "    if return_only_names is True and return_names is False:\n",
    "        raise ValueError(\"return_only_names cannot be True if return_names is False\")\n",
    "    clf = CatBoostClassifier(iterations=1000, learning_rate=0.01, logging_level='Silent').fit(X, y)\n",
    "    scores = clf.predict_proba([x_predict])\n",
    "    if return_names is False:\n",
    "        return scores\n",
    "    else:\n",
    "        classes = clf.classes_\n",
    "        scores = scores.tolist()[0]\n",
    "        classes = [(classes[i], scores[i]) for i in range(10)]\n",
    "        classes.sort(key=lambda x: x[1], reverse=True)\n",
    "        if return_only_names is True:\n",
    "            classes = [i[0] for i in classes]\n",
    "            print(classes)\n",
    "        return classes"
   ],
   "metadata": {
    "collapsed": false,
    "pycharm": {
     "name": "#%%\n"
    }
   }
  },
  {
   "cell_type": "code",
   "execution_count": 46,
   "outputs": [],
   "source": [
    "import random\n",
    "import numpy as np\n",
    "import pandas as pd\n",
    "from pandas import DataFrame\n",
    "from pynndescent import NNDescent\n",
    "from sklearn import preprocessing\n",
    "from tqdm import tqdm\n",
    "\n",
    "\n",
    "def vid_long(videos: DataFrame, user_id: int, users: DataFrame) -> DataFrame:\n",
    "    tqdm.pandas()\n",
    "    hist = users[users[\"user_id\"] == user_id]\n",
    "    hist = pd.merge(hist, videos, on='item_id').drop(columns=[\"user_id\"], axis=1)\n",
    "    for i in tqdm(range(100)):\n",
    "        hist[f\"v_title_{i}\"] = hist.progress_apply(lambda row: row[f\"v_title_{i}\"] * 2\n",
    "        if ((row[\"watch_time\"] / (row[\"duration\"] / 1000)) > 0.25\n",
    "            if (row[\"duration\"] / 1000) > 300\n",
    "            else row[\"watch_time\"] > 30)\n",
    "        else 1, axis=1)\n",
    "        hist[f\"v_title_{i}\"] = preprocessing.minmax_scale(hist[f\"v_title_{i}\"].T).T\n",
    "    return hist.drop(columns=[\"watch_time\", \"duration\"], axis=1)\n",
    "\n",
    "\n",
    "def like(videos: pd.DataFrame, user_id: int, emotions: pd.DataFrame) -> pd.DataFrame:\n",
    "    emotions = emotions[[\"user_id\", \"item_id\", \"type\"]]\n",
    "    emotions = emotions[emotions[\"user_id\"] == user_id]\n",
    "    emotions = emotions[[\"item_id\", \"type\"]]\n",
    "    # hist = users[users[\"user_id\"] == user_id]\n",
    "    # hist = pd.merge(hist, videos, on='item_id').drop(columns=[\"user_id\"], axis=1)\n",
    "    # hist = pd.merge(hist, emotions, left_on='item_id', right_on=\"C3\")\n",
    "    tqdm.pandas()\n",
    "    new_videos = videos.merge(emotions, on=\"item_id\")\n",
    "    if len(new_videos) != 0:\n",
    "        videos = new_videos\n",
    "        for i in tqdm(range(100)):\n",
    "            videos[f\"vid_title_{i}\"] = videos.progress_apply(\n",
    "                lambda row: row[f\"vid_title_{i}\"] * 2 if row[\"type\"] == \"pos_emotions\"\n",
    "                else (0.5 if row[\"type\"] == \"neg_emotions\" else 1), axis=1).to_numpy()\n",
    "            videos[f\"vid_title_{i}\"] = preprocessing.minmax_scale(np.array([videos[f\"vid_title_{i}\"]]).T).T\n",
    "            videos[f\"vid_descr_{i}\"] = preprocessing.minmax_scale(np.array([videos.progress_apply(\n",
    "                lambda row: row[f\"vid_descr_{i}\"] * 2 if row[\"type\"] == \"pos_emotions\"\n",
    "                else (0.5 if row[\"type\"] == \"neg_emotions\" else 1), axis=1).to_numpy()]).T).T\n",
    "\n",
    "            # normalize(np.array([videos.progress_apply(\n",
    "            #         lambda row: row[f\"vtitle{i}\"] * 2 if row[\"C4\"] == \"pos_emotions\"\n",
    "            #         else (0.5 if row[\"C4\"] == \"neg_emotions\" else 1), axis=1).to_numpy()]))[0]\n",
    "        return videos.drop(columns=[\"type\"], axis=1)\n",
    "    else:\n",
    "        return videos\n",
    "    # return videos.drop(columns=[\"type\"], axis=1)\n",
    "\n",
    "\n",
    "def make_vector(data: DataFrame, users: DataFrame, emotions: DataFrame, user_id: str):\n",
    "    # print(\"история просмотра\", video_ids)\n",
    "\n",
    "    video_ids = users.query(\"user_id == @user_id\")[\"item_id\"].values\n",
    "    df = data.loc[data[\"item_id\"].isin(video_ids)]\n",
    "\n",
    "    # vid_long(data, user_id, users)\n",
    "    # likes = like(df, user_id, emotions)\n",
    "\n",
    "    # TODO add weights\n",
    "    return df._get_numeric_data().mean()\n",
    "    # return np.mean(df.drop(['item_id'], axis=1).values, axis=0)\n",
    "    # return np.average(df.drop(['item_id', 'video_description', 'video_title', 'CTR_10days_01_08', 'author_title', 'tv_title', 'CTR_10days_21_07', 'CTR_10days_10_08', 'CTR_10days_21_08', 'tv_sub', 'season', 'publicated', 'category_title'], axis=1).values, axis=0)\n",
    "    # return np.mean(likes.drop(['item_id', 'video_description', 'video_title', 'ctr.CTR_10days_01_08', 'ctr.CTR_10days_21_07', 'ctr.CTR_10days_10_08', 'ctr.CTR_10days_21_08', 'tv_sub', 'season', 'publicated', 'category_title'], axis=1).values, axis=0)\n",
    "\n",
    "\n",
    "def get_video_corpus(data: DataFrame, vector: np.ndarray):\n",
    "    df = data.drop('item_id', axis=1).columns.to_list()\n",
    "    top100nearest = pickled_model.query(pd.DataFrame([vector], columns=df), k=10)\n",
    "    vids_indices = top100nearest[0][0]\n",
    "    res_data = data.iloc[vids_indices]\n",
    "    return res_data.drop(['item_id'], axis=1).values, res_data['item_id'].values\n",
    "    # return res_data.drop(['item_id', 'video_description', 'video_title', 'CTR_10days_01_08','author_title', 'tv_title', 'CTR_10days_21_07', 'CTR_10days_10_08', 'CTR_10days_21_08', 'tv_sub', 'season', 'publicated', 'category_title'], axis=1), res_data['item_id'].values\n",
    "\n",
    "\n",
    "def get_10_category(train_hist: pd.DataFrame, new_hist: pd.DataFrame = None) -> list:\n",
    "    if new_hist is not None:\n",
    "        train_hist = train_hist.append(new_hist, ignore_index=True)\n",
    "    cat_columns = [col for col in tqdm(train_hist.columns) if col.startswith('cat')]\n",
    "    cat_data = train_hist[cat_columns]\n",
    "\n",
    "    # подсчет количества 1 в каждом столбце\n",
    "    counts = cat_data.sum()\n",
    "\n",
    "    # сортировка столбцов по убыванию количества 1 и вывод первых 10\n",
    "    top_columns = counts.sort_values(ascending=False)[:10]\n",
    "    return top_columns\n",
    "\n",
    "\n",
    "def get_top_videos_in_cat(cat_name, train_hist: pd.DataFrame, new_hist: pd.DataFrame = None) -> str:\n",
    "    if new_hist is not None:\n",
    "        train_hist = train_hist.append(new_hist, ignore_index=True)\n",
    "    cat_data = train_hist.loc[train_hist[cat_name] == 1]\n",
    "    counts = cat_data['item_id'].value_counts()\n",
    "    return counts.index[0]\n",
    "\n",
    "\n",
    "def get_top_videos(train_hist: pd.DataFrame, new_hist: pd.DataFrame = None) -> list:\n",
    "    top_category = get_10_category(train_hist, new_hist)\n",
    "    return [get_top_videos_in_cat(i, train_hist, new_hist) for i in tqdm(top_category)]\n",
    "\n",
    "\n",
    "def get_popular() -> np.ndarray:\n",
    "    popular = pd.read_csv(\"top_cat.csv\")\n",
    "    popular = data[\"item_id\"].to_numpy()\n",
    "    popular = np.reshape(popular, (10, 10))\n",
    "    result = []\n",
    "    for i in range(10):\n",
    "        result.append(popular[i][random.randint(0, 9)])\n",
    "    result = np.random.permutation(result)\n",
    "    return result\n",
    "\n",
    "\n",
    "def predict_user(user_id):\n",
    "    user_items = users.loc[users[\"user_id\"] == user_id, \"item_id\"].values\n",
    "    if len(user_items) == 0:\n",
    "        return get_popular()\n",
    "    x_predict = make_vector(data, user_items, users, emotions)\n",
    "    if len(x_predict) == 0:\n",
    "        return get_popular()\n",
    "    corpus, target = get_video_corpus(data, x_predict)\n",
    "    return target\n",
    "\n",
    "\n",
    "def create_submission_file(path: str, data: DataFrame, users: DataFrame, emotions: DataFrame):\n",
    "    test_file = pd.read_csv(path)\n",
    "    user_ids = test_file[\"user_id\"].values\n",
    "    preds = []\n",
    "    for idx, user_id in enumerate(tqdm(user_ids)):\n",
    "        # user_items = users.query(\"user_id == @user_id\")[\"item_id\"].values\n",
    "        x_predict = make_vector(data, users, emotions, user_id)\n",
    "        if len(x_predict) == 0:\n",
    "            preds.append(get_popular)\n",
    "            break\n",
    "        corpus, target = get_video_corpus(data, x_predict)\n",
    "        preds.append(target)\n",
    "\n",
    "        # if idx % 20 == 0:\n",
    "        #     submission = pd.DataFrame({\"user_id\": user_ids[:idx+1], \"recs\": preds})\n",
    "        #     submission.to_csv(f\"submission_{idx}.csv\", index=False)\n",
    "\n",
    "    submission = pd.DataFrame({\"user_id\": user_ids, \"recs\": preds})\n",
    "    submission.to_csv(\"submission.csv\", index=False)"
   ],
   "metadata": {
    "collapsed": false,
    "pycharm": {
     "name": "#%%\n"
    }
   }
  },
  {
   "cell_type": "code",
   "execution_count": 48,
   "outputs": [
    {
     "name": "stderr",
     "output_type": "stream",
     "text": [
      "/var/folders/vn/wf1rpzp51jj_bp2lz71rs3q80000gn/T/ipykernel_784/558106092.py:1: DtypeWarning: Columns (252) have mixed types. Specify dtype option on import or set low_memory=False.\n",
      "  data = pd.read_csv(\"final_df_2.csv\")\n"
     ]
    }
   ],
   "source": [
    "data = pd.read_csv(\"final_df_2.csv\")"
   ],
   "metadata": {
    "collapsed": false,
    "pycharm": {
     "name": "#%%\n"
    }
   }
  },
  {
   "cell_type": "code",
   "execution_count": null,
   "outputs": [],
   "source": [
    "pickled_model = pickle.load(open('final_model_jaccard_2.pkl', 'rb'))"
   ],
   "metadata": {
    "collapsed": false,
    "pycharm": {
     "name": "#%%\n"
    }
   }
  },
  {
   "cell_type": "code",
   "execution_count": 55,
   "outputs": [],
   "source": [
    "data.drop('Unnamed: 0', inplace=True, axis=1)\n",
    "data.drop(['video_description', 'video_title', 'ctr.CTR_10days_01_08', 'author_title', 'tv_title', 'ctr.CTR_10days_21_07', 'ctr.CTR_10days_10_08', 'ctr.CTR_10days_21_08', 'tv_sub', 'season', 'publicated', 'category_title'], axis=1, inplace=True)"
   ],
   "metadata": {
    "collapsed": false,
    "pycharm": {
     "name": "#%%\n"
    }
   }
  },
  {
   "cell_type": "code",
   "execution_count": 6,
   "outputs": [],
   "source": [
    "users = pq.read_table('train_dataset_RUTUBE/player_starts_train.parquet').to_pandas()"
   ],
   "metadata": {
    "collapsed": false,
    "pycharm": {
     "name": "#%%\n"
    }
   }
  },
  {
   "cell_type": "code",
   "execution_count": 5,
   "outputs": [],
   "source": [
    "emotions = pd.read_csv(\"train_dataset_RUTUBE/emotions.csv\")"
   ],
   "metadata": {
    "collapsed": false,
    "pycharm": {
     "name": "#%%\n"
    }
   }
  },
  {
   "cell_type": "code",
   "execution_count": 56,
   "outputs": [],
   "source": [
    "from sklearn.model_selection import train_test_split\n",
    "train, test = train_test_split(data, test_size=0.2, random_state=42)"
   ],
   "metadata": {
    "collapsed": false,
    "pycharm": {
     "name": "#%%\n"
    }
   }
  },
  {
   "cell_type": "code",
   "execution_count": 57,
   "outputs": [
    {
     "data": {
      "text/plain": "               item_id  vid_title_0  vid_title_1  vid_title_2  vid_title_3  \\\n1025987   video_594977     0.143496     0.564228     0.565773     0.133816   \n468859   video_2000944     0.437278     0.502699     0.468497     0.903102   \n1638170   video_947196     0.424399     0.463304     0.310540     0.133427   \n423766   video_2283492     0.534073     0.397533     0.537404     1.000000   \n1597720  video_1537558     0.584030     0.516683     0.733101     0.776581   \n\n         vid_title_4  vid_title_5  vid_title_6  vid_title_7  vid_title_8  ...  \\\n1025987     0.185969     0.739892     0.611547     0.355713     0.433471  ...   \n468859      0.579554     0.583583     0.459427     0.325452     0.720823  ...   \n1638170     0.386383     0.410636     0.441294     0.590166     0.337766  ...   \n423766      0.536180     0.534906     0.333033     0.613686     0.615194  ...   \n1597720     0.642122     0.621102     0.447726     0.435635     0.504945  ...   \n\n         cat_Юмор  duration  channel_sub  upld_year  upld_month  upld_day  \\\n1025987         0    103000            7       2021           7        19   \n468859          0    638456           30       2022           3        15   \n1638170         0     30813           10       2023           4        15   \n423766          0   1516264            1       2023           7        18   \n1597720         0   3840067           18       2023           2         5   \n\n         upld_hour  upld_minute  upld_second  upld_dayofweek  \n1025987         14            0           11               0  \n468859          20           21           22               1  \n1638170         10           52            2               5  \n423766          13           46           18               1  \n1597720          8           47           24               6  \n\n[5 rows x 256 columns]",
      "text/html": "<div>\n<style scoped>\n    .dataframe tbody tr th:only-of-type {\n        vertical-align: middle;\n    }\n\n    .dataframe tbody tr th {\n        vertical-align: top;\n    }\n\n    .dataframe thead th {\n        text-align: right;\n    }\n</style>\n<table border=\"1\" class=\"dataframe\">\n  <thead>\n    <tr style=\"text-align: right;\">\n      <th></th>\n      <th>item_id</th>\n      <th>vid_title_0</th>\n      <th>vid_title_1</th>\n      <th>vid_title_2</th>\n      <th>vid_title_3</th>\n      <th>vid_title_4</th>\n      <th>vid_title_5</th>\n      <th>vid_title_6</th>\n      <th>vid_title_7</th>\n      <th>vid_title_8</th>\n      <th>...</th>\n      <th>cat_Юмор</th>\n      <th>duration</th>\n      <th>channel_sub</th>\n      <th>upld_year</th>\n      <th>upld_month</th>\n      <th>upld_day</th>\n      <th>upld_hour</th>\n      <th>upld_minute</th>\n      <th>upld_second</th>\n      <th>upld_dayofweek</th>\n    </tr>\n  </thead>\n  <tbody>\n    <tr>\n      <th>1025987</th>\n      <td>video_594977</td>\n      <td>0.143496</td>\n      <td>0.564228</td>\n      <td>0.565773</td>\n      <td>0.133816</td>\n      <td>0.185969</td>\n      <td>0.739892</td>\n      <td>0.611547</td>\n      <td>0.355713</td>\n      <td>0.433471</td>\n      <td>...</td>\n      <td>0</td>\n      <td>103000</td>\n      <td>7</td>\n      <td>2021</td>\n      <td>7</td>\n      <td>19</td>\n      <td>14</td>\n      <td>0</td>\n      <td>11</td>\n      <td>0</td>\n    </tr>\n    <tr>\n      <th>468859</th>\n      <td>video_2000944</td>\n      <td>0.437278</td>\n      <td>0.502699</td>\n      <td>0.468497</td>\n      <td>0.903102</td>\n      <td>0.579554</td>\n      <td>0.583583</td>\n      <td>0.459427</td>\n      <td>0.325452</td>\n      <td>0.720823</td>\n      <td>...</td>\n      <td>0</td>\n      <td>638456</td>\n      <td>30</td>\n      <td>2022</td>\n      <td>3</td>\n      <td>15</td>\n      <td>20</td>\n      <td>21</td>\n      <td>22</td>\n      <td>1</td>\n    </tr>\n    <tr>\n      <th>1638170</th>\n      <td>video_947196</td>\n      <td>0.424399</td>\n      <td>0.463304</td>\n      <td>0.310540</td>\n      <td>0.133427</td>\n      <td>0.386383</td>\n      <td>0.410636</td>\n      <td>0.441294</td>\n      <td>0.590166</td>\n      <td>0.337766</td>\n      <td>...</td>\n      <td>0</td>\n      <td>30813</td>\n      <td>10</td>\n      <td>2023</td>\n      <td>4</td>\n      <td>15</td>\n      <td>10</td>\n      <td>52</td>\n      <td>2</td>\n      <td>5</td>\n    </tr>\n    <tr>\n      <th>423766</th>\n      <td>video_2283492</td>\n      <td>0.534073</td>\n      <td>0.397533</td>\n      <td>0.537404</td>\n      <td>1.000000</td>\n      <td>0.536180</td>\n      <td>0.534906</td>\n      <td>0.333033</td>\n      <td>0.613686</td>\n      <td>0.615194</td>\n      <td>...</td>\n      <td>0</td>\n      <td>1516264</td>\n      <td>1</td>\n      <td>2023</td>\n      <td>7</td>\n      <td>18</td>\n      <td>13</td>\n      <td>46</td>\n      <td>18</td>\n      <td>1</td>\n    </tr>\n    <tr>\n      <th>1597720</th>\n      <td>video_1537558</td>\n      <td>0.584030</td>\n      <td>0.516683</td>\n      <td>0.733101</td>\n      <td>0.776581</td>\n      <td>0.642122</td>\n      <td>0.621102</td>\n      <td>0.447726</td>\n      <td>0.435635</td>\n      <td>0.504945</td>\n      <td>...</td>\n      <td>0</td>\n      <td>3840067</td>\n      <td>18</td>\n      <td>2023</td>\n      <td>2</td>\n      <td>5</td>\n      <td>8</td>\n      <td>47</td>\n      <td>24</td>\n      <td>6</td>\n    </tr>\n  </tbody>\n</table>\n<p>5 rows × 256 columns</p>\n</div>"
     },
     "execution_count": 57,
     "metadata": {},
     "output_type": "execute_result"
    }
   ],
   "source": [
    "test.head()"
   ],
   "metadata": {
    "collapsed": false,
    "pycharm": {
     "name": "#%%\n"
    }
   }
  },
  {
   "cell_type": "code",
   "execution_count": 58,
   "outputs": [],
   "source": [
    "neighbors = pickled_model.query(test.drop(['item_id'], axis=1).head(10), k=100)"
   ],
   "metadata": {
    "collapsed": false,
    "pycharm": {
     "name": "#%%\n"
    }
   }
  },
  {
   "cell_type": "code",
   "execution_count": 59,
   "outputs": [
    {
     "name": "stderr",
     "output_type": "stream",
     "text": [
      "  0%|          | 2/97240 [01:21<1095:05:56, 40.54s/it]\n"
     ]
    },
    {
     "ename": "KeyboardInterrupt",
     "evalue": "",
     "output_type": "error",
     "traceback": [
      "\u001B[0;31m---------------------------------------------------------------------------\u001B[0m",
      "\u001B[0;31mKeyboardInterrupt\u001B[0m                         Traceback (most recent call last)",
      "Cell \u001B[0;32mIn[59], line 1\u001B[0m\n\u001B[0;32m----> 1\u001B[0m \u001B[43mcreate_submission_file\u001B[49m\u001B[43m(\u001B[49m\u001B[38;5;124;43m\"\u001B[39;49m\u001B[38;5;124;43mtrain_dataset_RUTUBE/sample_submission.csv\u001B[39;49m\u001B[38;5;124;43m\"\u001B[39;49m\u001B[43m,\u001B[49m\u001B[43m \u001B[49m\u001B[43mdata\u001B[49m\u001B[43m,\u001B[49m\u001B[43m \u001B[49m\u001B[43musers\u001B[49m\u001B[43m,\u001B[49m\u001B[43m \u001B[49m\u001B[43memotions\u001B[49m\u001B[43m)\u001B[49m\n",
      "Cell \u001B[0;32mIn[46], line 133\u001B[0m, in \u001B[0;36mcreate_submission_file\u001B[0;34m(path, data, users, emotions)\u001B[0m\n\u001B[1;32m    130\u001B[0m preds \u001B[38;5;241m=\u001B[39m []\n\u001B[1;32m    131\u001B[0m \u001B[38;5;28;01mfor\u001B[39;00m idx, user_id \u001B[38;5;129;01min\u001B[39;00m \u001B[38;5;28menumerate\u001B[39m(tqdm(user_ids)):\n\u001B[1;32m    132\u001B[0m     \u001B[38;5;66;03m# user_items = users.query(\"user_id == @user_id\")[\"item_id\"].values\u001B[39;00m\n\u001B[0;32m--> 133\u001B[0m     x_predict \u001B[38;5;241m=\u001B[39m \u001B[43mmake_vector\u001B[49m\u001B[43m(\u001B[49m\u001B[43mdata\u001B[49m\u001B[43m,\u001B[49m\u001B[43m \u001B[49m\u001B[43musers\u001B[49m\u001B[43m,\u001B[49m\u001B[43m \u001B[49m\u001B[43memotions\u001B[49m\u001B[43m,\u001B[49m\u001B[43m \u001B[49m\u001B[43muser_id\u001B[49m\u001B[43m)\u001B[49m\n\u001B[1;32m    134\u001B[0m     \u001B[38;5;28;01mif\u001B[39;00m \u001B[38;5;28mlen\u001B[39m(x_predict) \u001B[38;5;241m==\u001B[39m \u001B[38;5;241m0\u001B[39m:\n\u001B[1;32m    135\u001B[0m         preds\u001B[38;5;241m.\u001B[39mappend(get_popular)\n",
      "Cell \u001B[0;32mIn[46], line 56\u001B[0m, in \u001B[0;36mmake_vector\u001B[0;34m(data, users, emotions, user_id)\u001B[0m\n\u001B[1;32m     53\u001B[0m \u001B[38;5;28;01mdef\u001B[39;00m \u001B[38;5;21mmake_vector\u001B[39m(data: DataFrame, users: DataFrame, emotions: DataFrame, user_id: \u001B[38;5;28mstr\u001B[39m):\n\u001B[1;32m     54\u001B[0m     \u001B[38;5;66;03m# print(\"история просмотра\", video_ids)\u001B[39;00m\n\u001B[0;32m---> 56\u001B[0m     video_ids \u001B[38;5;241m=\u001B[39m \u001B[43musers\u001B[49m\u001B[38;5;241;43m.\u001B[39;49m\u001B[43mquery\u001B[49m\u001B[43m(\u001B[49m\u001B[38;5;124;43m\"\u001B[39;49m\u001B[38;5;124;43muser_id == @user_id\u001B[39;49m\u001B[38;5;124;43m\"\u001B[39;49m\u001B[43m)\u001B[49m[\u001B[38;5;124m\"\u001B[39m\u001B[38;5;124mitem_id\u001B[39m\u001B[38;5;124m\"\u001B[39m]\u001B[38;5;241m.\u001B[39mvalues\n\u001B[1;32m     57\u001B[0m     df \u001B[38;5;241m=\u001B[39m data\u001B[38;5;241m.\u001B[39mloc[data[\u001B[38;5;124m\"\u001B[39m\u001B[38;5;124mitem_id\u001B[39m\u001B[38;5;124m\"\u001B[39m]\u001B[38;5;241m.\u001B[39misin(video_ids)]\n\u001B[1;32m     59\u001B[0m     \u001B[38;5;66;03m# vid_long(data, user_id, users)\u001B[39;00m\n\u001B[1;32m     60\u001B[0m     \u001B[38;5;66;03m# likes = like(df, user_id, emotions)\u001B[39;00m\n\u001B[1;32m     61\u001B[0m \n\u001B[1;32m     62\u001B[0m     \u001B[38;5;66;03m# TODO add weights\u001B[39;00m\n",
      "File \u001B[0;32m~/lib/python3.10/site-packages/pandas/util/_decorators.py:331\u001B[0m, in \u001B[0;36mdeprecate_nonkeyword_arguments.<locals>.decorate.<locals>.wrapper\u001B[0;34m(*args, **kwargs)\u001B[0m\n\u001B[1;32m    325\u001B[0m \u001B[38;5;28;01mif\u001B[39;00m \u001B[38;5;28mlen\u001B[39m(args) \u001B[38;5;241m>\u001B[39m num_allow_args:\n\u001B[1;32m    326\u001B[0m     warnings\u001B[38;5;241m.\u001B[39mwarn(\n\u001B[1;32m    327\u001B[0m         msg\u001B[38;5;241m.\u001B[39mformat(arguments\u001B[38;5;241m=\u001B[39m_format_argument_list(allow_args)),\n\u001B[1;32m    328\u001B[0m         \u001B[38;5;167;01mFutureWarning\u001B[39;00m,\n\u001B[1;32m    329\u001B[0m         stacklevel\u001B[38;5;241m=\u001B[39mfind_stack_level(),\n\u001B[1;32m    330\u001B[0m     )\n\u001B[0;32m--> 331\u001B[0m \u001B[38;5;28;01mreturn\u001B[39;00m \u001B[43mfunc\u001B[49m\u001B[43m(\u001B[49m\u001B[38;5;241;43m*\u001B[39;49m\u001B[43margs\u001B[49m\u001B[43m,\u001B[49m\u001B[43m \u001B[49m\u001B[38;5;241;43m*\u001B[39;49m\u001B[38;5;241;43m*\u001B[39;49m\u001B[43mkwargs\u001B[49m\u001B[43m)\u001B[49m\n",
      "File \u001B[0;32m~/lib/python3.10/site-packages/pandas/core/frame.py:4474\u001B[0m, in \u001B[0;36mDataFrame.query\u001B[0;34m(self, expr, inplace, **kwargs)\u001B[0m\n\u001B[1;32m   4472\u001B[0m kwargs[\u001B[38;5;124m\"\u001B[39m\u001B[38;5;124mlevel\u001B[39m\u001B[38;5;124m\"\u001B[39m] \u001B[38;5;241m=\u001B[39m kwargs\u001B[38;5;241m.\u001B[39mpop(\u001B[38;5;124m\"\u001B[39m\u001B[38;5;124mlevel\u001B[39m\u001B[38;5;124m\"\u001B[39m, \u001B[38;5;241m0\u001B[39m) \u001B[38;5;241m+\u001B[39m \u001B[38;5;241m2\u001B[39m\n\u001B[1;32m   4473\u001B[0m kwargs[\u001B[38;5;124m\"\u001B[39m\u001B[38;5;124mtarget\u001B[39m\u001B[38;5;124m\"\u001B[39m] \u001B[38;5;241m=\u001B[39m \u001B[38;5;28;01mNone\u001B[39;00m\n\u001B[0;32m-> 4474\u001B[0m res \u001B[38;5;241m=\u001B[39m \u001B[38;5;28;43mself\u001B[39;49m\u001B[38;5;241;43m.\u001B[39;49m\u001B[43meval\u001B[49m\u001B[43m(\u001B[49m\u001B[43mexpr\u001B[49m\u001B[43m,\u001B[49m\u001B[43m \u001B[49m\u001B[38;5;241;43m*\u001B[39;49m\u001B[38;5;241;43m*\u001B[39;49m\u001B[43mkwargs\u001B[49m\u001B[43m)\u001B[49m\n\u001B[1;32m   4476\u001B[0m \u001B[38;5;28;01mtry\u001B[39;00m:\n\u001B[1;32m   4477\u001B[0m     result \u001B[38;5;241m=\u001B[39m \u001B[38;5;28mself\u001B[39m\u001B[38;5;241m.\u001B[39mloc[res]\n",
      "File \u001B[0;32m~/lib/python3.10/site-packages/pandas/util/_decorators.py:331\u001B[0m, in \u001B[0;36mdeprecate_nonkeyword_arguments.<locals>.decorate.<locals>.wrapper\u001B[0;34m(*args, **kwargs)\u001B[0m\n\u001B[1;32m    325\u001B[0m \u001B[38;5;28;01mif\u001B[39;00m \u001B[38;5;28mlen\u001B[39m(args) \u001B[38;5;241m>\u001B[39m num_allow_args:\n\u001B[1;32m    326\u001B[0m     warnings\u001B[38;5;241m.\u001B[39mwarn(\n\u001B[1;32m    327\u001B[0m         msg\u001B[38;5;241m.\u001B[39mformat(arguments\u001B[38;5;241m=\u001B[39m_format_argument_list(allow_args)),\n\u001B[1;32m    328\u001B[0m         \u001B[38;5;167;01mFutureWarning\u001B[39;00m,\n\u001B[1;32m    329\u001B[0m         stacklevel\u001B[38;5;241m=\u001B[39mfind_stack_level(),\n\u001B[1;32m    330\u001B[0m     )\n\u001B[0;32m--> 331\u001B[0m \u001B[38;5;28;01mreturn\u001B[39;00m \u001B[43mfunc\u001B[49m\u001B[43m(\u001B[49m\u001B[38;5;241;43m*\u001B[39;49m\u001B[43margs\u001B[49m\u001B[43m,\u001B[49m\u001B[43m \u001B[49m\u001B[38;5;241;43m*\u001B[39;49m\u001B[38;5;241;43m*\u001B[39;49m\u001B[43mkwargs\u001B[49m\u001B[43m)\u001B[49m\n",
      "File \u001B[0;32m~/lib/python3.10/site-packages/pandas/core/frame.py:4612\u001B[0m, in \u001B[0;36mDataFrame.eval\u001B[0;34m(self, expr, inplace, **kwargs)\u001B[0m\n\u001B[1;32m   4609\u001B[0m     kwargs[\u001B[38;5;124m\"\u001B[39m\u001B[38;5;124mtarget\u001B[39m\u001B[38;5;124m\"\u001B[39m] \u001B[38;5;241m=\u001B[39m \u001B[38;5;28mself\u001B[39m\n\u001B[1;32m   4610\u001B[0m kwargs[\u001B[38;5;124m\"\u001B[39m\u001B[38;5;124mresolvers\u001B[39m\u001B[38;5;124m\"\u001B[39m] \u001B[38;5;241m=\u001B[39m \u001B[38;5;28mtuple\u001B[39m(kwargs\u001B[38;5;241m.\u001B[39mget(\u001B[38;5;124m\"\u001B[39m\u001B[38;5;124mresolvers\u001B[39m\u001B[38;5;124m\"\u001B[39m, ())) \u001B[38;5;241m+\u001B[39m resolvers\n\u001B[0;32m-> 4612\u001B[0m \u001B[38;5;28;01mreturn\u001B[39;00m \u001B[43m_eval\u001B[49m\u001B[43m(\u001B[49m\u001B[43mexpr\u001B[49m\u001B[43m,\u001B[49m\u001B[43m \u001B[49m\u001B[43minplace\u001B[49m\u001B[38;5;241;43m=\u001B[39;49m\u001B[43minplace\u001B[49m\u001B[43m,\u001B[49m\u001B[43m \u001B[49m\u001B[38;5;241;43m*\u001B[39;49m\u001B[38;5;241;43m*\u001B[39;49m\u001B[43mkwargs\u001B[49m\u001B[43m)\u001B[49m\n",
      "File \u001B[0;32m~/lib/python3.10/site-packages/pandas/core/computation/eval.py:353\u001B[0m, in \u001B[0;36meval\u001B[0;34m(expr, parser, engine, truediv, local_dict, global_dict, resolvers, level, target, inplace)\u001B[0m\n\u001B[1;32m    344\u001B[0m \u001B[38;5;66;03m# get our (possibly passed-in) scope\u001B[39;00m\n\u001B[1;32m    345\u001B[0m env \u001B[38;5;241m=\u001B[39m ensure_scope(\n\u001B[1;32m    346\u001B[0m     level \u001B[38;5;241m+\u001B[39m \u001B[38;5;241m1\u001B[39m,\n\u001B[1;32m    347\u001B[0m     global_dict\u001B[38;5;241m=\u001B[39mglobal_dict,\n\u001B[0;32m   (...)\u001B[0m\n\u001B[1;32m    350\u001B[0m     target\u001B[38;5;241m=\u001B[39mtarget,\n\u001B[1;32m    351\u001B[0m )\n\u001B[0;32m--> 353\u001B[0m parsed_expr \u001B[38;5;241m=\u001B[39m \u001B[43mExpr\u001B[49m\u001B[43m(\u001B[49m\u001B[43mexpr\u001B[49m\u001B[43m,\u001B[49m\u001B[43m \u001B[49m\u001B[43mengine\u001B[49m\u001B[38;5;241;43m=\u001B[39;49m\u001B[43mengine\u001B[49m\u001B[43m,\u001B[49m\u001B[43m \u001B[49m\u001B[43mparser\u001B[49m\u001B[38;5;241;43m=\u001B[39;49m\u001B[43mparser\u001B[49m\u001B[43m,\u001B[49m\u001B[43m \u001B[49m\u001B[43menv\u001B[49m\u001B[38;5;241;43m=\u001B[39;49m\u001B[43menv\u001B[49m\u001B[43m)\u001B[49m\n\u001B[1;32m    355\u001B[0m \u001B[38;5;66;03m# construct the engine and evaluate the parsed expression\u001B[39;00m\n\u001B[1;32m    356\u001B[0m eng \u001B[38;5;241m=\u001B[39m ENGINES[engine]\n",
      "File \u001B[0;32m~/lib/python3.10/site-packages/pandas/core/computation/expr.py:813\u001B[0m, in \u001B[0;36mExpr.__init__\u001B[0;34m(self, expr, engine, parser, env, level)\u001B[0m\n\u001B[1;32m    811\u001B[0m \u001B[38;5;28mself\u001B[39m\u001B[38;5;241m.\u001B[39mparser \u001B[38;5;241m=\u001B[39m parser\n\u001B[1;32m    812\u001B[0m \u001B[38;5;28mself\u001B[39m\u001B[38;5;241m.\u001B[39m_visitor \u001B[38;5;241m=\u001B[39m PARSERS[parser](\u001B[38;5;28mself\u001B[39m\u001B[38;5;241m.\u001B[39menv, \u001B[38;5;28mself\u001B[39m\u001B[38;5;241m.\u001B[39mengine, \u001B[38;5;28mself\u001B[39m\u001B[38;5;241m.\u001B[39mparser)\n\u001B[0;32m--> 813\u001B[0m \u001B[38;5;28mself\u001B[39m\u001B[38;5;241m.\u001B[39mterms \u001B[38;5;241m=\u001B[39m \u001B[38;5;28;43mself\u001B[39;49m\u001B[38;5;241;43m.\u001B[39;49m\u001B[43mparse\u001B[49m\u001B[43m(\u001B[49m\u001B[43m)\u001B[49m\n",
      "File \u001B[0;32m~/lib/python3.10/site-packages/pandas/core/computation/expr.py:832\u001B[0m, in \u001B[0;36mExpr.parse\u001B[0;34m(self)\u001B[0m\n\u001B[1;32m    828\u001B[0m \u001B[38;5;28;01mdef\u001B[39;00m \u001B[38;5;21mparse\u001B[39m(\u001B[38;5;28mself\u001B[39m):\n\u001B[1;32m    829\u001B[0m \u001B[38;5;250m    \u001B[39m\u001B[38;5;124;03m\"\"\"\u001B[39;00m\n\u001B[1;32m    830\u001B[0m \u001B[38;5;124;03m    Parse an expression.\u001B[39;00m\n\u001B[1;32m    831\u001B[0m \u001B[38;5;124;03m    \"\"\"\u001B[39;00m\n\u001B[0;32m--> 832\u001B[0m     \u001B[38;5;28;01mreturn\u001B[39;00m \u001B[38;5;28;43mself\u001B[39;49m\u001B[38;5;241;43m.\u001B[39;49m\u001B[43m_visitor\u001B[49m\u001B[38;5;241;43m.\u001B[39;49m\u001B[43mvisit\u001B[49m\u001B[43m(\u001B[49m\u001B[38;5;28;43mself\u001B[39;49m\u001B[38;5;241;43m.\u001B[39;49m\u001B[43mexpr\u001B[49m\u001B[43m)\u001B[49m\n",
      "File \u001B[0;32m~/lib/python3.10/site-packages/pandas/core/computation/expr.py:415\u001B[0m, in \u001B[0;36mBaseExprVisitor.visit\u001B[0;34m(self, node, **kwargs)\u001B[0m\n\u001B[1;32m    413\u001B[0m method \u001B[38;5;241m=\u001B[39m \u001B[38;5;124m\"\u001B[39m\u001B[38;5;124mvisit_\u001B[39m\u001B[38;5;124m\"\u001B[39m \u001B[38;5;241m+\u001B[39m \u001B[38;5;28mtype\u001B[39m(node)\u001B[38;5;241m.\u001B[39m\u001B[38;5;18m__name__\u001B[39m\n\u001B[1;32m    414\u001B[0m visitor \u001B[38;5;241m=\u001B[39m \u001B[38;5;28mgetattr\u001B[39m(\u001B[38;5;28mself\u001B[39m, method)\n\u001B[0;32m--> 415\u001B[0m \u001B[38;5;28;01mreturn\u001B[39;00m \u001B[43mvisitor\u001B[49m\u001B[43m(\u001B[49m\u001B[43mnode\u001B[49m\u001B[43m,\u001B[49m\u001B[43m \u001B[49m\u001B[38;5;241;43m*\u001B[39;49m\u001B[38;5;241;43m*\u001B[39;49m\u001B[43mkwargs\u001B[49m\u001B[43m)\u001B[49m\n",
      "File \u001B[0;32m~/lib/python3.10/site-packages/pandas/core/computation/expr.py:421\u001B[0m, in \u001B[0;36mBaseExprVisitor.visit_Module\u001B[0;34m(self, node, **kwargs)\u001B[0m\n\u001B[1;32m    419\u001B[0m     \u001B[38;5;28;01mraise\u001B[39;00m \u001B[38;5;167;01mSyntaxError\u001B[39;00m(\u001B[38;5;124m\"\u001B[39m\u001B[38;5;124monly a single expression is allowed\u001B[39m\u001B[38;5;124m\"\u001B[39m)\n\u001B[1;32m    420\u001B[0m expr \u001B[38;5;241m=\u001B[39m node\u001B[38;5;241m.\u001B[39mbody[\u001B[38;5;241m0\u001B[39m]\n\u001B[0;32m--> 421\u001B[0m \u001B[38;5;28;01mreturn\u001B[39;00m \u001B[38;5;28;43mself\u001B[39;49m\u001B[38;5;241;43m.\u001B[39;49m\u001B[43mvisit\u001B[49m\u001B[43m(\u001B[49m\u001B[43mexpr\u001B[49m\u001B[43m,\u001B[49m\u001B[43m \u001B[49m\u001B[38;5;241;43m*\u001B[39;49m\u001B[38;5;241;43m*\u001B[39;49m\u001B[43mkwargs\u001B[49m\u001B[43m)\u001B[49m\n",
      "File \u001B[0;32m~/lib/python3.10/site-packages/pandas/core/computation/expr.py:415\u001B[0m, in \u001B[0;36mBaseExprVisitor.visit\u001B[0;34m(self, node, **kwargs)\u001B[0m\n\u001B[1;32m    413\u001B[0m method \u001B[38;5;241m=\u001B[39m \u001B[38;5;124m\"\u001B[39m\u001B[38;5;124mvisit_\u001B[39m\u001B[38;5;124m\"\u001B[39m \u001B[38;5;241m+\u001B[39m \u001B[38;5;28mtype\u001B[39m(node)\u001B[38;5;241m.\u001B[39m\u001B[38;5;18m__name__\u001B[39m\n\u001B[1;32m    414\u001B[0m visitor \u001B[38;5;241m=\u001B[39m \u001B[38;5;28mgetattr\u001B[39m(\u001B[38;5;28mself\u001B[39m, method)\n\u001B[0;32m--> 415\u001B[0m \u001B[38;5;28;01mreturn\u001B[39;00m \u001B[43mvisitor\u001B[49m\u001B[43m(\u001B[49m\u001B[43mnode\u001B[49m\u001B[43m,\u001B[49m\u001B[43m \u001B[49m\u001B[38;5;241;43m*\u001B[39;49m\u001B[38;5;241;43m*\u001B[39;49m\u001B[43mkwargs\u001B[49m\u001B[43m)\u001B[49m\n",
      "File \u001B[0;32m~/lib/python3.10/site-packages/pandas/core/computation/expr.py:424\u001B[0m, in \u001B[0;36mBaseExprVisitor.visit_Expr\u001B[0;34m(self, node, **kwargs)\u001B[0m\n\u001B[1;32m    423\u001B[0m \u001B[38;5;28;01mdef\u001B[39;00m \u001B[38;5;21mvisit_Expr\u001B[39m(\u001B[38;5;28mself\u001B[39m, node, \u001B[38;5;241m*\u001B[39m\u001B[38;5;241m*\u001B[39mkwargs):\n\u001B[0;32m--> 424\u001B[0m     \u001B[38;5;28;01mreturn\u001B[39;00m \u001B[38;5;28;43mself\u001B[39;49m\u001B[38;5;241;43m.\u001B[39;49m\u001B[43mvisit\u001B[49m\u001B[43m(\u001B[49m\u001B[43mnode\u001B[49m\u001B[38;5;241;43m.\u001B[39;49m\u001B[43mvalue\u001B[49m\u001B[43m,\u001B[49m\u001B[43m \u001B[49m\u001B[38;5;241;43m*\u001B[39;49m\u001B[38;5;241;43m*\u001B[39;49m\u001B[43mkwargs\u001B[49m\u001B[43m)\u001B[49m\n",
      "File \u001B[0;32m~/lib/python3.10/site-packages/pandas/core/computation/expr.py:415\u001B[0m, in \u001B[0;36mBaseExprVisitor.visit\u001B[0;34m(self, node, **kwargs)\u001B[0m\n\u001B[1;32m    413\u001B[0m method \u001B[38;5;241m=\u001B[39m \u001B[38;5;124m\"\u001B[39m\u001B[38;5;124mvisit_\u001B[39m\u001B[38;5;124m\"\u001B[39m \u001B[38;5;241m+\u001B[39m \u001B[38;5;28mtype\u001B[39m(node)\u001B[38;5;241m.\u001B[39m\u001B[38;5;18m__name__\u001B[39m\n\u001B[1;32m    414\u001B[0m visitor \u001B[38;5;241m=\u001B[39m \u001B[38;5;28mgetattr\u001B[39m(\u001B[38;5;28mself\u001B[39m, method)\n\u001B[0;32m--> 415\u001B[0m \u001B[38;5;28;01mreturn\u001B[39;00m \u001B[43mvisitor\u001B[49m\u001B[43m(\u001B[49m\u001B[43mnode\u001B[49m\u001B[43m,\u001B[49m\u001B[43m \u001B[49m\u001B[38;5;241;43m*\u001B[39;49m\u001B[38;5;241;43m*\u001B[39;49m\u001B[43mkwargs\u001B[49m\u001B[43m)\u001B[49m\n",
      "File \u001B[0;32m~/lib/python3.10/site-packages/pandas/core/computation/expr.py:723\u001B[0m, in \u001B[0;36mBaseExprVisitor.visit_Compare\u001B[0;34m(self, node, **kwargs)\u001B[0m\n\u001B[1;32m    721\u001B[0m     op \u001B[38;5;241m=\u001B[39m \u001B[38;5;28mself\u001B[39m\u001B[38;5;241m.\u001B[39mtranslate_In(ops[\u001B[38;5;241m0\u001B[39m])\n\u001B[1;32m    722\u001B[0m     binop \u001B[38;5;241m=\u001B[39m ast\u001B[38;5;241m.\u001B[39mBinOp(op\u001B[38;5;241m=\u001B[39mop, left\u001B[38;5;241m=\u001B[39mnode\u001B[38;5;241m.\u001B[39mleft, right\u001B[38;5;241m=\u001B[39mcomps[\u001B[38;5;241m0\u001B[39m])\n\u001B[0;32m--> 723\u001B[0m     \u001B[38;5;28;01mreturn\u001B[39;00m \u001B[38;5;28;43mself\u001B[39;49m\u001B[38;5;241;43m.\u001B[39;49m\u001B[43mvisit\u001B[49m\u001B[43m(\u001B[49m\u001B[43mbinop\u001B[49m\u001B[43m)\u001B[49m\n\u001B[1;32m    725\u001B[0m \u001B[38;5;66;03m# recursive case: we have a chained comparison, a CMP b CMP c, etc.\u001B[39;00m\n\u001B[1;32m    726\u001B[0m left \u001B[38;5;241m=\u001B[39m node\u001B[38;5;241m.\u001B[39mleft\n",
      "File \u001B[0;32m~/lib/python3.10/site-packages/pandas/core/computation/expr.py:415\u001B[0m, in \u001B[0;36mBaseExprVisitor.visit\u001B[0;34m(self, node, **kwargs)\u001B[0m\n\u001B[1;32m    413\u001B[0m method \u001B[38;5;241m=\u001B[39m \u001B[38;5;124m\"\u001B[39m\u001B[38;5;124mvisit_\u001B[39m\u001B[38;5;124m\"\u001B[39m \u001B[38;5;241m+\u001B[39m \u001B[38;5;28mtype\u001B[39m(node)\u001B[38;5;241m.\u001B[39m\u001B[38;5;18m__name__\u001B[39m\n\u001B[1;32m    414\u001B[0m visitor \u001B[38;5;241m=\u001B[39m \u001B[38;5;28mgetattr\u001B[39m(\u001B[38;5;28mself\u001B[39m, method)\n\u001B[0;32m--> 415\u001B[0m \u001B[38;5;28;01mreturn\u001B[39;00m \u001B[43mvisitor\u001B[49m\u001B[43m(\u001B[49m\u001B[43mnode\u001B[49m\u001B[43m,\u001B[49m\u001B[43m \u001B[49m\u001B[38;5;241;43m*\u001B[39;49m\u001B[38;5;241;43m*\u001B[39;49m\u001B[43mkwargs\u001B[49m\u001B[43m)\u001B[49m\n",
      "File \u001B[0;32m~/lib/python3.10/site-packages/pandas/core/computation/expr.py:538\u001B[0m, in \u001B[0;36mBaseExprVisitor.visit_BinOp\u001B[0;34m(self, node, **kwargs)\u001B[0m\n\u001B[1;32m    536\u001B[0m op, op_class, left, right \u001B[38;5;241m=\u001B[39m \u001B[38;5;28mself\u001B[39m\u001B[38;5;241m.\u001B[39m_maybe_transform_eq_ne(node)\n\u001B[1;32m    537\u001B[0m left, right \u001B[38;5;241m=\u001B[39m \u001B[38;5;28mself\u001B[39m\u001B[38;5;241m.\u001B[39m_maybe_downcast_constants(left, right)\n\u001B[0;32m--> 538\u001B[0m \u001B[38;5;28;01mreturn\u001B[39;00m \u001B[38;5;28;43mself\u001B[39;49m\u001B[38;5;241;43m.\u001B[39;49m\u001B[43m_maybe_evaluate_binop\u001B[49m\u001B[43m(\u001B[49m\u001B[43mop\u001B[49m\u001B[43m,\u001B[49m\u001B[43m \u001B[49m\u001B[43mop_class\u001B[49m\u001B[43m,\u001B[49m\u001B[43m \u001B[49m\u001B[43mleft\u001B[49m\u001B[43m,\u001B[49m\u001B[43m \u001B[49m\u001B[43mright\u001B[49m\u001B[43m)\u001B[49m\n",
      "File \u001B[0;32m~/lib/python3.10/site-packages/pandas/core/computation/expr.py:524\u001B[0m, in \u001B[0;36mBaseExprVisitor._maybe_evaluate_binop\u001B[0;34m(self, op, op_class, lhs, rhs, eval_in_python, maybe_eval_in_python)\u001B[0m\n\u001B[1;32m    520\u001B[0m     \u001B[38;5;28;01mreturn\u001B[39;00m \u001B[38;5;28mself\u001B[39m\u001B[38;5;241m.\u001B[39m_maybe_eval(res, \u001B[38;5;28mself\u001B[39m\u001B[38;5;241m.\u001B[39mbinary_ops)\n\u001B[1;32m    522\u001B[0m \u001B[38;5;28;01mif\u001B[39;00m res\u001B[38;5;241m.\u001B[39mop \u001B[38;5;129;01min\u001B[39;00m eval_in_python:\n\u001B[1;32m    523\u001B[0m     \u001B[38;5;66;03m# \"in\"/\"not in\" ops are always evaluated in python\u001B[39;00m\n\u001B[0;32m--> 524\u001B[0m     \u001B[38;5;28;01mreturn\u001B[39;00m \u001B[38;5;28;43mself\u001B[39;49m\u001B[38;5;241;43m.\u001B[39;49m\u001B[43m_maybe_eval\u001B[49m\u001B[43m(\u001B[49m\u001B[43mres\u001B[49m\u001B[43m,\u001B[49m\u001B[43m \u001B[49m\u001B[43meval_in_python\u001B[49m\u001B[43m)\u001B[49m\n\u001B[1;32m    525\u001B[0m \u001B[38;5;28;01melif\u001B[39;00m \u001B[38;5;28mself\u001B[39m\u001B[38;5;241m.\u001B[39mengine \u001B[38;5;241m!=\u001B[39m \u001B[38;5;124m\"\u001B[39m\u001B[38;5;124mpytables\u001B[39m\u001B[38;5;124m\"\u001B[39m:\n\u001B[1;32m    526\u001B[0m     \u001B[38;5;28;01mif\u001B[39;00m (\n\u001B[1;32m    527\u001B[0m         \u001B[38;5;28mgetattr\u001B[39m(lhs, \u001B[38;5;124m\"\u001B[39m\u001B[38;5;124mreturn_type\u001B[39m\u001B[38;5;124m\"\u001B[39m, \u001B[38;5;28;01mNone\u001B[39;00m) \u001B[38;5;241m==\u001B[39m \u001B[38;5;28mobject\u001B[39m\n\u001B[1;32m    528\u001B[0m         \u001B[38;5;129;01mor\u001B[39;00m \u001B[38;5;28mgetattr\u001B[39m(rhs, \u001B[38;5;124m\"\u001B[39m\u001B[38;5;124mreturn_type\u001B[39m\u001B[38;5;124m\"\u001B[39m, \u001B[38;5;28;01mNone\u001B[39;00m) \u001B[38;5;241m==\u001B[39m \u001B[38;5;28mobject\u001B[39m\n\u001B[1;32m    529\u001B[0m     ):\n\u001B[1;32m    530\u001B[0m         \u001B[38;5;66;03m# evaluate \"==\" and \"!=\" in python if either of our operands\u001B[39;00m\n\u001B[1;32m    531\u001B[0m         \u001B[38;5;66;03m# has an object return type\u001B[39;00m\n",
      "File \u001B[0;32m~/lib/python3.10/site-packages/pandas/core/computation/expr.py:492\u001B[0m, in \u001B[0;36mBaseExprVisitor._maybe_eval\u001B[0;34m(self, binop, eval_in_python)\u001B[0m\n\u001B[1;32m    485\u001B[0m \u001B[38;5;28;01mdef\u001B[39;00m \u001B[38;5;21m_maybe_eval\u001B[39m(\u001B[38;5;28mself\u001B[39m, binop, eval_in_python):\n\u001B[1;32m    486\u001B[0m     \u001B[38;5;66;03m# eval `in` and `not in` (for now) in \"partial\" python space\u001B[39;00m\n\u001B[1;32m    487\u001B[0m     \u001B[38;5;66;03m# things that can be evaluated in \"eval\" space will be turned into\u001B[39;00m\n\u001B[0;32m   (...)\u001B[0m\n\u001B[1;32m    490\u001B[0m     \u001B[38;5;66;03m# in that case a + 2 * b will be evaluated using numexpr, and the \"in\"\u001B[39;00m\n\u001B[1;32m    491\u001B[0m     \u001B[38;5;66;03m# call will be evaluated using isin (in python space)\u001B[39;00m\n\u001B[0;32m--> 492\u001B[0m     \u001B[38;5;28;01mreturn\u001B[39;00m \u001B[43mbinop\u001B[49m\u001B[38;5;241;43m.\u001B[39;49m\u001B[43mevaluate\u001B[49m\u001B[43m(\u001B[49m\n\u001B[1;32m    493\u001B[0m \u001B[43m        \u001B[49m\u001B[38;5;28;43mself\u001B[39;49m\u001B[38;5;241;43m.\u001B[39;49m\u001B[43menv\u001B[49m\u001B[43m,\u001B[49m\u001B[43m \u001B[49m\u001B[38;5;28;43mself\u001B[39;49m\u001B[38;5;241;43m.\u001B[39;49m\u001B[43mengine\u001B[49m\u001B[43m,\u001B[49m\u001B[43m \u001B[49m\u001B[38;5;28;43mself\u001B[39;49m\u001B[38;5;241;43m.\u001B[39;49m\u001B[43mparser\u001B[49m\u001B[43m,\u001B[49m\u001B[43m \u001B[49m\u001B[38;5;28;43mself\u001B[39;49m\u001B[38;5;241;43m.\u001B[39;49m\u001B[43mterm_type\u001B[49m\u001B[43m,\u001B[49m\u001B[43m \u001B[49m\u001B[43meval_in_python\u001B[49m\n\u001B[1;32m    494\u001B[0m \u001B[43m    \u001B[49m\u001B[43m)\u001B[49m\n",
      "File \u001B[0;32m~/lib/python3.10/site-packages/pandas/core/computation/ops.py:427\u001B[0m, in \u001B[0;36mBinOp.evaluate\u001B[0;34m(self, env, engine, parser, term_type, eval_in_python)\u001B[0m\n\u001B[1;32m    410\u001B[0m \u001B[38;5;250m\u001B[39m\u001B[38;5;124;03m\"\"\"\u001B[39;00m\n\u001B[1;32m    411\u001B[0m \u001B[38;5;124;03mEvaluate a binary operation *before* being passed to the engine.\u001B[39;00m\n\u001B[1;32m    412\u001B[0m \n\u001B[0;32m   (...)\u001B[0m\n\u001B[1;32m    424\u001B[0m \u001B[38;5;124;03m    The \"pre-evaluated\" expression as an instance of ``term_type``\u001B[39;00m\n\u001B[1;32m    425\u001B[0m \u001B[38;5;124;03m\"\"\"\u001B[39;00m\n\u001B[1;32m    426\u001B[0m \u001B[38;5;28;01mif\u001B[39;00m engine \u001B[38;5;241m==\u001B[39m \u001B[38;5;124m\"\u001B[39m\u001B[38;5;124mpython\u001B[39m\u001B[38;5;124m\"\u001B[39m:\n\u001B[0;32m--> 427\u001B[0m     res \u001B[38;5;241m=\u001B[39m \u001B[38;5;28;43mself\u001B[39;49m\u001B[43m(\u001B[49m\u001B[43menv\u001B[49m\u001B[43m)\u001B[49m\n\u001B[1;32m    428\u001B[0m \u001B[38;5;28;01melse\u001B[39;00m:\n\u001B[1;32m    429\u001B[0m     \u001B[38;5;66;03m# recurse over the left/right nodes\u001B[39;00m\n\u001B[1;32m    431\u001B[0m     left \u001B[38;5;241m=\u001B[39m \u001B[38;5;28mself\u001B[39m\u001B[38;5;241m.\u001B[39mlhs\u001B[38;5;241m.\u001B[39mevaluate(\n\u001B[1;32m    432\u001B[0m         env,\n\u001B[1;32m    433\u001B[0m         engine\u001B[38;5;241m=\u001B[39mengine,\n\u001B[0;32m   (...)\u001B[0m\n\u001B[1;32m    436\u001B[0m         eval_in_python\u001B[38;5;241m=\u001B[39meval_in_python,\n\u001B[1;32m    437\u001B[0m     )\n",
      "File \u001B[0;32m~/lib/python3.10/site-packages/pandas/core/computation/ops.py:407\u001B[0m, in \u001B[0;36mBinOp.__call__\u001B[0;34m(self, env)\u001B[0m\n\u001B[1;32m    404\u001B[0m left \u001B[38;5;241m=\u001B[39m \u001B[38;5;28mself\u001B[39m\u001B[38;5;241m.\u001B[39mlhs(env)\n\u001B[1;32m    405\u001B[0m right \u001B[38;5;241m=\u001B[39m \u001B[38;5;28mself\u001B[39m\u001B[38;5;241m.\u001B[39mrhs(env)\n\u001B[0;32m--> 407\u001B[0m \u001B[38;5;28;01mreturn\u001B[39;00m \u001B[38;5;28;43mself\u001B[39;49m\u001B[38;5;241;43m.\u001B[39;49m\u001B[43mfunc\u001B[49m\u001B[43m(\u001B[49m\u001B[43mleft\u001B[49m\u001B[43m,\u001B[49m\u001B[43m \u001B[49m\u001B[43mright\u001B[49m\u001B[43m)\u001B[49m\n",
      "File \u001B[0;32m~/lib/python3.10/site-packages/pandas/core/computation/ops.py:265\u001B[0m, in \u001B[0;36m_in\u001B[0;34m(x, y)\u001B[0m\n\u001B[1;32m    260\u001B[0m \u001B[38;5;250m\u001B[39m\u001B[38;5;124;03m\"\"\"\u001B[39;00m\n\u001B[1;32m    261\u001B[0m \u001B[38;5;124;03mCompute the vectorized membership of ``x in y`` if possible, otherwise\u001B[39;00m\n\u001B[1;32m    262\u001B[0m \u001B[38;5;124;03muse Python.\u001B[39;00m\n\u001B[1;32m    263\u001B[0m \u001B[38;5;124;03m\"\"\"\u001B[39;00m\n\u001B[1;32m    264\u001B[0m \u001B[38;5;28;01mtry\u001B[39;00m:\n\u001B[0;32m--> 265\u001B[0m     \u001B[38;5;28;01mreturn\u001B[39;00m \u001B[43mx\u001B[49m\u001B[38;5;241;43m.\u001B[39;49m\u001B[43misin\u001B[49m\u001B[43m(\u001B[49m\u001B[43my\u001B[49m\u001B[43m)\u001B[49m\n\u001B[1;32m    266\u001B[0m \u001B[38;5;28;01mexcept\u001B[39;00m \u001B[38;5;167;01mAttributeError\u001B[39;00m:\n\u001B[1;32m    267\u001B[0m     \u001B[38;5;28;01mif\u001B[39;00m is_list_like(x):\n",
      "File \u001B[0;32m~/lib/python3.10/site-packages/pandas/core/series.py:5563\u001B[0m, in \u001B[0;36mSeries.isin\u001B[0;34m(self, values)\u001B[0m\n\u001B[1;32m   5490\u001B[0m \u001B[38;5;28;01mdef\u001B[39;00m \u001B[38;5;21misin\u001B[39m(\u001B[38;5;28mself\u001B[39m, values) \u001B[38;5;241m-\u001B[39m\u001B[38;5;241m>\u001B[39m Series:\n\u001B[1;32m   5491\u001B[0m \u001B[38;5;250m    \u001B[39m\u001B[38;5;124;03m\"\"\"\u001B[39;00m\n\u001B[1;32m   5492\u001B[0m \u001B[38;5;124;03m    Whether elements in Series are contained in `values`.\u001B[39;00m\n\u001B[1;32m   5493\u001B[0m \n\u001B[0;32m   (...)\u001B[0m\n\u001B[1;32m   5561\u001B[0m \u001B[38;5;124;03m    dtype: bool\u001B[39;00m\n\u001B[1;32m   5562\u001B[0m \u001B[38;5;124;03m    \"\"\"\u001B[39;00m\n\u001B[0;32m-> 5563\u001B[0m     result \u001B[38;5;241m=\u001B[39m \u001B[43malgorithms\u001B[49m\u001B[38;5;241;43m.\u001B[39;49m\u001B[43misin\u001B[49m\u001B[43m(\u001B[49m\u001B[38;5;28;43mself\u001B[39;49m\u001B[38;5;241;43m.\u001B[39;49m\u001B[43m_values\u001B[49m\u001B[43m,\u001B[49m\u001B[43m \u001B[49m\u001B[43mvalues\u001B[49m\u001B[43m)\u001B[49m\n\u001B[1;32m   5564\u001B[0m     \u001B[38;5;28;01mreturn\u001B[39;00m \u001B[38;5;28mself\u001B[39m\u001B[38;5;241m.\u001B[39m_constructor(result, index\u001B[38;5;241m=\u001B[39m\u001B[38;5;28mself\u001B[39m\u001B[38;5;241m.\u001B[39mindex)\u001B[38;5;241m.\u001B[39m__finalize__(\n\u001B[1;32m   5565\u001B[0m         \u001B[38;5;28mself\u001B[39m, method\u001B[38;5;241m=\u001B[39m\u001B[38;5;124m\"\u001B[39m\u001B[38;5;124misin\u001B[39m\u001B[38;5;124m\"\u001B[39m\n\u001B[1;32m   5566\u001B[0m     )\n",
      "File \u001B[0;32m~/lib/python3.10/site-packages/pandas/core/algorithms.py:527\u001B[0m, in \u001B[0;36misin\u001B[0;34m(comps, values)\u001B[0m\n\u001B[1;32m    524\u001B[0m     comps_array \u001B[38;5;241m=\u001B[39m comps_array\u001B[38;5;241m.\u001B[39mastype(common, copy\u001B[38;5;241m=\u001B[39m\u001B[38;5;28;01mFalse\u001B[39;00m)\n\u001B[1;32m    525\u001B[0m     f \u001B[38;5;241m=\u001B[39m htable\u001B[38;5;241m.\u001B[39mismember\n\u001B[0;32m--> 527\u001B[0m \u001B[38;5;28;01mreturn\u001B[39;00m \u001B[43mf\u001B[49m\u001B[43m(\u001B[49m\u001B[43mcomps_array\u001B[49m\u001B[43m,\u001B[49m\u001B[43m \u001B[49m\u001B[43mvalues\u001B[49m\u001B[43m)\u001B[49m\n",
      "\u001B[0;31mKeyboardInterrupt\u001B[0m: "
     ]
    }
   ],
   "source": [
    "create_submission_file(\"train_dataset_RUTUBE/sample_submission.csv\", data, users, emotions)"
   ],
   "metadata": {
    "collapsed": false,
    "pycharm": {
     "name": "#%%\n"
    }
   }
  }
 ],
 "metadata": {
  "kernelspec": {
   "display_name": "Python 3",
   "language": "python",
   "name": "python3"
  },
  "language_info": {
   "codemirror_mode": {
    "name": "ipython",
    "version": 2
   },
   "file_extension": ".py",
   "mimetype": "text/x-python",
   "name": "python",
   "nbconvert_exporter": "python",
   "pygments_lexer": "ipython2",
   "version": "2.7.6"
  }
 },
 "nbformat": 4,
 "nbformat_minor": 0
}