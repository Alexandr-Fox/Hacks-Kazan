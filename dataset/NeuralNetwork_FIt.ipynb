{
 "cells": [
  {
   "cell_type": "markdown",
   "source": [
    "Imports"
   ],
   "metadata": {
    "collapsed": false
   },
   "id": "9c72d6eb84472ddc"
  },
  {
   "cell_type": "code",
   "execution_count": 3,
   "outputs": [],
   "source": [
    "import numpy as np\n",
    "import pyarrow.parquet as pq\n",
    "data = pq.read_table('videos.parquet').to_pandas()\n",
    "data1 = pq.read_table('player_starts_train.parquet').to_pandas()"
   ],
   "metadata": {
    "collapsed": false,
    "ExecuteTime": {
     "end_time": "2023-09-08T14:39:33.003215200Z",
     "start_time": "2023-09-08T14:36:59.901057200Z"
    }
   },
   "id": "edaa2695a95784c5"
  },
  {
   "cell_type": "code",
   "execution_count": 37,
   "outputs": [
    {
     "name": "stdout",
     "output_type": "stream",
     "text": [
      "         item_id                                        video_title  \\\n",
      "0   video_165654  MSI Pro MP241X недоОБЗОР (РЕШЕНИЕ ПРОБЛЕМЫ С М...   \n",
      "1  video_1173704       Наложение пястно фаланговой повязки на кисть   \n",
      "2    video_23927  SilverstoneF1 Sochi Pro и Neoline x cop 6000s ...   \n",
      "3  video_1003780  БОЛЬНИЦА в Brookhaven! ДОКТОР ПУПКИН спас ЖЕНИ...   \n",
      "4   video_105383  Вебинар \"Особенности трудоустройства граждан Б...   \n",
      "\n",
      "                 author_title tv_title  season  \\\n",
      "0                       Silvi     None       0   \n",
      "1  УЦ \"Академия Безопасности\"     None       0   \n",
      "2                     Artur48     None       0   \n",
      "3            ПАПА ДОЧКИ Games     None       0   \n",
      "4          ЗАО \"Сплайн-Центр\"     None       0   \n",
      "\n",
      "                                   video_description  \\\n",
      "0  В видео я обывательским взглядом расскажу про ...   \n",
      "1  Видео с канала УЦ Академия безопасности (ab-dp...   \n",
      "2  SilverstoneF1 Sochi Pro и Neoline x cop 6000s ...   \n",
      "3  Играем в Роблокс (Roblox) - БОЛЬНИЦА в Brookha...   \n",
      "4  10.08.2023 Вебинар \"Особенности трудоустройств...   \n",
      "\n",
      "                 category_title                 publicated  duration  \\\n",
      "0         Технологии и интернет  2022-12-08 13:53:05+03:00    391382   \n",
      "1                   Образование  2022-03-24 09:19:15+03:00    125922   \n",
      "2                     Авто-мото  2022-03-19 17:41:49+03:00    436570   \n",
      "3                         Детям  2021-02-20 11:50:53+03:00    719377   \n",
      "4  Бизнес и предпринимательство  2023-08-11 09:02:07+03:00   3834404   \n",
      "\n",
      "   channel_sub  tv_sub  ctr.CTR_10days_21_07  ctr.CTR_10days_01_08  \\\n",
      "0            0       0                   NaN                   0.0   \n",
      "1           26       0                   NaN                   0.0   \n",
      "2            2       0                   NaN                   NaN   \n",
      "3          673       0                   0.0                   1.0   \n",
      "4           19       0                   0.0                   0.0   \n",
      "\n",
      "   ctr.CTR_10days_10_08  ctr.CTR_10days_21_08  \n",
      "0                   0.0                   NaN  \n",
      "1                   0.0                   0.0  \n",
      "2                   0.0                   0.0  \n",
      "3                   0.0                   0.0  \n",
      "4                   0.0                   0.0  \n"
     ]
    }
   ],
   "source": [
    "print(data.head())"
   ],
   "metadata": {
    "collapsed": false,
    "ExecuteTime": {
     "end_time": "2023-09-08T15:19:39.784248300Z",
     "start_time": "2023-09-08T15:19:39.773877800Z"
    }
   },
   "id": "76abd6a3a7b20878"
  },
  {
   "cell_type": "code",
   "execution_count": 39,
   "outputs": [
    {
     "name": "stdout",
     "output_type": "stream",
     "text": [
      "                               date        user_id        item_id  watch_time  \\\n",
      "2832010   2023-07-22 21:49:35+03:00  user_10000099  video_1880926          80   \n",
      "8446426   2023-07-24 01:49:39+03:00  user_10000099   video_389502           2   \n",
      "8986787   2023-07-25 22:21:24+03:00  user_10000099  video_2330268           2   \n",
      "17077520  2023-07-28 22:00:11+03:00  user_10000099  video_1061900          12   \n",
      "20785693  2023-07-30 20:44:39+03:00  user_10000099   video_488806          12   \n",
      "25401528  2023-08-02 21:54:29+03:00  user_10000099  video_1530565           0   \n",
      "25419526  2023-08-02 21:54:10+03:00  user_10000099  video_1522944           0   \n",
      "25737307  2023-08-02 21:52:50+03:00  user_10000099  video_1981264           0   \n",
      "25816404  2023-08-02 21:53:51+03:00  user_10000099  video_2116322           2   \n",
      "26274060  2023-08-02 21:53:26+03:00  user_10000099  video_1879083           2   \n",
      "26279362  2023-08-02 21:54:00+03:00  user_10000099  video_1599269           2   \n",
      "26342168  2023-08-02 21:52:40+03:00  user_10000099   video_300152           1   \n",
      "26384447  2023-08-02 21:54:39+03:00  user_10000099  video_1886082           0   \n",
      "26828011  2023-08-02 21:54:19+03:00  user_10000099   video_291636           2   \n",
      "27050437  2023-08-02 15:30:49+03:00  user_10000099  video_1657668          12   \n",
      "27201452  2023-08-02 21:53:41+03:00  user_10000099   video_494137           1   \n",
      "43013572  2023-08-10 23:37:41+03:00  user_10000099   video_405887           2   \n",
      "51552929  2023-08-14 11:47:05+03:00  user_10000099   video_909349          12   \n",
      "66580294  2023-08-20 09:49:22+03:00  user_10000099  video_2224179          21   \n",
      "66933347  2023-08-20 09:46:02+03:00  user_10000099  video_1094576         182   \n",
      "68725950  2023-08-21 09:22:38+03:00  user_10000099   video_856096         172   \n",
      "69457351  2023-08-21 09:29:18+03:00  user_10000099    video_30396         102   \n",
      "\n",
      "          is_autorized  \n",
      "2832010              1  \n",
      "8446426              1  \n",
      "8986787              1  \n",
      "17077520             1  \n",
      "20785693             1  \n",
      "25401528             1  \n",
      "25419526             1  \n",
      "25737307             1  \n",
      "25816404             1  \n",
      "26274060             1  \n",
      "26279362             1  \n",
      "26342168             1  \n",
      "26384447             1  \n",
      "26828011             1  \n",
      "27050437             1  \n",
      "27201452             1  \n",
      "43013572             1  \n",
      "51552929             1  \n",
      "66580294             1  \n",
      "66933347             1  \n",
      "68725950             1  \n",
      "69457351             1  \n"
     ]
    }
   ],
   "source": [
    "print(data1[data1[\"is_autorized\"]==1].groupby(\"user_id\").get_group('user_10000099').drop_duplicates(subset=\"item_id\"))"
   ],
   "metadata": {
    "collapsed": false,
    "ExecuteTime": {
     "end_time": "2023-09-08T18:00:11.951032400Z",
     "start_time": "2023-09-08T18:00:09.994266100Z"
    }
   },
   "id": "3753b727c7c75970"
  },
  {
   "cell_type": "code",
   "execution_count": 6,
   "id": "initial_id",
   "metadata": {
    "collapsed": true,
    "ExecuteTime": {
     "end_time": "2023-09-08T20:34:38.852740Z",
     "start_time": "2023-09-08T20:34:38.846965Z"
    }
   },
   "outputs": [],
   "source": [
    "import torch\n",
    "import torch.nn as nn\n",
    "import torch.nn.functional as F\n",
    "import numpy as np"
   ]
  },
  {
   "cell_type": "markdown",
   "source": [
    "Code"
   ],
   "metadata": {
    "collapsed": false
   },
   "id": "d9568afc9b5bdffe"
  },
  {
   "cell_type": "code",
   "execution_count": 21,
   "outputs": [],
   "source": [
    "# a neural network for decreasing the size of the input\n",
    "class Net(nn.Module):\n",
    "    def __init__(self):\n",
    "        super(Net, self).__init__()\n",
    "        self.fc1 = nn.Linear(1024, 512)\n",
    "        self.fc2 = nn.Linear(512, 256)\n",
    "        self.fc3 = nn.Linear(256, 128)\n",
    "\n",
    "    def forward(self, x):\n",
    "        x = F.relu(self.fc1(x))\n",
    "        x = F.relu(self.fc2(x))\n",
    "        return F.relu(self.fc3(x))\n",
    "        "
   ],
   "metadata": {
    "collapsed": false,
    "ExecuteTime": {
     "end_time": "2023-09-08T20:37:25.610157800Z",
     "start_time": "2023-09-08T20:37:25.582219400Z"
    }
   },
   "id": "89e78a97d053f75a"
  },
  {
   "cell_type": "code",
   "execution_count": 22,
   "outputs": [],
   "source": [
    "def decrease_size(data):\n",
    "    net = Net()\n",
    "    net.eval()\n",
    "    data = torch.from_numpy(data).float()\n",
    "    return net(data).detach().numpy()"
   ],
   "metadata": {
    "collapsed": false,
    "ExecuteTime": {
     "end_time": "2023-09-08T20:37:26.417506200Z",
     "start_time": "2023-09-08T20:37:26.408686100Z"
    }
   },
   "id": "35f8b6a869bfe9de"
  },
  {
   "cell_type": "code",
   "execution_count": 24,
   "outputs": [
    {
     "name": "stdout",
     "output_type": "stream",
     "text": [
      "[  0.          0.         12.94321    30.629032   59.617218    0.\n",
      " 138.67238    34.43822     0.          0.         38.90655     0.\n",
      "   0.          0.         56.27171    17.929096    0.          0.\n",
      "  21.217653   39.094078   48.531017    0.          0.          0.\n",
      "   0.         22.264065   59.16696     0.          0.         28.476835\n",
      "  10.252449    0.          9.146922   57.902557    0.          0.\n",
      " 107.68081     0.          0.          0.         25.208141   16.934856\n",
      "  55.319668    0.          0.          0.          0.          0.\n",
      "   0.         60.303253    0.          0.         15.59584     0.\n",
      "  52.634377    0.          0.          0.          0.          5.062809\n",
      "   0.          0.         32.369514    0.          0.          0.\n",
      "  53.70316     1.2037328   0.         27.060648  106.2426      0.\n",
      "   7.5590253  37.19777    65.731895   39.472473    0.        117.197685\n",
      "   0.         38.2471      0.          0.          0.          0.\n",
      "   0.          0.          0.          0.         34.406982    0.\n",
      "   0.          0.         90.88528    34.10051    22.690844   10.119308\n",
      "   0.         21.512627   25.696428  123.057076   65.989555    0.\n",
      " 103.856       0.         61.24269    12.752143    0.         29.205786\n",
      "   0.          0.          0.          0.          0.         85.17008\n",
      "  79.293015   24.718914  110.0453      0.          0.         10.033227\n",
      "   0.          0.          0.         15.02676     0.          1.3120967\n",
      "   0.          0.       ]\n"
     ]
    }
   ],
   "source": [
    "test = np.zeros(1024)\n",
    "for i in range(1024):\n",
    "    test[i] = i\n",
    "print(decrease_size(test))"
   ],
   "metadata": {
    "collapsed": false,
    "ExecuteTime": {
     "end_time": "2023-09-08T20:37:38.318913Z",
     "start_time": "2023-09-08T20:37:38.295698700Z"
    }
   },
   "id": "702e74d64827a377"
  },
  {
   "cell_type": "code",
   "execution_count": null,
   "outputs": [],
   "source": [],
   "metadata": {
    "collapsed": false
   },
   "id": "1bd5af836c4df147"
  }
 ],
 "metadata": {
  "kernelspec": {
   "display_name": "Python 3",
   "language": "python",
   "name": "python3"
  },
  "language_info": {
   "codemirror_mode": {
    "name": "ipython",
    "version": 2
   },
   "file_extension": ".py",
   "mimetype": "text/x-python",
   "name": "python",
   "nbconvert_exporter": "python",
   "pygments_lexer": "ipython2",
   "version": "2.7.6"
  }
 },
 "nbformat": 4,
 "nbformat_minor": 5
}
