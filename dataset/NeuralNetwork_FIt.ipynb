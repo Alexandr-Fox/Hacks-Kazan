{
 "cells": [
  {
   "cell_type": "markdown",
   "source": [
    "Imports"
   ],
   "metadata": {
    "collapsed": false
   },
   "id": "9c72d6eb84472ddc"
  },
  {
   "cell_type": "code",
   "execution_count": 3,
   "outputs": [],
   "source": [
    "import pyarrow.parquet as pq\n",
    "data = pq.read_table('videos.parquet').to_pandas()\n",
    "data1 = pq.read_table('player_starts_train.parquet').to_pandas()"
   ],
   "metadata": {
    "collapsed": false,
    "ExecuteTime": {
     "end_time": "2023-09-08T14:39:33.003215200Z",
     "start_time": "2023-09-08T14:36:59.901057200Z"
    }
   },
   "id": "edaa2695a95784c5"
  },
  {
   "cell_type": "code",
   "execution_count": 37,
   "outputs": [
    {
     "name": "stdout",
     "output_type": "stream",
     "text": [
      "         item_id                                        video_title  \\\n",
      "0   video_165654  MSI Pro MP241X недоОБЗОР (РЕШЕНИЕ ПРОБЛЕМЫ С М...   \n",
      "1  video_1173704       Наложение пястно фаланговой повязки на кисть   \n",
      "2    video_23927  SilverstoneF1 Sochi Pro и Neoline x cop 6000s ...   \n",
      "3  video_1003780  БОЛЬНИЦА в Brookhaven! ДОКТОР ПУПКИН спас ЖЕНИ...   \n",
      "4   video_105383  Вебинар \"Особенности трудоустройства граждан Б...   \n",
      "\n",
      "                 author_title tv_title  season  \\\n",
      "0                       Silvi     None       0   \n",
      "1  УЦ \"Академия Безопасности\"     None       0   \n",
      "2                     Artur48     None       0   \n",
      "3            ПАПА ДОЧКИ Games     None       0   \n",
      "4          ЗАО \"Сплайн-Центр\"     None       0   \n",
      "\n",
      "                                   video_description  \\\n",
      "0  В видео я обывательским взглядом расскажу про ...   \n",
      "1  Видео с канала УЦ Академия безопасности (ab-dp...   \n",
      "2  SilverstoneF1 Sochi Pro и Neoline x cop 6000s ...   \n",
      "3  Играем в Роблокс (Roblox) - БОЛЬНИЦА в Brookha...   \n",
      "4  10.08.2023 Вебинар \"Особенности трудоустройств...   \n",
      "\n",
      "                 category_title                 publicated  duration  \\\n",
      "0         Технологии и интернет  2022-12-08 13:53:05+03:00    391382   \n",
      "1                   Образование  2022-03-24 09:19:15+03:00    125922   \n",
      "2                     Авто-мото  2022-03-19 17:41:49+03:00    436570   \n",
      "3                         Детям  2021-02-20 11:50:53+03:00    719377   \n",
      "4  Бизнес и предпринимательство  2023-08-11 09:02:07+03:00   3834404   \n",
      "\n",
      "   channel_sub  tv_sub  ctr.CTR_10days_21_07  ctr.CTR_10days_01_08  \\\n",
      "0            0       0                   NaN                   0.0   \n",
      "1           26       0                   NaN                   0.0   \n",
      "2            2       0                   NaN                   NaN   \n",
      "3          673       0                   0.0                   1.0   \n",
      "4           19       0                   0.0                   0.0   \n",
      "\n",
      "   ctr.CTR_10days_10_08  ctr.CTR_10days_21_08  \n",
      "0                   0.0                   NaN  \n",
      "1                   0.0                   0.0  \n",
      "2                   0.0                   0.0  \n",
      "3                   0.0                   0.0  \n",
      "4                   0.0                   0.0  \n"
     ]
    }
   ],
   "source": [
    "print(data.head())"
   ],
   "metadata": {
    "collapsed": false,
    "ExecuteTime": {
     "end_time": "2023-09-08T15:19:39.784248300Z",
     "start_time": "2023-09-08T15:19:39.773877800Z"
    }
   },
   "id": "76abd6a3a7b20878"
  },
  {
   "cell_type": "code",
   "execution_count": 36,
   "outputs": [
    {
     "name": "stdout",
     "output_type": "stream",
     "text": [
      "                               date       user_id       item_id  watch_time  \\\n",
      "24173053  2023-08-01 22:02:18+03:00  user_9999974  video_800600          32   \n",
      "33010640  2023-08-05 16:01:32+03:00  user_9999974  video_187718          72   \n",
      "68622887  2023-08-21 20:05:01+03:00  user_9999974  video_380634          31   \n",
      "\n",
      "          is_autorized  \n",
      "24173053             1  \n",
      "33010640             1  \n",
      "68622887             1  \n"
     ]
    }
   ],
   "source": [
    "print(data1[data1[\"is_autorized\"]==1].groupby(\"user_id\").get_group('user_9999974').drop_duplicates(subset=\"item_id\"))"
   ],
   "metadata": {
    "collapsed": false,
    "ExecuteTime": {
     "end_time": "2023-09-08T15:15:17.078267Z",
     "start_time": "2023-09-08T15:15:15.311008300Z"
    }
   },
   "id": "3753b727c7c75970"
  },
  {
   "cell_type": "code",
   "execution_count": 1,
   "id": "initial_id",
   "metadata": {
    "collapsed": true,
    "ExecuteTime": {
     "end_time": "2023-09-08T14:10:05.532146300Z",
     "start_time": "2023-09-08T14:10:02.735560Z"
    }
   },
   "outputs": [],
   "source": [
    "import torch\n",
    "import torch.nn as nn\n",
    "import torch.nn.functional as F"
   ]
  },
  {
   "cell_type": "markdown",
   "source": [
    "Code"
   ],
   "metadata": {
    "collapsed": false
   },
   "id": "d9568afc9b5bdffe"
  },
  {
   "cell_type": "code",
   "execution_count": null,
   "outputs": [],
   "source": [
    "class Net(nn.Module):\n",
    "\n",
    "    def __init__(self):\n",
    "        super(Net, self).__init__()\n",
    "\n",
    "        self.relu = nn.ReLU()\n",
    "        self.conv1 = nn.Conv2d(1, 6, 5)\n",
    "        self.pool1 = nn.MaxPool2d(2, 2)\n",
    "        self.conv2 = nn.Conv2d(6, 16, 5)\n",
    "        self.pool2 = nn.MaxPool2d(2, 2)\n",
    "        self.conv3 = nn.Conv2d(16, 120, 5)\n",
    "        self.fc1 = nn.Linear(120, 84)\n",
    "        self.fc2 = nn.Linear(84, 10)\n",
    "        \n",
    "    def forward(self, x):\n",
    "        x = self.relu(self.conv1(x))\n",
    "        x = self.pool1(x)\n",
    "        x = self.relu(self.conv2(x))\n",
    "        x = self.pool2(x)\n",
    "        x = self.relu(self.conv3(x))\n",
    "        x = x.view(-1, 120)\n",
    "        x = self.relu(self.fc1(x))\n",
    "        x = self.fc2(x)\n",
    "        return x\n",
    "        "
   ],
   "metadata": {
    "collapsed": false
   },
   "id": "2aa07f792e1a044d"
  }
 ],
 "metadata": {
  "kernelspec": {
   "display_name": "Python 3",
   "language": "python",
   "name": "python3"
  },
  "language_info": {
   "codemirror_mode": {
    "name": "ipython",
    "version": 2
   },
   "file_extension": ".py",
   "mimetype": "text/x-python",
   "name": "python",
   "nbconvert_exporter": "python",
   "pygments_lexer": "ipython2",
   "version": "2.7.6"
  }
 },
 "nbformat": 4,
 "nbformat_minor": 5
}
