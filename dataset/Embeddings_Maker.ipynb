{
 "cells": [
  {
   "cell_type": "markdown",
   "source": [
    "Imports"
   ],
   "metadata": {
    "collapsed": false
   },
   "id": "f7e1dbdd10824935"
  },
  {
   "cell_type": "code",
   "execution_count": 2,
   "outputs": [],
   "source": [
    "from typing import List, Dict, Tuple, Any, Callable\n",
    "import numpy as np\n",
    "import pandas as pd\n",
    "from transformers import AutoTokenizer, AutoModel\n",
    "import itertools\n",
    "import torch\n",
    "from transformers import AutoTokenizer, AutoModel"
   ],
   "metadata": {
    "collapsed": false,
    "ExecuteTime": {
     "end_time": "2023-09-08T13:54:04.127525300Z",
     "start_time": "2023-09-08T13:54:03.510431700Z"
    }
   },
   "id": "18b590e81e359dc9"
  },
  {
   "cell_type": "markdown",
   "source": [
    "Code"
   ],
   "metadata": {
    "collapsed": false
   },
   "id": "a26d85a1f6f3b4aa"
  },
  {
   "cell_type": "code",
   "execution_count": 12,
   "outputs": [
    {
     "name": "stdout",
     "output_type": "stream",
     "text": [
      "torch.Size([1, 11, 768])\n"
     ]
    }
   ],
   "source": [
    "input_text = \"Это пример предложения для эмбеддингов\"\n",
    "input_ids = torch.tensor([tokenizer.encode(input_text)])\n",
    "with torch.no_grad():\n",
    "    model_output = model(input_ids)\n",
    "bert_embeddings = model_output[0]\n",
    "print(bert_embeddings.shape)"
   ],
   "metadata": {
    "collapsed": false,
    "ExecuteTime": {
     "end_time": "2023-09-08T13:19:42.723586100Z",
     "start_time": "2023-09-08T13:19:42.673919Z"
    }
   },
   "id": "236b41ea2f70af10"
  },
  {
   "cell_type": "code",
   "execution_count": 3,
   "outputs": [],
   "source": [
    "# Global vars\n",
    "_verbose = 0\n",
    "_batch_size = 1\n",
    "# bert_path = \"../\"\n",
    "# Init word embedding models once\n",
    "tokenizer = AutoTokenizer.from_pretrained(\"deepvk/deberta-v1-base\")\n",
    "model = AutoModel.from_pretrained(\"deepvk/deberta-v1-base\", output_hidden_states=True)\n",
    "\n",
    "# Helper func 1\n",
    "def get_word_idx(sent: str, word: str) -> int:\n",
    "    \"\"\"split sentences and add index to each word. Each word has its own index based on when it was added to the list first\n",
    "    Args:\n",
    "        sent (str): sentence in string\n",
    "        word (str): word in string\n",
    "    Returns:\n",
    "        int: output the index of where the word correspond to in each sentence input\n",
    "    \"\"\"\n",
    "    return sent.lower().split(\" \").index(word)\n",
    "\n",
    "\n",
    "# Helper func 2\n",
    "def get_hidden_states(sent, tokenizer, model, layers):\n",
    "    \"\"\"Push input IDs through model. Stack and sum `layers` (last four by default).\n",
    "       Select only those subword token outputs that belong to our word of interest\n",
    "       and average them.\n",
    "    Args:\n",
    "        sent (str): Input sentence\n",
    "        tokenizer : Tokenizer function\n",
    "        model: bert model\n",
    "        layers : last 4 model of model\n",
    "    Returns:\n",
    "        output: tensor torch\n",
    "    \"\"\"\n",
    "    # encode without adding [CLS] and [SEP] tokens\n",
    "    encoded = tokenizer.encode_plus(sent, return_tensors=\"pt\", add_special_tokens=False)\n",
    "\n",
    "    with torch.no_grad():\n",
    "        output = model(**encoded)\n",
    "\n",
    "    # Get all hidden states\n",
    "    states = output.hidden_states\n",
    "    # Stack and sum all requested layers\n",
    "    output = torch.stack([states[i] for i in layers]).sum(0).squeeze()\n",
    "    # Only select the tokens that constitute the requested word\n",
    "    return output\n",
    "\n",
    "\n",
    "# Helper func 3\n",
    "def chunking(max_len, sent):\n",
    "    \"\"\"because the embedding function is trained on dim 512, so we have to limit the size of the sentences using max_len so the final chunked sentences wont exceed length 512\n",
    "    Args:\n",
    "        max_len (int): maximum number of tokens for each chunk\n",
    "        sent (str): input sentence\n",
    "    Returns:\n",
    "        sent_chunk (List(str)): list of chunked sentences\n",
    "    \"\"\"\n",
    "    tokenized_text = sent.lower().split(\" \")\n",
    "    # using list comprehension\n",
    "    final = [\n",
    "        tokenized_text[i * max_len : (i + 1) * max_len]\n",
    "        for i in range((len(tokenized_text) + max_len - 1) // max_len)\n",
    "    ]\n",
    "\n",
    "    # join back to sentences for each of the chunks\n",
    "    sent_chunk = []\n",
    "    for item in final:\n",
    "        # make sure the len(items) > 1 or else some of the embeddings will appear as len 1 instead of 768.\n",
    "        assert len(item) > 1\n",
    "        sent_chunk.append(\" \".join(item))\n",
    "    return sent_chunk"
   ],
   "metadata": {
    "collapsed": false,
    "ExecuteTime": {
     "end_time": "2023-09-08T13:54:08.997188100Z",
     "start_time": "2023-09-08T13:54:06.293839200Z"
    }
   },
   "id": "3dd53eab8eb4b567"
  },
  {
   "cell_type": "code",
   "execution_count": 4,
   "outputs": [],
   "source": [
    "def main_avg(sent: str, layers=None, chunk_size=300):\n",
    "    \"\"\"Gives the average word embedding per sentence\n",
    "\n",
    "    Args:\n",
    "        sent (str): The input sentence\n",
    "\n",
    "    Returns:\n",
    "        torch tensor: word embedding per sentence, dim = 768\n",
    "    \"\"\"\n",
    "    # change all standard form numbers to decimal\n",
    "    np.set_printoptions(formatter={\"float_kind\": \"{:f}\".format})\n",
    "\n",
    "    # Use last four layers by default\n",
    "    layers = [-4, -3, -2, -1] if layers is None else layers\n",
    "    global tokenizer\n",
    "    global model\n",
    "\n",
    "    # chunking\n",
    "    chunked_tokens = chunking(chunk_size, sent)  # helper func 3\n",
    "\n",
    "    # initialise a outside chunk\n",
    "    word_embedding_avg_collective = []\n",
    "    # for each chunked token, we embed them separately\n",
    "    for item in chunked_tokens:\n",
    "        # adding tensors\n",
    "        word_embedding_torch = get_hidden_states(\n",
    "            item, tokenizer, model, layers\n",
    "        )  # helper fun 2\n",
    "\n",
    "        # convert torch tensor to numpy array\n",
    "        word_embedding_avg_np = word_embedding_torch.cpu().detach().numpy()\n",
    "        word_embedding_avg_chunks = np.mean(word_embedding_avg_np, axis=0)\n",
    "        word_embedding_avg_collective.append(word_embedding_avg_chunks)\n",
    "    word_embedding_avg = np.mean(word_embedding_avg_collective, axis=0)\n",
    "    assert len(word_embedding_avg) == 768\n",
    "    return word_embedding_avg"
   ],
   "metadata": {
    "collapsed": false,
    "ExecuteTime": {
     "end_time": "2023-09-08T13:54:16.650851600Z",
     "start_time": "2023-09-08T13:54:16.612668500Z"
    }
   },
   "id": "d3422d367ccaab00"
  },
  {
   "cell_type": "code",
   "execution_count": 12,
   "outputs": [
    {
     "name": "stdout",
     "output_type": "stream",
     "text": [
      "[0.369115 -0.290790 1.333342 -1.083138 0.412907 -0.443546 -0.069624\n",
      " -9.860280 -0.538551 -0.654225 0.108648 0.365405 -0.416808 -0.951250\n",
      " -0.081191 -0.049205 0.543378 -0.570664 -1.160450 0.053071 0.479706\n",
      " -0.052462 -0.656499 -1.505008 -0.520346 0.673665 0.210586 0.923983\n",
      " 1.010185 1.910658 -0.319075 -0.472100 0.524774 -0.170134 -1.138236\n",
      " 1.173258 0.018227 -1.051024 -0.073268 -0.387759 -0.466832 0.402000\n",
      " 0.102785 -0.588362 0.659817 -0.775767 0.111295 0.172673 -0.769767\n",
      " 0.703399 -0.053231 0.234463 0.915914 0.395673 -0.006962 1.110569 0.036302\n",
      " -0.935259 0.581140 -0.721152 0.726095 1.674190 -0.610191 -0.252199\n",
      " -0.367069 -0.388982 -0.030001 0.590770 -1.815267 0.988255 1.028563\n",
      " 0.361742 -0.014706 0.669818 0.277727 -1.271986 -0.158736 -0.208780\n",
      " -0.084705 -1.422081 0.298740 -0.520150 -0.281948 0.482153 0.552460\n",
      " -0.143972 0.025073 -1.099061 -0.242412 -0.018601 0.073086 0.165035\n",
      " 0.613909 -0.220386 0.740834 0.685412 -0.402224 0.034771 0.746321\n",
      " -1.078444 0.474506 -0.368160 -0.528261 0.156363 0.017260 -0.493690\n",
      " 0.599110 0.348869 0.615422 -0.089094 -0.185152 0.309245 -0.838304\n",
      " -0.509950 -0.764656 1.311683 -1.600755 -0.844459 0.791205 -0.082524\n",
      " -0.816151 -0.036018 0.023892 0.038605 -0.087474 -1.258908 0.760017\n",
      " -0.449085 -0.632025 -0.487246 -1.244762 -0.334378 0.037090 -0.557737\n",
      " -1.431031 -1.353000 0.016336 -0.249138 -0.503857 -1.347127 -0.332903\n",
      " -1.811034 -0.845055 0.281592 0.441901 -0.368245 -0.409324 0.068455\n",
      " -0.405930 -1.867456 -1.349605 -0.212515 -0.660456 -0.005685 1.331329\n",
      " -0.226723 1.410020 0.295493 -1.188262 0.571128 -0.291715 0.711814\n",
      " -0.251659 -4.593713 -0.271498 -0.225342 0.032322 -0.023678 -0.477325\n",
      " -3.087164 0.629521 -0.702486 -0.431204 0.145140 0.356581 -0.369945\n",
      " 0.316159 -0.163951 -0.047464 1.097468 -0.367884 0.302973 -0.388120\n",
      " -0.193653 1.934790 0.686232 -0.715207 1.041681 0.624344 -0.140965\n",
      " -0.141109 0.734727 -0.318163 -0.117591 -0.169715 0.567466 -0.462603\n",
      " -0.504219 1.051136 -0.856175 -0.633174 1.069277 -0.433018 -0.063189\n",
      " 0.007204 -0.292286 -0.266080 0.571794 -0.382979 0.135232 -1.322320\n",
      " 0.204604 0.364862 -0.562330 -0.213917 -2.161244 -0.694435 -0.278689\n",
      " -0.135144 1.062808 0.348339 0.356884 0.732566 -0.180367 0.526955\n",
      " -0.416743 0.082277 -0.426625 0.392430 0.312138 2.392705 -0.815497\n",
      " 0.264808 -0.704893 2.268814 -0.557430 0.013644 -0.011481 0.209821\n",
      " 0.064818 -0.993968 0.082691 0.168964 -0.407604 0.184910 0.345735\n",
      " -0.028782 -0.695881 1.197983 0.187595 -0.258187 0.110455 -1.132473\n",
      " 0.379380 -0.811098 -0.509727 1.329719 0.935261 -1.305705 1.156440\n",
      " -0.026136 -1.113755 0.197815 6.226073 -0.866601 1.450578 0.697024\n",
      " -7.947515 -0.407761 0.471244 0.128448 0.710857 0.347028 -0.312300\n",
      " 0.563546 -1.109971 -0.140365 -0.525527 0.152569 -0.661956 -1.263249\n",
      " 0.615594 -0.333321 -0.253036 0.158476 0.425137 -1.412974 -0.848947\n",
      " 1.156554 -0.456329 0.354239 0.241455 0.018242 -0.844541 -0.303348\n",
      " -0.428982 -0.650385 -0.503469 -0.219396 -1.224016 0.417847 0.459773\n",
      " -0.328096 0.076056 1.061444 -0.018280 -0.418293 -0.053021 0.219898\n",
      " 1.126054 0.144057 0.729380 -0.582167 0.811732 -1.589468 -0.520524\n",
      " -1.921551 4.500372 0.522383 -0.426749 -0.674497 0.090767 0.124112\n",
      " -0.428917 0.461140 -1.571209 0.176237 0.183240 -1.050393 0.159671\n",
      " -0.280433 -1.466526 0.101537 0.805438 0.925472 0.911070 1.221718 0.520815\n",
      " -0.584892 0.236884 -0.023795 0.542605 -0.887508 -0.351326 -0.274303\n",
      " 0.208746 0.455407 -0.613611 -0.182043 0.959762 -0.408936 1.298080\n",
      " -0.175775 0.310826 0.233251 -3.287193 1.017423 -0.064373 0.087325\n",
      " 0.555912 0.490996 0.021136 -0.090672 -0.652503 0.573913 0.327988\n",
      " -0.847895 -0.102623 -0.105528 0.001195 0.045357 1.142978 -0.328648\n",
      " 1.242392 -0.193036 -0.977383 2.046210 0.941648 -0.914058 0.394569\n",
      " 0.004882 1.411354 0.946963 0.150105 0.634732 -0.128086 0.691265 -1.741850\n",
      " 0.011380 0.280235 -0.470410 -0.044040 0.344212 -0.306130 0.312649\n",
      " 0.691603 0.660764 -0.342251 0.111532 -0.103575 0.095289 -1.413270\n",
      " -0.461023 0.252365 -0.345304 -0.396778 -0.971492 -1.205139 -0.942080\n",
      " 0.371292 0.281963 -1.296049 0.522496 0.526058 1.004366 2.133057 1.626753\n",
      " 0.299423 1.196508 -0.293470 -0.136310 -1.341730 0.356566 0.802071\n",
      " 0.846780 0.257968 -0.559513 0.193989 -0.658810 -1.191904 0.469193\n",
      " -0.039235 -0.203260 0.329281 0.126501 -2.054020 0.371791 0.444231\n",
      " 1.573995 -0.841288 -0.395569 -0.275275 0.871791 -0.617335 -0.944040\n",
      " 0.171224 -0.083161 0.057740 -0.852460 -0.588501 -0.141932 -0.358803\n",
      " -0.123926 -0.140732 0.386139 -0.133230 -1.002205 0.324160 -0.365832\n",
      " -0.668599 -0.290177 0.129987 1.478562 -0.075971 -0.860141 -1.321752\n",
      " -1.150175 -0.006964 0.506027 -0.761013 0.983105 -2.041154 -0.126991\n",
      " -0.389055 -0.654014 -0.631272 0.327011 0.673309 -0.777774 -0.204009\n",
      " 0.526584 -0.797179 -0.372650 -1.087883 -0.939366 -2.323581 -0.004589\n",
      " -1.015118 0.009866 -0.391035 -0.307483 -0.511118 -0.156805 -0.074752\n",
      " 0.589695 -0.354833 0.690574 -0.004457 0.428094 -0.199883 -1.379274\n",
      " 0.879181 -0.167787 0.476687 -0.538357 0.198915 -0.947465 -0.037261\n",
      " -0.610472 -0.020651 1.083720 -0.000122 0.098266 -0.578831 -0.132766\n",
      " 0.028978 -0.008428 -0.115947 0.132315 -0.135897 0.687381 0.273345\n",
      " 0.038636 -0.742603 -0.859264 -0.675948 0.201330 -0.218369 -1.244939\n",
      " -0.058518 -0.295901 -0.370860 -0.912280 0.435562 1.854827 0.077958\n",
      " 0.172071 -0.023371 -0.694550 0.628819 0.050375 -1.330175 -0.608245\n",
      " 0.121937 0.035415 0.303103 -0.386425 -0.986076 0.407491 -1.159568\n",
      " -1.503719 0.873962 -0.381600 -0.885869 0.198667 0.944692 -0.161831\n",
      " 0.049907 0.502163 0.118180 0.022753 -0.289197 0.331478 0.023916 -2.623579\n",
      " -1.027654 -0.105709 -0.116956 -0.798585 -0.280715 13.056349 -0.500676\n",
      " -0.418460 -1.368171 -0.740009 -0.572818 0.365124 1.023327 -0.397104\n",
      " 0.079751 0.703602 -0.144023 0.202305 0.815689 0.133275 -0.680579 0.393170\n",
      " 0.305787 0.185526 -0.174940 0.848202 -0.580287 -0.138944 -0.656712\n",
      " 0.130616 -0.201298 -0.935681 -0.093388 -0.280712 1.003108 -1.358429\n",
      " 0.037999 0.301613 0.577187 0.323403 -0.347776 2.428693 -0.536410 0.276170\n",
      " 0.793924 -0.109591 0.790814 -0.236888 -0.009324 -0.336397 -0.534983\n",
      " 0.630735 -0.281317 -0.171766 -0.246975 -0.437719 -0.371056 1.499787\n",
      " -0.259784 0.210128 -0.447255 0.511163 -0.068858 1.269022 0.449947\n",
      " 0.995373 -0.123005 -1.295333 -1.486397 -1.143533 0.873747 0.066676\n",
      " 1.476118 0.415254 -0.276634 -0.197765 0.661795 -0.225536 1.643150\n",
      " -0.813181 0.578959 -0.845702 -0.222401 -0.719415 0.616937 -0.046026\n",
      " -0.799512 0.469750 0.103438 0.753078 -1.069567 1.335637 0.074155\n",
      " -0.276384 -0.622371 -0.660513 -0.156719 0.288493 -0.559662 -0.375087\n",
      " 0.112555 -0.345603 0.205213 0.014291 -1.158560 -0.678066 -2.252973\n",
      " 0.223691 0.506174 -0.578353 -0.453373 -0.072674 -0.695182 -0.011947\n",
      " 0.324935 -0.158539 -0.167852 0.648452 -0.717308 -0.320658 1.583598\n",
      " 0.126095 -0.639372 0.776549 0.174994 -0.357753 -0.554775 -0.891610\n",
      " -0.089734 0.628773 -0.056870 -0.370768 -1.321994 0.173931 0.394974\n",
      " 0.950691 0.055103 0.156996 -0.325053 -0.945585 -0.504935 0.115084\n",
      " 0.426146 -0.135681 -0.405231 -0.539152 1.172773 -0.750168 -0.435116\n",
      " -0.298441 -0.284151 -0.312154 0.820175 0.751879 -0.270683 0.052003\n",
      " -0.335047 -1.267451 -0.601238 0.220440 -1.192552 -0.376265 -0.178978\n",
      " -0.048699 -0.490465 -0.696373 0.726049 -0.251313 0.020323 0.178107\n",
      " -0.141217 1.017338 1.310490 -0.502376 -0.192671 0.786493 -0.673748\n",
      " -0.742084 -0.671733 -0.772101 1.331462 -0.864096 -0.859804 0.150499\n",
      " 0.484025 0.182246 -0.322551 -0.626442 -0.246978 -1.140163 -1.258145\n",
      " 1.002189 -0.223483 -0.485150 0.395682 -1.033368 0.774052 -0.457260\n",
      " 0.265756 -0.272914 0.574764 -0.490523 0.239710]\n"
     ]
    }
   ],
   "source": [
    "avg_input = main_avg(\"Это пример предложения для эмбеддингов\", layers=None, chunk_size=300)\n",
    "print(avg_input)"
   ],
   "metadata": {
    "collapsed": false,
    "ExecuteTime": {
     "end_time": "2023-09-08T18:57:42.145561500Z",
     "start_time": "2023-09-08T18:57:42.023296Z"
    }
   },
   "id": "c53ebceb730c3f3"
  },
  {
   "cell_type": "code",
   "execution_count": 1,
   "outputs": [],
   "source": [
    "import pyarrow.parquet as pq\n",
    "\n",
    "df = pq.read_table('player_starts_train.parquet').to_pandas()"
   ],
   "metadata": {
    "collapsed": false,
    "ExecuteTime": {
     "end_time": "2023-09-09T17:56:34.779947800Z",
     "start_time": "2023-09-09T17:54:37.478176300Z"
    }
   },
   "id": "64989322976ce4bd"
  },
  {
   "cell_type": "code",
   "execution_count": 4,
   "outputs": [
    {
     "name": "stdout",
     "output_type": "stream",
     "text": [
      "                        date        user_id        item_id  watch_time  \\\n",
      "0  2023-07-21 19:04:50+03:00  user_12964323  video_1042531          51   \n",
      "1  2023-07-21 02:02:41+03:00     user_16517  video_1707159          31   \n",
      "2  2023-07-21 22:00:47+03:00  user_15057892  video_1989987           9   \n",
      "3  2023-07-21 19:09:43+03:00   user_2846972  video_1356486          -1   \n",
      "4  2023-07-21 11:06:58+03:00  user_20517034  video_1380654          11   \n",
      "5  2023-07-21 23:24:41+03:00   user_8293675   video_331810         340   \n",
      "6  2023-07-21 21:07:45+03:00   user_9408179   video_168375         281   \n",
      "7  2023-07-21 20:08:10+03:00   user_3700170  video_1092603           2   \n",
      "8  2023-07-21 04:39:05+03:00  user_11171041  video_1511844          90   \n",
      "9  2023-07-21 08:06:33+03:00  user_17072821  video_1818125         342   \n",
      "\n",
      "   is_autorized  \n",
      "0             0  \n",
      "1             0  \n",
      "2             0  \n",
      "3             0  \n",
      "4             0  \n",
      "5             0  \n",
      "6             0  \n",
      "7             0  \n",
      "8             0  \n",
      "9             0  \n"
     ]
    }
   ],
   "source": [
    "print(df.head(10))"
   ],
   "metadata": {
    "collapsed": false,
    "ExecuteTime": {
     "end_time": "2023-09-09T17:57:49.386138200Z",
     "start_time": "2023-09-09T17:57:49.349225100Z"
    }
   },
   "id": "33864bc032681009"
  },
  {
   "cell_type": "code",
   "execution_count": 5,
   "outputs": [],
   "source": [
    "df1 = pq.read_table('videos.parquet').to_pandas()"
   ],
   "metadata": {
    "collapsed": false,
    "ExecuteTime": {
     "end_time": "2023-09-09T18:11:10.951412600Z",
     "start_time": "2023-09-09T18:10:54.355752800Z"
    }
   },
   "id": "ab89fe1d2d0e84e0"
  },
  {
   "cell_type": "code",
   "execution_count": 8,
   "outputs": [
    {
     "ename": "MemoryError",
     "evalue": "Unable to allocate 2.08 GiB for an array with shape (4, 69954383) and data type int64",
     "output_type": "error",
     "traceback": [
      "\u001B[1;31m---------------------------------------------------------------------------\u001B[0m",
      "\u001B[1;31mMemoryError\u001B[0m                               Traceback (most recent call last)",
      "Cell \u001B[1;32mIn[8], line 4\u001B[0m\n\u001B[0;32m      1\u001B[0m \u001B[38;5;28;01mfrom\u001B[39;00m \u001B[38;5;21;01mtqdm\u001B[39;00m \u001B[38;5;28;01mimport\u001B[39;00m tqdm\n\u001B[0;32m      3\u001B[0m tqdm\u001B[38;5;241m.\u001B[39mpandas()\n\u001B[1;32m----> 4\u001B[0m df3 \u001B[38;5;241m=\u001B[39m \u001B[43mdf\u001B[49m\u001B[38;5;241;43m.\u001B[39;49m\u001B[43mmerge\u001B[49m\u001B[43m(\u001B[49m\u001B[43mdf1\u001B[49m\u001B[43m,\u001B[49m\u001B[43m \u001B[49m\u001B[43mon\u001B[49m\u001B[38;5;241;43m=\u001B[39;49m\u001B[38;5;124;43m'\u001B[39;49m\u001B[38;5;124;43mitem_id\u001B[39;49m\u001B[38;5;124;43m'\u001B[39;49m\u001B[43m)\u001B[49m\n",
      "File \u001B[1;32mD:\\IJ_Projects\\Hacks-Kazan\\venv\\Lib\\site-packages\\pandas\\core\\frame.py:10490\u001B[0m, in \u001B[0;36mDataFrame.merge\u001B[1;34m(self, right, how, on, left_on, right_on, left_index, right_index, sort, suffixes, copy, indicator, validate)\u001B[0m\n\u001B[0;32m  10471\u001B[0m \u001B[38;5;129m@Substitution\u001B[39m(\u001B[38;5;124m\"\u001B[39m\u001B[38;5;124m\"\u001B[39m)\n\u001B[0;32m  10472\u001B[0m \u001B[38;5;129m@Appender\u001B[39m(_merge_doc, indents\u001B[38;5;241m=\u001B[39m\u001B[38;5;241m2\u001B[39m)\n\u001B[0;32m  10473\u001B[0m \u001B[38;5;28;01mdef\u001B[39;00m \u001B[38;5;21mmerge\u001B[39m(\n\u001B[1;32m   (...)\u001B[0m\n\u001B[0;32m  10486\u001B[0m     validate: MergeValidate \u001B[38;5;241m|\u001B[39m \u001B[38;5;28;01mNone\u001B[39;00m \u001B[38;5;241m=\u001B[39m \u001B[38;5;28;01mNone\u001B[39;00m,\n\u001B[0;32m  10487\u001B[0m ) \u001B[38;5;241m-\u001B[39m\u001B[38;5;241m>\u001B[39m DataFrame:\n\u001B[0;32m  10488\u001B[0m     \u001B[38;5;28;01mfrom\u001B[39;00m \u001B[38;5;21;01mpandas\u001B[39;00m\u001B[38;5;21;01m.\u001B[39;00m\u001B[38;5;21;01mcore\u001B[39;00m\u001B[38;5;21;01m.\u001B[39;00m\u001B[38;5;21;01mreshape\u001B[39;00m\u001B[38;5;21;01m.\u001B[39;00m\u001B[38;5;21;01mmerge\u001B[39;00m \u001B[38;5;28;01mimport\u001B[39;00m merge\n\u001B[1;32m> 10490\u001B[0m     \u001B[38;5;28;01mreturn\u001B[39;00m \u001B[43mmerge\u001B[49m\u001B[43m(\u001B[49m\n\u001B[0;32m  10491\u001B[0m \u001B[43m        \u001B[49m\u001B[38;5;28;43mself\u001B[39;49m\u001B[43m,\u001B[49m\n\u001B[0;32m  10492\u001B[0m \u001B[43m        \u001B[49m\u001B[43mright\u001B[49m\u001B[43m,\u001B[49m\n\u001B[0;32m  10493\u001B[0m \u001B[43m        \u001B[49m\u001B[43mhow\u001B[49m\u001B[38;5;241;43m=\u001B[39;49m\u001B[43mhow\u001B[49m\u001B[43m,\u001B[49m\n\u001B[0;32m  10494\u001B[0m \u001B[43m        \u001B[49m\u001B[43mon\u001B[49m\u001B[38;5;241;43m=\u001B[39;49m\u001B[43mon\u001B[49m\u001B[43m,\u001B[49m\n\u001B[0;32m  10495\u001B[0m \u001B[43m        \u001B[49m\u001B[43mleft_on\u001B[49m\u001B[38;5;241;43m=\u001B[39;49m\u001B[43mleft_on\u001B[49m\u001B[43m,\u001B[49m\n\u001B[0;32m  10496\u001B[0m \u001B[43m        \u001B[49m\u001B[43mright_on\u001B[49m\u001B[38;5;241;43m=\u001B[39;49m\u001B[43mright_on\u001B[49m\u001B[43m,\u001B[49m\n\u001B[0;32m  10497\u001B[0m \u001B[43m        \u001B[49m\u001B[43mleft_index\u001B[49m\u001B[38;5;241;43m=\u001B[39;49m\u001B[43mleft_index\u001B[49m\u001B[43m,\u001B[49m\n\u001B[0;32m  10498\u001B[0m \u001B[43m        \u001B[49m\u001B[43mright_index\u001B[49m\u001B[38;5;241;43m=\u001B[39;49m\u001B[43mright_index\u001B[49m\u001B[43m,\u001B[49m\n\u001B[0;32m  10499\u001B[0m \u001B[43m        \u001B[49m\u001B[43msort\u001B[49m\u001B[38;5;241;43m=\u001B[39;49m\u001B[43msort\u001B[49m\u001B[43m,\u001B[49m\n\u001B[0;32m  10500\u001B[0m \u001B[43m        \u001B[49m\u001B[43msuffixes\u001B[49m\u001B[38;5;241;43m=\u001B[39;49m\u001B[43msuffixes\u001B[49m\u001B[43m,\u001B[49m\n\u001B[0;32m  10501\u001B[0m \u001B[43m        \u001B[49m\u001B[43mcopy\u001B[49m\u001B[38;5;241;43m=\u001B[39;49m\u001B[43mcopy\u001B[49m\u001B[43m,\u001B[49m\n\u001B[0;32m  10502\u001B[0m \u001B[43m        \u001B[49m\u001B[43mindicator\u001B[49m\u001B[38;5;241;43m=\u001B[39;49m\u001B[43mindicator\u001B[49m\u001B[43m,\u001B[49m\n\u001B[0;32m  10503\u001B[0m \u001B[43m        \u001B[49m\u001B[43mvalidate\u001B[49m\u001B[38;5;241;43m=\u001B[39;49m\u001B[43mvalidate\u001B[49m\u001B[43m,\u001B[49m\n\u001B[0;32m  10504\u001B[0m \u001B[43m    \u001B[49m\u001B[43m)\u001B[49m\n",
      "File \u001B[1;32mD:\\IJ_Projects\\Hacks-Kazan\\venv\\Lib\\site-packages\\pandas\\core\\reshape\\merge.py:183\u001B[0m, in \u001B[0;36mmerge\u001B[1;34m(left, right, how, on, left_on, right_on, left_index, right_index, sort, suffixes, copy, indicator, validate)\u001B[0m\n\u001B[0;32m    168\u001B[0m \u001B[38;5;28;01melse\u001B[39;00m:\n\u001B[0;32m    169\u001B[0m     op \u001B[38;5;241m=\u001B[39m _MergeOperation(\n\u001B[0;32m    170\u001B[0m         left_df,\n\u001B[0;32m    171\u001B[0m         right_df,\n\u001B[1;32m   (...)\u001B[0m\n\u001B[0;32m    181\u001B[0m         validate\u001B[38;5;241m=\u001B[39mvalidate,\n\u001B[0;32m    182\u001B[0m     )\n\u001B[1;32m--> 183\u001B[0m     \u001B[38;5;28;01mreturn\u001B[39;00m \u001B[43mop\u001B[49m\u001B[38;5;241;43m.\u001B[39;49m\u001B[43mget_result\u001B[49m\u001B[43m(\u001B[49m\u001B[43mcopy\u001B[49m\u001B[38;5;241;43m=\u001B[39;49m\u001B[43mcopy\u001B[49m\u001B[43m)\u001B[49m\n",
      "File \u001B[1;32mD:\\IJ_Projects\\Hacks-Kazan\\venv\\Lib\\site-packages\\pandas\\core\\reshape\\merge.py:885\u001B[0m, in \u001B[0;36m_MergeOperation.get_result\u001B[1;34m(self, copy)\u001B[0m\n\u001B[0;32m    881\u001B[0m     \u001B[38;5;28mself\u001B[39m\u001B[38;5;241m.\u001B[39mleft, \u001B[38;5;28mself\u001B[39m\u001B[38;5;241m.\u001B[39mright \u001B[38;5;241m=\u001B[39m \u001B[38;5;28mself\u001B[39m\u001B[38;5;241m.\u001B[39m_indicator_pre_merge(\u001B[38;5;28mself\u001B[39m\u001B[38;5;241m.\u001B[39mleft, \u001B[38;5;28mself\u001B[39m\u001B[38;5;241m.\u001B[39mright)\n\u001B[0;32m    883\u001B[0m join_index, left_indexer, right_indexer \u001B[38;5;241m=\u001B[39m \u001B[38;5;28mself\u001B[39m\u001B[38;5;241m.\u001B[39m_get_join_info()\n\u001B[1;32m--> 885\u001B[0m result \u001B[38;5;241m=\u001B[39m \u001B[38;5;28;43mself\u001B[39;49m\u001B[38;5;241;43m.\u001B[39;49m\u001B[43m_reindex_and_concat\u001B[49m\u001B[43m(\u001B[49m\n\u001B[0;32m    886\u001B[0m \u001B[43m    \u001B[49m\u001B[43mjoin_index\u001B[49m\u001B[43m,\u001B[49m\u001B[43m \u001B[49m\u001B[43mleft_indexer\u001B[49m\u001B[43m,\u001B[49m\u001B[43m \u001B[49m\u001B[43mright_indexer\u001B[49m\u001B[43m,\u001B[49m\u001B[43m \u001B[49m\u001B[43mcopy\u001B[49m\u001B[38;5;241;43m=\u001B[39;49m\u001B[43mcopy\u001B[49m\n\u001B[0;32m    887\u001B[0m \u001B[43m\u001B[49m\u001B[43m)\u001B[49m\n\u001B[0;32m    888\u001B[0m result \u001B[38;5;241m=\u001B[39m result\u001B[38;5;241m.\u001B[39m__finalize__(\u001B[38;5;28mself\u001B[39m, method\u001B[38;5;241m=\u001B[39m\u001B[38;5;28mself\u001B[39m\u001B[38;5;241m.\u001B[39m_merge_type)\n\u001B[0;32m    890\u001B[0m \u001B[38;5;28;01mif\u001B[39;00m \u001B[38;5;28mself\u001B[39m\u001B[38;5;241m.\u001B[39mindicator:\n",
      "File \u001B[1;32mD:\\IJ_Projects\\Hacks-Kazan\\venv\\Lib\\site-packages\\pandas\\core\\reshape\\merge.py:876\u001B[0m, in \u001B[0;36m_MergeOperation._reindex_and_concat\u001B[1;34m(self, join_index, left_indexer, right_indexer, copy)\u001B[0m\n\u001B[0;32m    874\u001B[0m left\u001B[38;5;241m.\u001B[39mcolumns \u001B[38;5;241m=\u001B[39m llabels\n\u001B[0;32m    875\u001B[0m right\u001B[38;5;241m.\u001B[39mcolumns \u001B[38;5;241m=\u001B[39m rlabels\n\u001B[1;32m--> 876\u001B[0m result \u001B[38;5;241m=\u001B[39m \u001B[43mconcat\u001B[49m\u001B[43m(\u001B[49m\u001B[43m[\u001B[49m\u001B[43mleft\u001B[49m\u001B[43m,\u001B[49m\u001B[43m \u001B[49m\u001B[43mright\u001B[49m\u001B[43m]\u001B[49m\u001B[43m,\u001B[49m\u001B[43m \u001B[49m\u001B[43maxis\u001B[49m\u001B[38;5;241;43m=\u001B[39;49m\u001B[38;5;241;43m1\u001B[39;49m\u001B[43m,\u001B[49m\u001B[43m \u001B[49m\u001B[43mcopy\u001B[49m\u001B[38;5;241;43m=\u001B[39;49m\u001B[43mcopy\u001B[49m\u001B[43m)\u001B[49m\n\u001B[0;32m    877\u001B[0m \u001B[38;5;28;01mreturn\u001B[39;00m result\n",
      "File \u001B[1;32mD:\\IJ_Projects\\Hacks-Kazan\\venv\\Lib\\site-packages\\pandas\\core\\reshape\\concat.py:393\u001B[0m, in \u001B[0;36mconcat\u001B[1;34m(objs, axis, join, ignore_index, keys, levels, names, verify_integrity, sort, copy)\u001B[0m\n\u001B[0;32m    378\u001B[0m     copy \u001B[38;5;241m=\u001B[39m \u001B[38;5;28;01mFalse\u001B[39;00m\n\u001B[0;32m    380\u001B[0m op \u001B[38;5;241m=\u001B[39m _Concatenator(\n\u001B[0;32m    381\u001B[0m     objs,\n\u001B[0;32m    382\u001B[0m     axis\u001B[38;5;241m=\u001B[39maxis,\n\u001B[1;32m   (...)\u001B[0m\n\u001B[0;32m    390\u001B[0m     sort\u001B[38;5;241m=\u001B[39msort,\n\u001B[0;32m    391\u001B[0m )\n\u001B[1;32m--> 393\u001B[0m \u001B[38;5;28;01mreturn\u001B[39;00m \u001B[43mop\u001B[49m\u001B[38;5;241;43m.\u001B[39;49m\u001B[43mget_result\u001B[49m\u001B[43m(\u001B[49m\u001B[43m)\u001B[49m\n",
      "File \u001B[1;32mD:\\IJ_Projects\\Hacks-Kazan\\venv\\Lib\\site-packages\\pandas\\core\\reshape\\concat.py:680\u001B[0m, in \u001B[0;36m_Concatenator.get_result\u001B[1;34m(self)\u001B[0m\n\u001B[0;32m    676\u001B[0m             indexers[ax] \u001B[38;5;241m=\u001B[39m obj_labels\u001B[38;5;241m.\u001B[39mget_indexer(new_labels)\n\u001B[0;32m    678\u001B[0m     mgrs_indexers\u001B[38;5;241m.\u001B[39mappend((obj\u001B[38;5;241m.\u001B[39m_mgr, indexers))\n\u001B[1;32m--> 680\u001B[0m new_data \u001B[38;5;241m=\u001B[39m \u001B[43mconcatenate_managers\u001B[49m\u001B[43m(\u001B[49m\n\u001B[0;32m    681\u001B[0m \u001B[43m    \u001B[49m\u001B[43mmgrs_indexers\u001B[49m\u001B[43m,\u001B[49m\u001B[43m \u001B[49m\u001B[38;5;28;43mself\u001B[39;49m\u001B[38;5;241;43m.\u001B[39;49m\u001B[43mnew_axes\u001B[49m\u001B[43m,\u001B[49m\u001B[43m \u001B[49m\u001B[43mconcat_axis\u001B[49m\u001B[38;5;241;43m=\u001B[39;49m\u001B[38;5;28;43mself\u001B[39;49m\u001B[38;5;241;43m.\u001B[39;49m\u001B[43mbm_axis\u001B[49m\u001B[43m,\u001B[49m\u001B[43m \u001B[49m\u001B[43mcopy\u001B[49m\u001B[38;5;241;43m=\u001B[39;49m\u001B[38;5;28;43mself\u001B[39;49m\u001B[38;5;241;43m.\u001B[39;49m\u001B[43mcopy\u001B[49m\n\u001B[0;32m    682\u001B[0m \u001B[43m\u001B[49m\u001B[43m)\u001B[49m\n\u001B[0;32m    683\u001B[0m \u001B[38;5;28;01mif\u001B[39;00m \u001B[38;5;129;01mnot\u001B[39;00m \u001B[38;5;28mself\u001B[39m\u001B[38;5;241m.\u001B[39mcopy \u001B[38;5;129;01mand\u001B[39;00m \u001B[38;5;129;01mnot\u001B[39;00m using_copy_on_write():\n\u001B[0;32m    684\u001B[0m     new_data\u001B[38;5;241m.\u001B[39m_consolidate_inplace()\n",
      "File \u001B[1;32mD:\\IJ_Projects\\Hacks-Kazan\\venv\\Lib\\site-packages\\pandas\\core\\internals\\concat.py:131\u001B[0m, in \u001B[0;36mconcatenate_managers\u001B[1;34m(mgrs_indexers, axes, concat_axis, copy)\u001B[0m\n\u001B[0;32m    124\u001B[0m \u001B[38;5;66;03m# Assertions disabled for performance\u001B[39;00m\n\u001B[0;32m    125\u001B[0m \u001B[38;5;66;03m# for tup in mgrs_indexers:\u001B[39;00m\n\u001B[0;32m    126\u001B[0m \u001B[38;5;66;03m#    # caller is responsible for ensuring this\u001B[39;00m\n\u001B[0;32m    127\u001B[0m \u001B[38;5;66;03m#    indexers = tup[1]\u001B[39;00m\n\u001B[0;32m    128\u001B[0m \u001B[38;5;66;03m#    assert concat_axis not in indexers\u001B[39;00m\n\u001B[0;32m    130\u001B[0m \u001B[38;5;28;01mif\u001B[39;00m concat_axis \u001B[38;5;241m==\u001B[39m \u001B[38;5;241m0\u001B[39m:\n\u001B[1;32m--> 131\u001B[0m     mgrs \u001B[38;5;241m=\u001B[39m \u001B[43m_maybe_reindex_columns_na_proxy\u001B[49m\u001B[43m(\u001B[49m\u001B[43maxes\u001B[49m\u001B[43m,\u001B[49m\u001B[43m \u001B[49m\u001B[43mmgrs_indexers\u001B[49m\u001B[43m,\u001B[49m\u001B[43m \u001B[49m\u001B[43mneeds_copy\u001B[49m\u001B[43m)\u001B[49m\n\u001B[0;32m    132\u001B[0m     \u001B[38;5;28;01mreturn\u001B[39;00m mgrs[\u001B[38;5;241m0\u001B[39m]\u001B[38;5;241m.\u001B[39mconcat_horizontal(mgrs, axes)\n\u001B[0;32m    134\u001B[0m \u001B[38;5;28;01mif\u001B[39;00m \u001B[38;5;28mlen\u001B[39m(mgrs_indexers) \u001B[38;5;241m>\u001B[39m \u001B[38;5;241m0\u001B[39m \u001B[38;5;129;01mand\u001B[39;00m mgrs_indexers[\u001B[38;5;241m0\u001B[39m][\u001B[38;5;241m0\u001B[39m]\u001B[38;5;241m.\u001B[39mnblocks \u001B[38;5;241m>\u001B[39m \u001B[38;5;241m0\u001B[39m:\n",
      "File \u001B[1;32mD:\\IJ_Projects\\Hacks-Kazan\\venv\\Lib\\site-packages\\pandas\\core\\internals\\concat.py:230\u001B[0m, in \u001B[0;36m_maybe_reindex_columns_na_proxy\u001B[1;34m(axes, mgrs_indexers, needs_copy)\u001B[0m\n\u001B[0;32m    220\u001B[0m         mgr \u001B[38;5;241m=\u001B[39m mgr\u001B[38;5;241m.\u001B[39mreindex_indexer(\n\u001B[0;32m    221\u001B[0m             axes[i],\n\u001B[0;32m    222\u001B[0m             indexers[i],\n\u001B[1;32m   (...)\u001B[0m\n\u001B[0;32m    227\u001B[0m             use_na_proxy\u001B[38;5;241m=\u001B[39m\u001B[38;5;28;01mTrue\u001B[39;00m,  \u001B[38;5;66;03m# only relevant for i==0\u001B[39;00m\n\u001B[0;32m    228\u001B[0m         )\n\u001B[0;32m    229\u001B[0m     \u001B[38;5;28;01mif\u001B[39;00m needs_copy \u001B[38;5;129;01mand\u001B[39;00m \u001B[38;5;129;01mnot\u001B[39;00m indexers:\n\u001B[1;32m--> 230\u001B[0m         mgr \u001B[38;5;241m=\u001B[39m \u001B[43mmgr\u001B[49m\u001B[38;5;241;43m.\u001B[39;49m\u001B[43mcopy\u001B[49m\u001B[43m(\u001B[49m\u001B[43m)\u001B[49m\n\u001B[0;32m    232\u001B[0m     new_mgrs\u001B[38;5;241m.\u001B[39mappend(mgr)\n\u001B[0;32m    233\u001B[0m \u001B[38;5;28;01mreturn\u001B[39;00m new_mgrs\n",
      "File \u001B[1;32mD:\\IJ_Projects\\Hacks-Kazan\\venv\\Lib\\site-packages\\pandas\\core\\internals\\managers.py:576\u001B[0m, in \u001B[0;36mBaseBlockManager.copy\u001B[1;34m(self, deep)\u001B[0m\n\u001B[0;32m    573\u001B[0m     \u001B[38;5;28;01melse\u001B[39;00m:\n\u001B[0;32m    574\u001B[0m         new_axes \u001B[38;5;241m=\u001B[39m \u001B[38;5;28mlist\u001B[39m(\u001B[38;5;28mself\u001B[39m\u001B[38;5;241m.\u001B[39maxes)\n\u001B[1;32m--> 576\u001B[0m res \u001B[38;5;241m=\u001B[39m \u001B[38;5;28;43mself\u001B[39;49m\u001B[38;5;241;43m.\u001B[39;49m\u001B[43mapply\u001B[49m\u001B[43m(\u001B[49m\u001B[38;5;124;43m\"\u001B[39;49m\u001B[38;5;124;43mcopy\u001B[39;49m\u001B[38;5;124;43m\"\u001B[39;49m\u001B[43m,\u001B[49m\u001B[43m \u001B[49m\u001B[43mdeep\u001B[49m\u001B[38;5;241;43m=\u001B[39;49m\u001B[43mdeep\u001B[49m\u001B[43m)\u001B[49m\n\u001B[0;32m    577\u001B[0m res\u001B[38;5;241m.\u001B[39maxes \u001B[38;5;241m=\u001B[39m new_axes\n\u001B[0;32m    579\u001B[0m \u001B[38;5;28;01mif\u001B[39;00m \u001B[38;5;28mself\u001B[39m\u001B[38;5;241m.\u001B[39mndim \u001B[38;5;241m>\u001B[39m \u001B[38;5;241m1\u001B[39m:\n\u001B[0;32m    580\u001B[0m     \u001B[38;5;66;03m# Avoid needing to re-compute these\u001B[39;00m\n",
      "File \u001B[1;32mD:\\IJ_Projects\\Hacks-Kazan\\venv\\Lib\\site-packages\\pandas\\core\\internals\\managers.py:354\u001B[0m, in \u001B[0;36mBaseBlockManager.apply\u001B[1;34m(self, f, align_keys, **kwargs)\u001B[0m\n\u001B[0;32m    352\u001B[0m         applied \u001B[38;5;241m=\u001B[39m b\u001B[38;5;241m.\u001B[39mapply(f, \u001B[38;5;241m*\u001B[39m\u001B[38;5;241m*\u001B[39mkwargs)\n\u001B[0;32m    353\u001B[0m     \u001B[38;5;28;01melse\u001B[39;00m:\n\u001B[1;32m--> 354\u001B[0m         applied \u001B[38;5;241m=\u001B[39m \u001B[38;5;28;43mgetattr\u001B[39;49m\u001B[43m(\u001B[49m\u001B[43mb\u001B[49m\u001B[43m,\u001B[49m\u001B[43m \u001B[49m\u001B[43mf\u001B[49m\u001B[43m)\u001B[49m\u001B[43m(\u001B[49m\u001B[38;5;241;43m*\u001B[39;49m\u001B[38;5;241;43m*\u001B[39;49m\u001B[43mkwargs\u001B[49m\u001B[43m)\u001B[49m\n\u001B[0;32m    355\u001B[0m     result_blocks \u001B[38;5;241m=\u001B[39m extend_blocks(applied, result_blocks)\n\u001B[0;32m    357\u001B[0m out \u001B[38;5;241m=\u001B[39m \u001B[38;5;28mtype\u001B[39m(\u001B[38;5;28mself\u001B[39m)\u001B[38;5;241m.\u001B[39mfrom_blocks(result_blocks, \u001B[38;5;28mself\u001B[39m\u001B[38;5;241m.\u001B[39maxes)\n",
      "File \u001B[1;32mD:\\IJ_Projects\\Hacks-Kazan\\venv\\Lib\\site-packages\\pandas\\core\\internals\\blocks.py:645\u001B[0m, in \u001B[0;36mBlock.copy\u001B[1;34m(self, deep)\u001B[0m\n\u001B[0;32m    643\u001B[0m refs: BlockValuesRefs \u001B[38;5;241m|\u001B[39m \u001B[38;5;28;01mNone\u001B[39;00m\n\u001B[0;32m    644\u001B[0m \u001B[38;5;28;01mif\u001B[39;00m deep:\n\u001B[1;32m--> 645\u001B[0m     values \u001B[38;5;241m=\u001B[39m values\u001B[38;5;241m.\u001B[39mcopy()\n\u001B[0;32m    646\u001B[0m     refs \u001B[38;5;241m=\u001B[39m \u001B[38;5;28;01mNone\u001B[39;00m\n\u001B[0;32m    647\u001B[0m \u001B[38;5;28;01melse\u001B[39;00m:\n",
      "\u001B[1;31mMemoryError\u001B[0m: Unable to allocate 2.08 GiB for an array with shape (4, 69954383) and data type int64"
     ]
    }
   ],
   "source": [
    "from tqdm import tqdm\n",
    "\n",
    "tqdm.pandas()\n",
    "df3 = df.merge(df1, on='item_id')"
   ],
   "metadata": {
    "collapsed": false,
    "ExecuteTime": {
     "end_time": "2023-09-09T18:30:39.486526300Z",
     "start_time": "2023-09-09T18:16:05.638554100Z"
    }
   },
   "id": "915d9fe1542532d"
  }
 ],
 "metadata": {
  "kernelspec": {
   "display_name": "Python 3",
   "language": "python",
   "name": "python3"
  },
  "language_info": {
   "codemirror_mode": {
    "name": "ipython",
    "version": 2
   },
   "file_extension": ".py",
   "mimetype": "text/x-python",
   "name": "python",
   "nbconvert_exporter": "python",
   "pygments_lexer": "ipython2",
   "version": "2.7.6"
  }
 },
 "nbformat": 4,
 "nbformat_minor": 5
}
