{
 "cells": [
  {
   "cell_type": "code",
   "execution_count": 5,
   "metadata": {
    "collapsed": true,
    "pycharm": {
     "name": "#%%\n"
    }
   },
   "outputs": [],
   "source": [
    "import pandas as pd\n",
    "import numpy as np\n",
    "import pyarrow.parquet as pq\n",
    "from gensim.models.doc2vec import Doc2Vec, TaggedDocument\n",
    "from sklearn import preprocessing\n",
    "pd.options.display.max_colwidth = 100"
   ]
  },
  {
   "cell_type": "code",
   "execution_count": 6,
   "outputs": [],
   "source": [
    "TRAIN_PATH = 'train_dataset_RUTUBE/'\n",
    "MODELS_PATH = 'doc2vec_models'"
   ],
   "metadata": {
    "collapsed": false,
    "pycharm": {
     "name": "#%%\n"
    }
   }
  },
  {
   "cell_type": "code",
   "execution_count": 7,
   "outputs": [],
   "source": [
    "data =  pq.read_table(TRAIN_PATH+'videos.parquet').to_pandas()\n",
    "emotions = pd.read_csv(TRAIN_PATH+'emotions.csv')"
   ],
   "metadata": {
    "collapsed": false,
    "pycharm": {
     "name": "#%%\n"
    }
   }
  },
  {
   "cell_type": "code",
   "execution_count": 78,
   "outputs": [],
   "source": [
    "# schema = pa.schema([\n",
    "#     ('item_id', pa.string()),\n",
    "#     ('video_title', pa.string()),\n",
    "#     ('author_title', pa.string()),\n",
    "#     ('tv_title', pa.string()),\n",
    "#     ('season', pa.int16()),\n",
    "#     ('video_description', pa.string()),\n",
    "#     ('category_title', pa.string()),\n",
    "#     ('publicated', pa.string()),\n",
    "#     ('duration', pa.int32()),\n",
    "#     ('channel_sub', pa.int32()),\n",
    "#     ('tv_sub', pa.int32()),\n",
    "#     ('CTR_10days_21_07', pa.float32()),\n",
    "#     ('CTR_10days_01_08', pa.float32()),\n",
    "#     ('CTR_10days_10_08', pa.float32()),\n",
    "#     ('CTR_10days_21_08', pa.float32()),\n",
    "#     ('__index_level_0__', pa.int64())\n",
    "# ])\n",
    "#\n",
    "# source_table = pa.Table.from_pandas(data)\n",
    "# source_table = source_table.cast(schema)\n",
    "# pq.write_table(source_table, 'my_parquet_table.parquet')"
   ],
   "metadata": {
    "collapsed": false,
    "pycharm": {
     "name": "#%%\n"
    }
   }
  },
  {
   "cell_type": "code",
   "execution_count": 8,
   "outputs": [],
   "source": [
    "data.rename(columns={'ctr.CTR_10days_21_07': 'CTR_10days_21_07', 'ctr.CTR_10days_01_08': 'CTR_10days_01_08',\n",
    "                     'ctr.CTR_10days_10_08': 'CTR_10days_10_08', 'ctr.CTR_10days_21_08': 'CTR_10days_21_08'}, inplace=True)"
   ],
   "metadata": {
    "collapsed": false,
    "pycharm": {
     "name": "#%%\n"
    }
   }
  },
  {
   "cell_type": "code",
   "execution_count": 2,
   "outputs": [],
   "source": [
    "users = pq.read_table('train_dataset_RUTUBE/player_starts_train.parquet').to_pandas()"
   ],
   "metadata": {
    "collapsed": false,
    "pycharm": {
     "name": "#%%\n"
    }
   }
  },
  {
   "cell_type": "code",
   "execution_count": 19,
   "outputs": [],
   "source": [
    "small_users = pd.read_csv('train_dataset_RUTUBE/small_player_starts_train.csv')"
   ],
   "metadata": {
    "collapsed": false,
    "pycharm": {
     "name": "#%%\n"
    }
   }
  },
  {
   "cell_type": "code",
   "execution_count": 191,
   "outputs": [],
   "source": [
    "import string\n",
    "translator = str.maketrans('', '', string.punctuation)\n",
    "\n",
    "data['video_title'] = data['video_title'].apply(lambda x: x.translate(translator).lower().strip() if isinstance(x, str) else x)\n",
    "data['video_description'].fillna(\"\", inplace=True)\n",
    "data['video_description'] = data['video_description'].apply(lambda x: x.translate(translator).lower().strip() if isinstance(x, str) else x)\n"
   ],
   "metadata": {
    "collapsed": false,
    "pycharm": {
     "name": "#%%\n"
    }
   }
  },
  {
   "cell_type": "code",
   "execution_count": 193,
   "outputs": [
    {
     "ename": "KeyboardInterrupt",
     "evalue": "",
     "output_type": "error",
     "traceback": [
      "\u001B[0;31m---------------------------------------------------------------------------\u001B[0m",
      "\u001B[0;31mKeyboardInterrupt\u001B[0m                         Traceback (most recent call last)",
      "Cell \u001B[0;32mIn[193], line 5\u001B[0m\n\u001B[1;32m      1\u001B[0m video_descriptions \u001B[38;5;241m=\u001B[39m [TaggedDocument(doc, [i]) \u001B[38;5;28;01mfor\u001B[39;00m i, doc \u001B[38;5;129;01min\u001B[39;00m \u001B[38;5;28menumerate\u001B[39m(data[\u001B[38;5;124m'\u001B[39m\u001B[38;5;124mvideo_description\u001B[39m\u001B[38;5;124m'\u001B[39m]\u001B[38;5;241m.\u001B[39mtolist())]\n\u001B[1;32m      2\u001B[0m \u001B[38;5;66;03m# author_titles = [TaggedDocument(doc, [i]) for i, doc in enumerate(data['author_title'].tolist())]\u001B[39;00m\n\u001B[1;32m      3\u001B[0m \u001B[38;5;66;03m# video_titles = [TaggedDocument(doc, [i]) for i, doc in enumerate(data['video_title'].tolist())]\u001B[39;00m\n\u001B[0;32m----> 5\u001B[0m model_video_descr \u001B[38;5;241m=\u001B[39m \u001B[43mDoc2Vec\u001B[49m\u001B[43m(\u001B[49m\u001B[43mvideo_descriptions\u001B[49m\u001B[43m,\u001B[49m\n\u001B[1;32m      6\u001B[0m \u001B[43m                \u001B[49m\u001B[43mvector_size\u001B[49m\u001B[38;5;241;43m=\u001B[39;49m\u001B[38;5;241;43m100\u001B[39;49m\u001B[43m,\u001B[49m\n\u001B[1;32m      7\u001B[0m \u001B[43m                \u001B[49m\u001B[43mwindow\u001B[49m\u001B[38;5;241;43m=\u001B[39;49m\u001B[38;5;28;43mlen\u001B[39;49m\u001B[43m(\u001B[49m\u001B[43mvideo_descriptions\u001B[49m\u001B[43m)\u001B[49m\u001B[43m,\u001B[49m\n\u001B[1;32m      8\u001B[0m \u001B[43m                \u001B[49m\u001B[43mworkers\u001B[49m\u001B[38;5;241;43m=\u001B[39;49m\u001B[38;5;241;43m16\u001B[39;49m\u001B[43m,\u001B[49m\n\u001B[1;32m      9\u001B[0m \u001B[43m                \u001B[49m\u001B[43mepochs\u001B[49m\u001B[38;5;241;43m=\u001B[39;49m\u001B[38;5;241;43m10\u001B[39;49m\u001B[43m,\u001B[49m\n\u001B[1;32m     10\u001B[0m \u001B[43m                \u001B[49m\u001B[43mseed\u001B[49m\u001B[38;5;241;43m=\u001B[39;49m\u001B[38;5;241;43m42\u001B[39;49m\u001B[43m)\u001B[49m\n\u001B[1;32m     12\u001B[0m \u001B[38;5;66;03m# model_author_titles = Doc2Vec(author_titles,\u001B[39;00m\n\u001B[1;32m     13\u001B[0m \u001B[38;5;66;03m#                 vector_size=100,\u001B[39;00m\n\u001B[1;32m     14\u001B[0m \u001B[38;5;66;03m#                 window=len(author_titles),\u001B[39;00m\n\u001B[0;32m   (...)\u001B[0m\n\u001B[1;32m     23\u001B[0m \u001B[38;5;66;03m#                 epochs=10,\u001B[39;00m\n\u001B[1;32m     24\u001B[0m \u001B[38;5;66;03m#                 seed=42)\u001B[39;00m\n",
      "File \u001B[0;32m~/lib/python3.10/site-packages/gensim/models/doc2vec.py:296\u001B[0m, in \u001B[0;36mDoc2Vec.__init__\u001B[0;34m(self, documents, corpus_file, vector_size, dm_mean, dm, dbow_words, dm_concat, dm_tag_count, dv, dv_mapfile, comment, trim_rule, callbacks, window, epochs, shrink_windows, **kwargs)\u001B[0m\n\u001B[1;32m    292\u001B[0m \u001B[38;5;66;03m# EXPERIMENTAL lockf feature; create minimal no-op lockf arrays (1 element of 1.0)\u001B[39;00m\n\u001B[1;32m    293\u001B[0m \u001B[38;5;66;03m# advanced users should directly resize/adjust as desired after any vocab growth\u001B[39;00m\n\u001B[1;32m    294\u001B[0m \u001B[38;5;28mself\u001B[39m\u001B[38;5;241m.\u001B[39mdv\u001B[38;5;241m.\u001B[39mvectors_lockf \u001B[38;5;241m=\u001B[39m np\u001B[38;5;241m.\u001B[39mones(\u001B[38;5;241m1\u001B[39m, dtype\u001B[38;5;241m=\u001B[39mREAL)  \u001B[38;5;66;03m# 0.0 values suppress word-backprop-updates; 1.0 allows\u001B[39;00m\n\u001B[0;32m--> 296\u001B[0m \u001B[38;5;28;43msuper\u001B[39;49m\u001B[43m(\u001B[49m\u001B[43mDoc2Vec\u001B[49m\u001B[43m,\u001B[49m\u001B[43m \u001B[49m\u001B[38;5;28;43mself\u001B[39;49m\u001B[43m)\u001B[49m\u001B[38;5;241;43m.\u001B[39;49m\u001B[38;5;21;43m__init__\u001B[39;49m\u001B[43m(\u001B[49m\n\u001B[1;32m    297\u001B[0m \u001B[43m    \u001B[49m\u001B[43msentences\u001B[49m\u001B[38;5;241;43m=\u001B[39;49m\u001B[43mcorpus_iterable\u001B[49m\u001B[43m,\u001B[49m\n\u001B[1;32m    298\u001B[0m \u001B[43m    \u001B[49m\u001B[43mcorpus_file\u001B[49m\u001B[38;5;241;43m=\u001B[39;49m\u001B[43mcorpus_file\u001B[49m\u001B[43m,\u001B[49m\n\u001B[1;32m    299\u001B[0m \u001B[43m    \u001B[49m\u001B[43mvector_size\u001B[49m\u001B[38;5;241;43m=\u001B[39;49m\u001B[38;5;28;43mself\u001B[39;49m\u001B[38;5;241;43m.\u001B[39;49m\u001B[43mvector_size\u001B[49m\u001B[43m,\u001B[49m\n\u001B[1;32m    300\u001B[0m \u001B[43m    \u001B[49m\u001B[43msg\u001B[49m\u001B[38;5;241;43m=\u001B[39;49m\u001B[43m(\u001B[49m\u001B[38;5;241;43m1\u001B[39;49m\u001B[43m \u001B[49m\u001B[38;5;241;43m+\u001B[39;49m\u001B[43m \u001B[49m\u001B[43mdm\u001B[49m\u001B[43m)\u001B[49m\u001B[43m \u001B[49m\u001B[38;5;241;43m%\u001B[39;49m\u001B[43m \u001B[49m\u001B[38;5;241;43m2\u001B[39;49m\u001B[43m,\u001B[49m\n\u001B[1;32m    301\u001B[0m \u001B[43m    \u001B[49m\u001B[43mnull_word\u001B[49m\u001B[38;5;241;43m=\u001B[39;49m\u001B[38;5;28;43mself\u001B[39;49m\u001B[38;5;241;43m.\u001B[39;49m\u001B[43mdm_concat\u001B[49m\u001B[43m,\u001B[49m\n\u001B[1;32m    302\u001B[0m \u001B[43m    \u001B[49m\u001B[43mcallbacks\u001B[49m\u001B[38;5;241;43m=\u001B[39;49m\u001B[43mcallbacks\u001B[49m\u001B[43m,\u001B[49m\n\u001B[1;32m    303\u001B[0m \u001B[43m    \u001B[49m\u001B[43mwindow\u001B[49m\u001B[38;5;241;43m=\u001B[39;49m\u001B[43mwindow\u001B[49m\u001B[43m,\u001B[49m\n\u001B[1;32m    304\u001B[0m \u001B[43m    \u001B[49m\u001B[43mepochs\u001B[49m\u001B[38;5;241;43m=\u001B[39;49m\u001B[43mepochs\u001B[49m\u001B[43m,\u001B[49m\n\u001B[1;32m    305\u001B[0m \u001B[43m    \u001B[49m\u001B[43mshrink_windows\u001B[49m\u001B[38;5;241;43m=\u001B[39;49m\u001B[43mshrink_windows\u001B[49m\u001B[43m,\u001B[49m\n\u001B[1;32m    306\u001B[0m \u001B[43m    \u001B[49m\u001B[38;5;241;43m*\u001B[39;49m\u001B[38;5;241;43m*\u001B[39;49m\u001B[43mkwargs\u001B[49m\u001B[43m,\u001B[49m\n\u001B[1;32m    307\u001B[0m \u001B[43m\u001B[49m\u001B[43m)\u001B[49m\n",
      "File \u001B[0;32m~/lib/python3.10/site-packages/gensim/models/word2vec.py:430\u001B[0m, in \u001B[0;36mWord2Vec.__init__\u001B[0;34m(self, sentences, corpus_file, vector_size, alpha, window, min_count, max_vocab_size, sample, seed, workers, min_alpha, sg, hs, negative, ns_exponent, cbow_mean, hashfxn, epochs, null_word, trim_rule, sorted_vocab, batch_words, compute_loss, callbacks, comment, max_final_vocab, shrink_windows)\u001B[0m\n\u001B[1;32m    428\u001B[0m     \u001B[38;5;28mself\u001B[39m\u001B[38;5;241m.\u001B[39m_check_corpus_sanity(corpus_iterable\u001B[38;5;241m=\u001B[39mcorpus_iterable, corpus_file\u001B[38;5;241m=\u001B[39mcorpus_file, passes\u001B[38;5;241m=\u001B[39m(epochs \u001B[38;5;241m+\u001B[39m \u001B[38;5;241m1\u001B[39m))\n\u001B[1;32m    429\u001B[0m     \u001B[38;5;28mself\u001B[39m\u001B[38;5;241m.\u001B[39mbuild_vocab(corpus_iterable\u001B[38;5;241m=\u001B[39mcorpus_iterable, corpus_file\u001B[38;5;241m=\u001B[39mcorpus_file, trim_rule\u001B[38;5;241m=\u001B[39mtrim_rule)\n\u001B[0;32m--> 430\u001B[0m     \u001B[38;5;28;43mself\u001B[39;49m\u001B[38;5;241;43m.\u001B[39;49m\u001B[43mtrain\u001B[49m\u001B[43m(\u001B[49m\n\u001B[1;32m    431\u001B[0m \u001B[43m        \u001B[49m\u001B[43mcorpus_iterable\u001B[49m\u001B[38;5;241;43m=\u001B[39;49m\u001B[43mcorpus_iterable\u001B[49m\u001B[43m,\u001B[49m\u001B[43m \u001B[49m\u001B[43mcorpus_file\u001B[49m\u001B[38;5;241;43m=\u001B[39;49m\u001B[43mcorpus_file\u001B[49m\u001B[43m,\u001B[49m\u001B[43m \u001B[49m\u001B[43mtotal_examples\u001B[49m\u001B[38;5;241;43m=\u001B[39;49m\u001B[38;5;28;43mself\u001B[39;49m\u001B[38;5;241;43m.\u001B[39;49m\u001B[43mcorpus_count\u001B[49m\u001B[43m,\u001B[49m\n\u001B[1;32m    432\u001B[0m \u001B[43m        \u001B[49m\u001B[43mtotal_words\u001B[49m\u001B[38;5;241;43m=\u001B[39;49m\u001B[38;5;28;43mself\u001B[39;49m\u001B[38;5;241;43m.\u001B[39;49m\u001B[43mcorpus_total_words\u001B[49m\u001B[43m,\u001B[49m\u001B[43m \u001B[49m\u001B[43mepochs\u001B[49m\u001B[38;5;241;43m=\u001B[39;49m\u001B[38;5;28;43mself\u001B[39;49m\u001B[38;5;241;43m.\u001B[39;49m\u001B[43mepochs\u001B[49m\u001B[43m,\u001B[49m\u001B[43m \u001B[49m\u001B[43mstart_alpha\u001B[49m\u001B[38;5;241;43m=\u001B[39;49m\u001B[38;5;28;43mself\u001B[39;49m\u001B[38;5;241;43m.\u001B[39;49m\u001B[43malpha\u001B[49m\u001B[43m,\u001B[49m\n\u001B[1;32m    433\u001B[0m \u001B[43m        \u001B[49m\u001B[43mend_alpha\u001B[49m\u001B[38;5;241;43m=\u001B[39;49m\u001B[38;5;28;43mself\u001B[39;49m\u001B[38;5;241;43m.\u001B[39;49m\u001B[43mmin_alpha\u001B[49m\u001B[43m,\u001B[49m\u001B[43m \u001B[49m\u001B[43mcompute_loss\u001B[49m\u001B[38;5;241;43m=\u001B[39;49m\u001B[38;5;28;43mself\u001B[39;49m\u001B[38;5;241;43m.\u001B[39;49m\u001B[43mcompute_loss\u001B[49m\u001B[43m,\u001B[49m\u001B[43m \u001B[49m\u001B[43mcallbacks\u001B[49m\u001B[38;5;241;43m=\u001B[39;49m\u001B[43mcallbacks\u001B[49m\u001B[43m)\u001B[49m\n\u001B[1;32m    434\u001B[0m \u001B[38;5;28;01melse\u001B[39;00m:\n\u001B[1;32m    435\u001B[0m     \u001B[38;5;28;01mif\u001B[39;00m trim_rule \u001B[38;5;129;01mis\u001B[39;00m \u001B[38;5;129;01mnot\u001B[39;00m \u001B[38;5;28;01mNone\u001B[39;00m:\n",
      "File \u001B[0;32m~/lib/python3.10/site-packages/gensim/models/doc2vec.py:516\u001B[0m, in \u001B[0;36mDoc2Vec.train\u001B[0;34m(self, corpus_iterable, corpus_file, total_examples, total_words, epochs, start_alpha, end_alpha, word_count, queue_factor, report_delay, callbacks, **kwargs)\u001B[0m\n\u001B[1;32m    513\u001B[0m     kwargs[\u001B[38;5;124m'\u001B[39m\u001B[38;5;124moffsets\u001B[39m\u001B[38;5;124m'\u001B[39m] \u001B[38;5;241m=\u001B[39m offsets\n\u001B[1;32m    514\u001B[0m     kwargs[\u001B[38;5;124m'\u001B[39m\u001B[38;5;124mstart_doctags\u001B[39m\u001B[38;5;124m'\u001B[39m] \u001B[38;5;241m=\u001B[39m start_doctags\n\u001B[0;32m--> 516\u001B[0m \u001B[38;5;28;43msuper\u001B[39;49m\u001B[43m(\u001B[49m\u001B[43mDoc2Vec\u001B[49m\u001B[43m,\u001B[49m\u001B[43m \u001B[49m\u001B[38;5;28;43mself\u001B[39;49m\u001B[43m)\u001B[49m\u001B[38;5;241;43m.\u001B[39;49m\u001B[43mtrain\u001B[49m\u001B[43m(\u001B[49m\n\u001B[1;32m    517\u001B[0m \u001B[43m    \u001B[49m\u001B[43mcorpus_iterable\u001B[49m\u001B[38;5;241;43m=\u001B[39;49m\u001B[43mcorpus_iterable\u001B[49m\u001B[43m,\u001B[49m\u001B[43m \u001B[49m\u001B[43mcorpus_file\u001B[49m\u001B[38;5;241;43m=\u001B[39;49m\u001B[43mcorpus_file\u001B[49m\u001B[43m,\u001B[49m\n\u001B[1;32m    518\u001B[0m \u001B[43m    \u001B[49m\u001B[43mtotal_examples\u001B[49m\u001B[38;5;241;43m=\u001B[39;49m\u001B[43mtotal_examples\u001B[49m\u001B[43m,\u001B[49m\u001B[43m \u001B[49m\u001B[43mtotal_words\u001B[49m\u001B[38;5;241;43m=\u001B[39;49m\u001B[43mtotal_words\u001B[49m\u001B[43m,\u001B[49m\n\u001B[1;32m    519\u001B[0m \u001B[43m    \u001B[49m\u001B[43mepochs\u001B[49m\u001B[38;5;241;43m=\u001B[39;49m\u001B[43mepochs\u001B[49m\u001B[43m,\u001B[49m\u001B[43m \u001B[49m\u001B[43mstart_alpha\u001B[49m\u001B[38;5;241;43m=\u001B[39;49m\u001B[43mstart_alpha\u001B[49m\u001B[43m,\u001B[49m\u001B[43m \u001B[49m\u001B[43mend_alpha\u001B[49m\u001B[38;5;241;43m=\u001B[39;49m\u001B[43mend_alpha\u001B[49m\u001B[43m,\u001B[49m\u001B[43m \u001B[49m\u001B[43mword_count\u001B[49m\u001B[38;5;241;43m=\u001B[39;49m\u001B[43mword_count\u001B[49m\u001B[43m,\u001B[49m\n\u001B[1;32m    520\u001B[0m \u001B[43m    \u001B[49m\u001B[43mqueue_factor\u001B[49m\u001B[38;5;241;43m=\u001B[39;49m\u001B[43mqueue_factor\u001B[49m\u001B[43m,\u001B[49m\u001B[43m \u001B[49m\u001B[43mreport_delay\u001B[49m\u001B[38;5;241;43m=\u001B[39;49m\u001B[43mreport_delay\u001B[49m\u001B[43m,\u001B[49m\u001B[43m \u001B[49m\u001B[43mcallbacks\u001B[49m\u001B[38;5;241;43m=\u001B[39;49m\u001B[43mcallbacks\u001B[49m\u001B[43m,\u001B[49m\u001B[43m \u001B[49m\u001B[38;5;241;43m*\u001B[39;49m\u001B[38;5;241;43m*\u001B[39;49m\u001B[43mkwargs\u001B[49m\u001B[43m)\u001B[49m\n",
      "File \u001B[0;32m~/lib/python3.10/site-packages/gensim/models/word2vec.py:1073\u001B[0m, in \u001B[0;36mWord2Vec.train\u001B[0;34m(self, corpus_iterable, corpus_file, total_examples, total_words, epochs, start_alpha, end_alpha, word_count, queue_factor, report_delay, compute_loss, callbacks, **kwargs)\u001B[0m\n\u001B[1;32m   1070\u001B[0m     callback\u001B[38;5;241m.\u001B[39mon_epoch_begin(\u001B[38;5;28mself\u001B[39m)\n\u001B[1;32m   1072\u001B[0m \u001B[38;5;28;01mif\u001B[39;00m corpus_iterable \u001B[38;5;129;01mis\u001B[39;00m \u001B[38;5;129;01mnot\u001B[39;00m \u001B[38;5;28;01mNone\u001B[39;00m:\n\u001B[0;32m-> 1073\u001B[0m     trained_word_count_epoch, raw_word_count_epoch, job_tally_epoch \u001B[38;5;241m=\u001B[39m \u001B[38;5;28;43mself\u001B[39;49m\u001B[38;5;241;43m.\u001B[39;49m\u001B[43m_train_epoch\u001B[49m\u001B[43m(\u001B[49m\n\u001B[1;32m   1074\u001B[0m \u001B[43m        \u001B[49m\u001B[43mcorpus_iterable\u001B[49m\u001B[43m,\u001B[49m\u001B[43m \u001B[49m\u001B[43mcur_epoch\u001B[49m\u001B[38;5;241;43m=\u001B[39;49m\u001B[43mcur_epoch\u001B[49m\u001B[43m,\u001B[49m\u001B[43m \u001B[49m\u001B[43mtotal_examples\u001B[49m\u001B[38;5;241;43m=\u001B[39;49m\u001B[43mtotal_examples\u001B[49m\u001B[43m,\u001B[49m\n\u001B[1;32m   1075\u001B[0m \u001B[43m        \u001B[49m\u001B[43mtotal_words\u001B[49m\u001B[38;5;241;43m=\u001B[39;49m\u001B[43mtotal_words\u001B[49m\u001B[43m,\u001B[49m\u001B[43m \u001B[49m\u001B[43mqueue_factor\u001B[49m\u001B[38;5;241;43m=\u001B[39;49m\u001B[43mqueue_factor\u001B[49m\u001B[43m,\u001B[49m\u001B[43m \u001B[49m\u001B[43mreport_delay\u001B[49m\u001B[38;5;241;43m=\u001B[39;49m\u001B[43mreport_delay\u001B[49m\u001B[43m,\u001B[49m\n\u001B[1;32m   1076\u001B[0m \u001B[43m        \u001B[49m\u001B[43mcallbacks\u001B[49m\u001B[38;5;241;43m=\u001B[39;49m\u001B[43mcallbacks\u001B[49m\u001B[43m,\u001B[49m\u001B[43m \u001B[49m\u001B[38;5;241;43m*\u001B[39;49m\u001B[38;5;241;43m*\u001B[39;49m\u001B[43mkwargs\u001B[49m\u001B[43m)\u001B[49m\n\u001B[1;32m   1077\u001B[0m \u001B[38;5;28;01melse\u001B[39;00m:\n\u001B[1;32m   1078\u001B[0m     trained_word_count_epoch, raw_word_count_epoch, job_tally_epoch \u001B[38;5;241m=\u001B[39m \u001B[38;5;28mself\u001B[39m\u001B[38;5;241m.\u001B[39m_train_epoch_corpusfile(\n\u001B[1;32m   1079\u001B[0m         corpus_file, cur_epoch\u001B[38;5;241m=\u001B[39mcur_epoch, total_examples\u001B[38;5;241m=\u001B[39mtotal_examples, total_words\u001B[38;5;241m=\u001B[39mtotal_words,\n\u001B[1;32m   1080\u001B[0m         callbacks\u001B[38;5;241m=\u001B[39mcallbacks, \u001B[38;5;241m*\u001B[39m\u001B[38;5;241m*\u001B[39mkwargs)\n",
      "File \u001B[0;32m~/lib/python3.10/site-packages/gensim/models/word2vec.py:1434\u001B[0m, in \u001B[0;36mWord2Vec._train_epoch\u001B[0;34m(self, data_iterable, cur_epoch, total_examples, total_words, queue_factor, report_delay, callbacks)\u001B[0m\n\u001B[1;32m   1431\u001B[0m     thread\u001B[38;5;241m.\u001B[39mdaemon \u001B[38;5;241m=\u001B[39m \u001B[38;5;28;01mTrue\u001B[39;00m  \u001B[38;5;66;03m# make interrupting the process with ctrl+c easier\u001B[39;00m\n\u001B[1;32m   1432\u001B[0m     thread\u001B[38;5;241m.\u001B[39mstart()\n\u001B[0;32m-> 1434\u001B[0m trained_word_count, raw_word_count, job_tally \u001B[38;5;241m=\u001B[39m \u001B[38;5;28;43mself\u001B[39;49m\u001B[38;5;241;43m.\u001B[39;49m\u001B[43m_log_epoch_progress\u001B[49m\u001B[43m(\u001B[49m\n\u001B[1;32m   1435\u001B[0m \u001B[43m    \u001B[49m\u001B[43mprogress_queue\u001B[49m\u001B[43m,\u001B[49m\u001B[43m \u001B[49m\u001B[43mjob_queue\u001B[49m\u001B[43m,\u001B[49m\u001B[43m \u001B[49m\u001B[43mcur_epoch\u001B[49m\u001B[38;5;241;43m=\u001B[39;49m\u001B[43mcur_epoch\u001B[49m\u001B[43m,\u001B[49m\u001B[43m \u001B[49m\u001B[43mtotal_examples\u001B[49m\u001B[38;5;241;43m=\u001B[39;49m\u001B[43mtotal_examples\u001B[49m\u001B[43m,\u001B[49m\n\u001B[1;32m   1436\u001B[0m \u001B[43m    \u001B[49m\u001B[43mtotal_words\u001B[49m\u001B[38;5;241;43m=\u001B[39;49m\u001B[43mtotal_words\u001B[49m\u001B[43m,\u001B[49m\u001B[43m \u001B[49m\u001B[43mreport_delay\u001B[49m\u001B[38;5;241;43m=\u001B[39;49m\u001B[43mreport_delay\u001B[49m\u001B[43m,\u001B[49m\u001B[43m \u001B[49m\u001B[43mis_corpus_file_mode\u001B[49m\u001B[38;5;241;43m=\u001B[39;49m\u001B[38;5;28;43;01mFalse\u001B[39;49;00m\u001B[43m,\u001B[49m\n\u001B[1;32m   1437\u001B[0m \u001B[43m\u001B[49m\u001B[43m)\u001B[49m\n\u001B[1;32m   1439\u001B[0m \u001B[38;5;28;01mreturn\u001B[39;00m trained_word_count, raw_word_count, job_tally\n",
      "File \u001B[0;32m~/lib/python3.10/site-packages/gensim/models/word2vec.py:1289\u001B[0m, in \u001B[0;36mWord2Vec._log_epoch_progress\u001B[0;34m(self, progress_queue, job_queue, cur_epoch, total_examples, total_words, report_delay, is_corpus_file_mode)\u001B[0m\n\u001B[1;32m   1286\u001B[0m unfinished_worker_count \u001B[38;5;241m=\u001B[39m \u001B[38;5;28mself\u001B[39m\u001B[38;5;241m.\u001B[39mworkers\n\u001B[1;32m   1288\u001B[0m \u001B[38;5;28;01mwhile\u001B[39;00m unfinished_worker_count \u001B[38;5;241m>\u001B[39m \u001B[38;5;241m0\u001B[39m:\n\u001B[0;32m-> 1289\u001B[0m     report \u001B[38;5;241m=\u001B[39m \u001B[43mprogress_queue\u001B[49m\u001B[38;5;241;43m.\u001B[39;49m\u001B[43mget\u001B[49m\u001B[43m(\u001B[49m\u001B[43m)\u001B[49m  \u001B[38;5;66;03m# blocks if workers too slow\u001B[39;00m\n\u001B[1;32m   1290\u001B[0m     \u001B[38;5;28;01mif\u001B[39;00m report \u001B[38;5;129;01mis\u001B[39;00m \u001B[38;5;28;01mNone\u001B[39;00m:  \u001B[38;5;66;03m# a thread reporting that it finished\u001B[39;00m\n\u001B[1;32m   1291\u001B[0m         unfinished_worker_count \u001B[38;5;241m-\u001B[39m\u001B[38;5;241m=\u001B[39m \u001B[38;5;241m1\u001B[39m\n",
      "File \u001B[0;32m/Library/Frameworks/Python.framework/Versions/3.10/lib/python3.10/queue.py:171\u001B[0m, in \u001B[0;36mQueue.get\u001B[0;34m(self, block, timeout)\u001B[0m\n\u001B[1;32m    169\u001B[0m \u001B[38;5;28;01melif\u001B[39;00m timeout \u001B[38;5;129;01mis\u001B[39;00m \u001B[38;5;28;01mNone\u001B[39;00m:\n\u001B[1;32m    170\u001B[0m     \u001B[38;5;28;01mwhile\u001B[39;00m \u001B[38;5;129;01mnot\u001B[39;00m \u001B[38;5;28mself\u001B[39m\u001B[38;5;241m.\u001B[39m_qsize():\n\u001B[0;32m--> 171\u001B[0m         \u001B[38;5;28;43mself\u001B[39;49m\u001B[38;5;241;43m.\u001B[39;49m\u001B[43mnot_empty\u001B[49m\u001B[38;5;241;43m.\u001B[39;49m\u001B[43mwait\u001B[49m\u001B[43m(\u001B[49m\u001B[43m)\u001B[49m\n\u001B[1;32m    172\u001B[0m \u001B[38;5;28;01melif\u001B[39;00m timeout \u001B[38;5;241m<\u001B[39m \u001B[38;5;241m0\u001B[39m:\n\u001B[1;32m    173\u001B[0m     \u001B[38;5;28;01mraise\u001B[39;00m \u001B[38;5;167;01mValueError\u001B[39;00m(\u001B[38;5;124m\"\u001B[39m\u001B[38;5;124m'\u001B[39m\u001B[38;5;124mtimeout\u001B[39m\u001B[38;5;124m'\u001B[39m\u001B[38;5;124m must be a non-negative number\u001B[39m\u001B[38;5;124m\"\u001B[39m)\n",
      "File \u001B[0;32m/Library/Frameworks/Python.framework/Versions/3.10/lib/python3.10/threading.py:320\u001B[0m, in \u001B[0;36mCondition.wait\u001B[0;34m(self, timeout)\u001B[0m\n\u001B[1;32m    318\u001B[0m \u001B[38;5;28;01mtry\u001B[39;00m:    \u001B[38;5;66;03m# restore state no matter what (e.g., KeyboardInterrupt)\u001B[39;00m\n\u001B[1;32m    319\u001B[0m     \u001B[38;5;28;01mif\u001B[39;00m timeout \u001B[38;5;129;01mis\u001B[39;00m \u001B[38;5;28;01mNone\u001B[39;00m:\n\u001B[0;32m--> 320\u001B[0m         \u001B[43mwaiter\u001B[49m\u001B[38;5;241;43m.\u001B[39;49m\u001B[43macquire\u001B[49m\u001B[43m(\u001B[49m\u001B[43m)\u001B[49m\n\u001B[1;32m    321\u001B[0m         gotit \u001B[38;5;241m=\u001B[39m \u001B[38;5;28;01mTrue\u001B[39;00m\n\u001B[1;32m    322\u001B[0m     \u001B[38;5;28;01melse\u001B[39;00m:\n",
      "\u001B[0;31mKeyboardInterrupt\u001B[0m: "
     ]
    }
   ],
   "source": [
    "video_descriptions = [TaggedDocument(doc, [i]) for i, doc in enumerate(data['video_description'].tolist())]\n",
    "author_titles = [TaggedDocument(doc, [i]) for i, doc in enumerate(data['author_title'].tolist())]\n",
    "video_titles = [TaggedDocument(doc, [i]) for i, doc in enumerate(data['video_title'].tolist())]\n",
    "\n",
    "model_video_descr = Doc2Vec(video_descriptions,\n",
    "                vector_size=100,\n",
    "                window=len(video_descriptions),\n",
    "                workers=16,\n",
    "                epochs=10,\n",
    "                seed=42)\n",
    "\n",
    "model_author_titles = Doc2Vec(author_titles,\n",
    "                vector_size=100,\n",
    "                window=len(author_titles),\n",
    "                workers=8,\n",
    "                epochs=10,\n",
    "                seed=42)\n",
    "\n",
    "model_video_titles = Doc2Vec(video_titles,\n",
    "                vector_size=100,\n",
    "                window=len(video_titles),\n",
    "                workers=8,\n",
    "                epochs=10,\n",
    "                seed=42)"
   ],
   "metadata": {
    "collapsed": false,
    "pycharm": {
     "name": "#%%\n"
    }
   }
  },
  {
   "cell_type": "code",
   "execution_count": null,
   "outputs": [],
   "source": [
    "# model_video_titles.save(MODELS_PATH+'model_video_titles')\n",
    "# model_author_titles.save(MODELS_PATH+'model_author_titles')\n",
    "model_video_descr.save(MODELS_PATH+'model_video_descr')\n"
   ],
   "metadata": {
    "collapsed": false,
    "pycharm": {
     "name": "#%%\n"
    }
   }
  },
  {
   "cell_type": "code",
   "execution_count": 10,
   "outputs": [],
   "source": [
    "# author_titles = np.load('doc2vec_models/model_author_titles.dv.vectors.npy', allow_pickle=True)\n",
    "video_titles = np.load('doc2vec_models/model_video_titles.dv.vectors.npy', allow_pickle=True)\n",
    "video_descrs= np.load('doc2vec_models/model_video_descr.dv.vectors.npy', allow_pickle=True)"
   ],
   "metadata": {
    "collapsed": false,
    "pycharm": {
     "name": "#%%\n"
    }
   }
  },
  {
   "cell_type": "code",
   "execution_count": 11,
   "outputs": [],
   "source": [
    "video_titles_normalized = preprocessing.minmax_scale(video_titles.T).T\n",
    "video_descrs_normalized = preprocessing.minmax_scale(video_descrs.T).T"
   ],
   "metadata": {
    "collapsed": false,
    "pycharm": {
     "name": "#%%\n"
    }
   }
  },
  {
   "cell_type": "code",
   "execution_count": 12,
   "outputs": [],
   "source": [
    "text_embs = np.concatenate([video_titles_normalized,video_descrs_normalized], axis=-1)"
   ],
   "metadata": {
    "collapsed": false,
    "pycharm": {
     "name": "#%%\n"
    }
   }
  },
  {
   "cell_type": "code",
   "execution_count": 13,
   "outputs": [],
   "source": [
    "cols_titles = [f'vid_title_{i}' for i in list(map(str, list(range(100))))]\n",
    "cols_descrs_ = [f'vid_descr_{i}' for i in list(map(str, list(range(100))))]\n",
    "cols_titles.extend(cols_descrs_)\n",
    "df = pd.DataFrame(text_embs, columns = cols_titles)"
   ],
   "metadata": {
    "collapsed": false,
    "pycharm": {
     "name": "#%%\n"
    }
   }
  },
  {
   "cell_type": "code",
   "execution_count": 14,
   "outputs": [],
   "source": [
    "df['item_id'] = data.item_id\n",
    "cols = ['item_id']\n",
    "cols.extend(cols_titles)\n",
    "df = df[cols]"
   ],
   "metadata": {
    "collapsed": false,
    "pycharm": {
     "name": "#%%\n"
    }
   }
  },
  {
   "cell_type": "code",
   "execution_count": 15,
   "outputs": [],
   "source": [
    "# categories_dict = {cat: idx for idx, cat in enumerate(data['category_title'].unique())}\n",
    "# data['category_title'] = data['category_title'].map(categories_dict)\n",
    "author_titles = {title: idx for idx, title in enumerate(data['author_title'].unique())}\n",
    "data['author_title'] = data['author_title'].map(author_titles)"
   ],
   "metadata": {
    "collapsed": false,
    "pycharm": {
     "name": "#%%\n"
    }
   }
  },
  {
   "cell_type": "code",
   "execution_count": 16,
   "outputs": [],
   "source": [
    "df = pd.concat([df, pd.get_dummies(data['category_title'], prefix='cat')], axis=1)"
   ],
   "metadata": {
    "collapsed": false,
    "pycharm": {
     "name": "#%%\n"
    }
   }
  },
  {
   "cell_type": "code",
   "execution_count": 233,
   "outputs": [],
   "source": [
    "# videos_emotions_types = emotions.groupby(['item_id', 'type']).size().unstack(fill_value=0).reset_index()"
   ],
   "metadata": {
    "collapsed": false,
    "pycharm": {
     "name": "#%%\n"
    }
   }
  },
  {
   "cell_type": "code",
   "execution_count": 17,
   "outputs": [],
   "source": [
    "final = df.merge(data,how='inner', on='item_id')"
   ],
   "metadata": {
    "collapsed": false,
    "pycharm": {
     "name": "#%%\n"
    }
   }
  },
  {
   "cell_type": "code",
   "execution_count": 97,
   "outputs": [],
   "source": [
    "# final.drop(['video_title', 'tv_title', 'season', 'video_description',\n",
    "#        'channel_sub', 'tv_sub',\n",
    "#        ], inplace=True, axis=1)"
   ],
   "metadata": {
    "collapsed": false,
    "pycharm": {
     "name": "#%%\n"
    }
   }
  },
  {
   "cell_type": "code",
   "execution_count": 18,
   "outputs": [],
   "source": [
    "final['CTR_10days_21_07'].fillna(data['CTR_10days_21_07'].mode()[0], inplace=True)\n",
    "final['CTR_10days_01_08'].fillna(data['CTR_10days_01_08'].mode()[0], inplace=True)\n",
    "final['CTR_10days_10_08'].fillna(data['CTR_10days_10_08'].mode()[0], inplace=True)\n",
    "final['CTR_10days_21_08'].fillna(data['CTR_10days_21_08'].mode()[0], inplace=True)"
   ],
   "metadata": {
    "collapsed": false,
    "pycharm": {
     "name": "#%%\n"
    }
   }
  },
  {
   "cell_type": "code",
   "execution_count": 19,
   "outputs": [],
   "source": [
    "final['publicated'] = pd.to_datetime(final['publicated'])"
   ],
   "metadata": {
    "collapsed": false,
    "pycharm": {
     "name": "#%%\n"
    }
   }
  },
  {
   "cell_type": "code",
   "execution_count": 20,
   "outputs": [],
   "source": [
    "final['upld_year'] = final['publicated'].apply(lambda x: x.year)\n",
    "final['upld_month'] = final['publicated'].apply(lambda x: x.month)\n",
    "final['upld_day'] = final['publicated'].apply(lambda x: x.day)\n",
    "final['upld_hour'] = final['publicated'].apply(lambda x: x.hour)\n",
    "final['upld_minute'] = final['publicated'].apply(lambda x: x.minute)\n",
    "final['upld_second'] = final['publicated'].apply(lambda x: x.second)\n",
    "final['upld_dayofweek'] = final['publicated'].apply(lambda x: x.weekday())"
   ],
   "metadata": {
    "collapsed": false,
    "pycharm": {
     "name": "#%%\n"
    }
   }
  },
  {
   "cell_type": "code",
   "execution_count": 1,
   "outputs": [
    {
     "ename": "NameError",
     "evalue": "name 'final' is not defined",
     "output_type": "error",
     "traceback": [
      "\u001B[0;31m---------------------------------------------------------------------------\u001B[0m",
      "\u001B[0;31mNameError\u001B[0m                                 Traceback (most recent call last)",
      "Cell \u001B[0;32mIn[1], line 1\u001B[0m\n\u001B[0;32m----> 1\u001B[0m final \u001B[38;5;241m=\u001B[39m \u001B[43mfinal\u001B[49m[final\u001B[38;5;241m.\u001B[39mcolumns\u001B[38;5;241m.\u001B[39mdrop(\u001B[38;5;28mlist\u001B[39m(df\u001B[38;5;241m.\u001B[39mfilter(regex\u001B[38;5;241m=\u001B[39m\u001B[38;5;124m'\u001B[39m\u001B[38;5;124mvid_title\u001B[39m\u001B[38;5;124m'\u001B[39m)))]\n",
      "\u001B[0;31mNameError\u001B[0m: name 'final' is not defined"
     ]
    }
   ],
   "source": [
    "final = final[final.columns.drop(list(df.filter(regex='vid_title')))]"
   ],
   "metadata": {
    "collapsed": false,
    "pycharm": {
     "name": "#%%\n"
    }
   }
  },
  {
   "cell_type": "code",
   "execution_count": 22,
   "outputs": [],
   "source": [
    "from sklearn.model_selection import train_test_split\n",
    "train, test = train_test_split(final, test_size=0.2, random_state=42)"
   ],
   "metadata": {
    "collapsed": false,
    "pycharm": {
     "name": "#%%\n"
    }
   }
  },
  {
   "cell_type": "code",
   "execution_count": 3,
   "outputs": [
    {
     "ename": "NameError",
     "evalue": "name 'train' is not defined",
     "output_type": "error",
     "traceback": [
      "\u001B[0;31m---------------------------------------------------------------------------\u001B[0m",
      "\u001B[0;31mNameError\u001B[0m                                 Traceback (most recent call last)",
      "Cell \u001B[0;32mIn[3], line 1\u001B[0m\n\u001B[0;32m----> 1\u001B[0m \u001B[43mtrain\u001B[49m\n",
      "\u001B[0;31mNameError\u001B[0m: name 'train' is not defined"
     ]
    }
   ],
   "source": [
    "train"
   ],
   "metadata": {
    "collapsed": false,
    "pycharm": {
     "name": "#%%\n"
    }
   }
  },
  {
   "cell_type": "code",
   "execution_count": 23,
   "outputs": [],
   "source": [
    "import pynndescent\n",
    "index = pynndescent.NNDescent(train.drop(['item_id', 'video_description', 'tv_title', 'video_title', 'CTR_10days_01_08', 'CTR_10days_21_07', 'CTR_10days_10_08', 'CTR_10days_21_08', 'tv_sub', 'season', 'publicated', 'category_title'], axis=1), n_jobs=8, n_neighbors=5, metric='cosine')"
   ],
   "metadata": {
    "collapsed": false,
    "pycharm": {
     "name": "#%%\n"
    }
   }
  },
  {
   "cell_type": "code",
   "execution_count": 276,
   "outputs": [
    {
     "name": "stderr",
     "output_type": "stream",
     "text": [
      "/Users/gd/lib/python3.10/site-packages/scipy/sparse/_index.py:146: SparseEfficiencyWarning: Changing the sparsity structure of a csr_matrix is expensive. lil_matrix is more efficient.\n",
      "  self._set_arrayXarray(i, j, x)\n"
     ]
    }
   ],
   "source": [
    "index.prepare()"
   ],
   "metadata": {
    "collapsed": false,
    "pycharm": {
     "name": "#%%\n"
    }
   }
  },
  {
   "cell_type": "code",
   "execution_count": 287,
   "outputs": [],
   "source": [
    "neighbors = index.query(test.drop(['item_id', 'video_description', 'tv_title', 'video_title', 'CTR_10days_01_08', 'CTR_10days_21_07', 'CTR_10days_10_08', 'CTR_10days_21_08', 'tv_sub', 'season', 'publicated', 'category_title'], axis=1).head(10), k=100)"
   ],
   "metadata": {
    "collapsed": false,
    "pycharm": {
     "name": "#%%\n"
    }
   }
  },
  {
   "cell_type": "code",
   "execution_count": 279,
   "outputs": [
    {
     "data": {
      "text/plain": "1025987     video_594977\n468859     video_2000944\n1638170     video_947196\n423766     video_2283492\n1597720    video_1537558\n1698657      video_53898\n67347      video_1350571\n872393      video_468461\n1564649    video_2155498\n79079       video_687512\nName: item_id, dtype: object"
     },
     "execution_count": 279,
     "metadata": {},
     "output_type": "execute_result"
    }
   ],
   "source": [
    "test.head(10)['item_id']"
   ],
   "metadata": {
    "collapsed": false,
    "pycharm": {
     "name": "#%%\n"
    }
   }
  },
  {
   "cell_type": "code",
   "execution_count": 294,
   "outputs": [
    {
     "name": "stdout",
     "output_type": "stream",
     "text": [
      "1683267    OKTOBER 2101 - Technomania 012\n",
      "Name: video_title, dtype: object\n",
      "749157    ТАХИОН ➤ Ratchet & Clank: Rift Apart #1\n",
      "Name: video_title, dtype: object\n",
      "794685    МОГИЛА ГЕНРИ ЭВЕРИ ◢ Uncharted 4 A Thiefs End #6\n",
      "Name: video_title, dtype: object\n",
      "1866885    буднитурагента\n",
      "Name: video_title, dtype: object\n",
      "2027168    Parklane, a Luxury Collection Resort & Spa\n",
      "Name: video_title, dtype: object\n",
      "1030059    Прогулка со смертью: начинается с подземелья мурлоков / Озвучка манги / Глава 1-10\n",
      "Name: video_title, dtype: object\n",
      "45303    Новогодний утренник в Детском Саду\\nСанкт - Петербург 2023\n",
      "Name: video_title, dtype: object\n",
      "1561585    Инструментальная азиатская музыка. Тибетская музыка для здоровья. Гималайский храм. №55\n",
      "Name: video_title, dtype: object\n",
      "1063682    Место и сроки Выживания! Радужные флаги и _радужные_ люди. Он, Она и... Оно(!_) Ольга Викторовна.\n",
      "Name: video_title, dtype: object\n",
      "891764    ПОЧТМЕЙСТЕР 2 0 или ОЖИВЛЕНИЕ ЧЕРЕЗ ПОЧТОВЫЙ СОЮЗ.  часть 2\n",
      "Name: video_title, dtype: object\n",
      "725851    Бодо Шефер, Мани или Азбука денег часть 3\n",
      "Name: video_title, dtype: object\n",
      "227054    Наталия Медведева про отношения в Камеди вумен, \"блате\" в КВН, астрологии и \"Последнем герое\"\n",
      "Name: video_title, dtype: object\n",
      "1101749    Stay Out \\ Stalker Online. Квест Вакцинация  проблема химикатов\n",
      "Name: video_title, dtype: object\n",
      "899461    Лодки. Гиды. Оборудование. Что по чем?\n",
      "Name: video_title, dtype: object\n",
      "1180331    [PC] [9] Cities Skylines - Большой город (Транспортные развязки)\n",
      "Name: video_title, dtype: object\n",
      "530801    Работа на дому. Логист.\n",
      "Name: video_title, dtype: object\n",
      "53416    Лекции Юдина Г.Б. Социология религии и политическая онтология Дюркгейма. Лекция №1\n",
      "Name: video_title, dtype: object\n",
      "2130087    Ритмичная музыка и красивые девушки. Vol96\n",
      "Name: video_title, dtype: object\n",
      "2268377    ?Злые Треки (Evil Music) ? Музыка в Машину ? Громкий Фронт ? Басс Музыка ♫ 2023?BASS BOOSTED#12\n",
      "Name: video_title, dtype: object\n",
      "771308    Разбил сердце и вырвал душу Любовный роман аудиокнига.mp4\n",
      "Name: video_title, dtype: object\n",
      "1152313    Ватербосс 700 и 900 (WaterBoss 700 и 900) замена смолы на Promix B (Промикс В) от железа и жёстк...\n",
      "Name: video_title, dtype: object\n",
      "1213955    ТАХИОН ➤ Forza Horizon 3 #1 НАЧАЛО\n",
      "Name: video_title, dtype: object\n",
      "1765018    ЗАРУБЕЖНАЯ ЭЛЕКТРОННАЯ МУЗЫКА ? Discotheque Retro Mix ?  Deep Classic Vocal & Nu Disco\n",
      "Name: video_title, dtype: object\n",
      "476521    Неадекваты в маркет плейсах. Яндекс маркет, Озон и Вайлдберриз - территория унижения и треша!\n",
      "Name: video_title, dtype: object\n",
      "1333823    Жанна Бичевская – Мой сборник часть 1\n",
      "Name: video_title, dtype: object\n",
      "1621408    УВИДЕТЬ ВРАГА И ПОБЕДИТЬ... ОЧЕНЬ СИЛЬНАЯ ЧИСТКА... ДАРЮ ВСЕМ... ВЕДЬМИНА ИЗБА ...\n",
      "Name: video_title, dtype: object\n",
      "1494192    Power BI. Power Query. 04. Очистка и преобразование данных. Очистка отчёта по продажам.mp4\n",
      "Name: video_title, dtype: object\n",
      "968101    Открыл свой музыкальный магазинчик ► Music Store Simulator ► Первый взгляд\n",
      "Name: video_title, dtype: object\n",
      "803527    Различные поездки на игрушечных транспортных средствах для детей\n",
      "Name: video_title, dtype: object\n",
      "360719    База Нового рассвета / 22 / Horizon Zero Dawn\n",
      "Name: video_title, dtype: object\n",
      "380484    Болит колено? Расскажем, как вылечить! / Массаж и упражнения от болей в колене\n",
      "Name: video_title, dtype: object\n",
      "1914832    Как провести самообследование в школе за 2021 ПОДКАСТ с ректором 09.03.2022 г..mp4\n",
      "Name: video_title, dtype: object\n",
      "1022885    Far Cry 6 ►#1\n",
      "Name: video_title, dtype: object\n",
      "844350    Управление проектами в Битрикс24\n",
      "Name: video_title, dtype: object\n",
      "255104    НОЖ «GRANDPA» BEAVER KNIFE CUSTOM СТАЛЬ CPM3V\n",
      "Name: video_title, dtype: object\n",
      "301373    Мы хотим знать... и Основы непонимания\n",
      "Name: video_title, dtype: object\n",
      "694886    ОГРОМНЫЙ #СБОРНИК песен мультиков для детей про трактор машинки поезда и животных\n",
      "Name: video_title, dtype: object\n",
      "1025464    ❤ПОДХОДИТЕ ЛИ ВЫ ДРУГ ДРУГУ?❤️ возможна ли гармония в ваших отношениях?\n",
      "Name: video_title, dtype: object\n",
      "488946    Ловили рыбу, жарили и ели. Алла Долбырь Деп - таежные рыболовные приключения. Фильм В.Кузьменко\n",
      "Name: video_title, dtype: object\n",
      "603464    Боди с рукавами для новорожденных спицами (3-6 месяцев). Вяжем с Оксаной Валерьевной, ОкСашаДВ.\n",
      "Name: video_title, dtype: object\n",
      "1113780    Молчанов - Проповедь по теме откровения 2 (1 часть)\n",
      "Name: video_title, dtype: object\n",
      "34654    Неинвазивная вентиляция легких и кислородотерапия\n",
      "Name: video_title, dtype: object\n",
      "203114    ОГЭ математика 2022 Ященко 11 ВАРИАНТ (1 и 2 часть)\n",
      "Name: video_title, dtype: object\n",
      "561889    Шум моря.. Шум прибоя,волн.. Релакс музыка.. Музыка для снятия стресса.. Звуки моря..\n",
      "Name: video_title, dtype: object\n",
      "540241    Кондитер 5, Серия 14\n",
      "Name: video_title, dtype: object\n",
      "86836    Resident Evil Village # 4 ►Игрофильм Прохождение Без Комментариев\n",
      "Name: video_title, dtype: object\n",
      "1026746    ИНИЦИАЦИЯ ➤ Horizon Zero Dawn  ➤ ПРОХОЖДЕНИЕ #03.\n",
      "Name: video_title, dtype: object\n",
      "228853    Кабаны. Кабаны на кормёжке. Охота и рыбалка. Фильм первый\n",
      "Name: video_title, dtype: object\n",
      "1183590    08 - Max Interval Circuit\n",
      "Name: video_title, dtype: object\n",
      "178258    Assassin's Creed. Origins. 26 серия. Основание братства\n",
      "Name: video_title, dtype: object\n",
      "429235    Hitman 2016. Прохождение Часть 7 Заключительная. Миссия Транспозиция Органов\n",
      "Name: video_title, dtype: object\n",
      "165939    ⚜ Кошкин дом. Союзмультфильм ⚜ 1958\n",
      "Name: video_title, dtype: object\n",
      "867556    20230716 v02(1958) э+в+э+гр 1080\n",
      "Name: video_title, dtype: object\n",
      "291086    Прохождения Ведьмака 3 Дикая охота - The Witcher 3 Wild Hunt GOTY. (Полный игрофильм весь сюжет)\n",
      "Name: video_title, dtype: object\n",
      "844853    Обзор ЧМ-2022 по футболу в Катаре - итоги первой половины чемпионата ⚡ Реальное время Live 5 дек...\n",
      "Name: video_title, dtype: object\n",
      "27496    Управляем Arduino с компьютера. Python + PyQt5\n",
      "Name: video_title, dtype: object\n",
      "929181    УВИДЕТЬ ВРАГА И ПОБЕДИТЬ.ОЧЕНЬ СИЛЬНАЯ ЧИСТКА.ДАРЮ ВСЕМ. ВЕДЬМИНА ИЗБА.ИНГА ХОСРОЕВА.\n",
      "Name: video_title, dtype: object\n",
      "989426    ВРАТА ЛЬВА. КАКИЕ ЭНЕРГИИ ВХОДЯТ В ТВОЮ ЖИЗНЬ ??[ расклад таро онлайн ]\n",
      "Name: video_title, dtype: object\n",
      "1135725    Зайчик вязаный крючком! Мятный зайка цельновязаный! Мастер-класс! МК зайчик! Зайчонок амигуруми!\n",
      "Name: video_title, dtype: object\n",
      "2284893    Часы РАКЕТА - все СЕКРЕТЫ. Дэвид Хендерсон-Стюарт отвечает на вопросы.\n",
      "Name: video_title, dtype: object\n",
      "1983328    Андроид приложение от дизайна до готового приложения\\n5.1 Последние штрихи и локализация\n",
      "Name: video_title, dtype: object\n",
      "1802958    Мастер класс по хореографии, педагог Бабкин Н.А. (23.10.2020).\n",
      "Name: video_title, dtype: object\n",
      "1923845    Farming Simulator 22\n",
      "Name: video_title, dtype: object\n",
      "236770    Тайна Слэндермэна (2013) Полнометражный фильм\n",
      "Name: video_title, dtype: object\n",
      "947675    Рэй_Далио__Меняющийся_мировой_порядок___Русский_язык_(дубляж).\n",
      "Name: video_title, dtype: object\n",
      "717098    Прохождение Chaser: Вспомнить все - Серия 10: Космопорт\n",
      "Name: video_title, dtype: object\n",
      "705848    Психолог Натан Гагулин | Преодолеть эмоциональное выгорание | Мне нужна помощь | КУБ\n",
      "Name: video_title, dtype: object\n",
      "19127    ХИТЫ 2022?Лучшая Музыка 2022?️ Зарубежные песни Хиты ?️ Популярные Песни 2022\n",
      "Name: video_title, dtype: object\n",
      "1923498    ОТКРОВЕНИЯ У АТРУШАНА\n",
      "Name: video_title, dtype: object\n",
      "875567    Россия. Уведомление об участии в КИК / Уведомление об участии в иностранной компании.\n",
      "Name: video_title, dtype: object\n",
      "1635725    Внесения сведений о приемной кампании 2023 года новыми регионами\n",
      "Name: video_title, dtype: object\n",
      "1654894    Sniper Elite V2 Remastered Прохождение на максимально высокой сложности✅\n",
      "Name: video_title, dtype: object\n",
      "1635689    Вебинар «Зачем сегодня нужен преподаватель»\n",
      "Name: video_title, dtype: object\n",
      "463375    #1 Uncharted Drake's fortune Анчартед судьба Дрейка. Обновленная версия.\n",
      "Name: video_title, dtype: object\n",
      "696978    451 градус по Фаренгейту (Действие второе)\n",
      "Name: video_title, dtype: object\n",
      "1278311    Esaret 160. Bölüm | Redemption Episode 160 Season Final\n",
      "Name: video_title, dtype: object\n",
      "1566643    ▷Two Worlds 2 (Два мира 2) [Прохождение]#13◁\n",
      "Name: video_title, dtype: object\n",
      "431054    world of tanks blitz! Качаем фердинанта в фан режиме!\n",
      "Name: video_title, dtype: object\n",
      "1605323    КАСПИЙ СЕКРЕТЫ ✔ METRO EXODUS #13\n",
      "Name: video_title, dtype: object\n",
      "746189    Сатья. \"Преподавание даст женщине лишь стресс\"\n",
      "Name: video_title, dtype: object\n",
      "118917    Поездка Пермь-Чусовой-Лысьва -- Подпишись\n",
      "Name: video_title, dtype: object\n",
      "2171984    Россия и мир, взгляд из приграничного региона _ Андрей Школьников\n",
      "Name: video_title, dtype: object\n",
      "1323360    Музыка для Медитации, Расслабляющая Музыка, Музыка для снятия стресса, Спокойная Музыка\n",
      "Name: video_title, dtype: object\n",
      "289411    Музыка для Медитации, Расслабляющая Музыка, Музыка для снятия стресса, Спокойная Музыка\n",
      "Name: video_title, dtype: object\n",
      "1216174    Burnhouse Lane прохождение #4 (Без комментариев/no commentary)\n",
      "Name: video_title, dtype: object\n",
      "15339    Артур-Скрипка-Форма. Ария Звезды из рок-оперы Жизнь и смерть Хоакина Мурьеты Эстрадное пение. ГОСы.\n",
      "Name: video_title, dtype: object\n",
      "617204    Мама, возьми нам папу! 1 - 30 главы (Маньхуа)\n",
      "Name: video_title, dtype: object\n",
      "1697898    Бывший старший судебный пристав (начальник отдела) рассказывает о нюансах службы. Как устроено Ф...\n",
      "Name: video_title, dtype: object\n",
      "2240898    Бывший старший судебный пристав (начальник отдела) рассказывает о нюансах службы. Как устроено Ф...\n",
      "Name: video_title, dtype: object\n",
      "1134052    G-Drive СМП РСКГ 2022 2-й этап. SMP GT4 Russia. Гонка 2\n",
      "Name: video_title, dtype: object\n",
      "384574    Вейпинг. Миф о 95%. Канцерогены, рак, риски, побочные эффекты\n",
      "Name: video_title, dtype: object\n",
      "495481    Миссис Россия Вселенная Ирина Гоголь о миссии, бизнесе, Блиновской  и знаменитом предке\n",
      "Name: video_title, dtype: object\n",
      "1511476    мир танков дневной рандом\n",
      "Name: video_title, dtype: object\n",
      "586556    8. Рисуем вместе РУДБЕКИЮ. Скетч-лето-2020\n",
      "Name: video_title, dtype: object\n",
      "2072100    TED. Нейросети в бизнес-процессах\n",
      "Name: video_title, dtype: object\n",
      "86576    ПОИСКОВАЯ МИССИЯ. КОЛОННА ПРАПОРА ✔ Тарков\n",
      "Name: video_title, dtype: object\n",
      "1584103    Отладка магазина одежды  - Big Ambitions #15\n",
      "Name: video_title, dtype: object\n",
      "1195123    Резиденция прохождение Часть # 1 - Little Nightmares DLC # 6\n",
      "Name: video_title, dtype: object\n",
      "158192    Deep House Mix 2022 Chillout Vocal House, Nu Disco Music\n",
      "Name: video_title, dtype: object\n",
      "324528    ВИЗУАЛЬНЫЙ ХОРРОР ✔ Не Своя (игра VK Play)\n",
      "Name: video_title, dtype: object\n"
     ]
    }
   ],
   "source": [
    "for i in neighbors[0][4]:\n",
    "    print(data[data['item_id'] == train.iloc[i].item_id].video_title)\n"
   ],
   "metadata": {
    "collapsed": false,
    "pycharm": {
     "name": "#%%\n"
    }
   }
  },
  {
   "cell_type": "code",
   "execution_count": 295,
   "outputs": [
    {
     "data": {
      "text/plain": "1597718    Micro Machines (NES Dendy 8bit) - Full Walkthrough Longplay no commentary - Микро машинки на денди\nName: video_title, dtype: object"
     },
     "execution_count": 295,
     "metadata": {},
     "output_type": "execute_result"
    }
   ],
   "source": [
    "data[data['item_id'] == 'video_1537558'].video_title"
   ],
   "metadata": {
    "collapsed": false,
    "pycharm": {
     "name": "#%%\n"
    }
   }
  },
  {
   "cell_type": "code",
   "execution_count": 293,
   "outputs": [
    {
     "data": {
      "text/plain": "               item_id  \\\n4         video_105383   \n977       video_193682   \n3132     video_1079724   \n3752     video_1660306   \n8504      video_830463   \n...                ...   \n2315276  video_2263059   \n2317049   video_572127   \n2318179   video_484754   \n2319052  video_1884090   \n2319955  video_2013951   \n\n                                                                                                 video_title  \\\n4                   Вебинар \"Особенности трудоустройства граждан Белоруссии, Казахстана, Киргизии и Армении\"   \n977                                                     Казахстанский певец Димаш впервые выступил в Армении   \n3132                                                                             Приложение Музеи Казахстана   \n3752     ZEEKR YOU 001,МАКСИМАЛКА НА ГАЗОВОЙ КРЫШЕ, Автозаказ из ОАЭ, Китая, Казахстана т 89853354575 ватсап   \n8504                         поселок ГЛУБОКОЕ. Восточный Казахстан. Осень 2022г. Съемка по заявкам зрителей.   \n...                                                                                                      ...   \n2315276                                                         Трейлер фильма \"Ореховое дерево\" (Казахстан)   \n2317049                      «Казахстан Темир Жолы» не будет повышать цены на билеты в 2016 году - Kazakh TV   \n2318179                                                                     Восточный Казахстан г. Шемонаиха   \n2319052           [ES] 102.5 Радио Шалкар (Макат, Казахстан), dist 2081 km. Ant 6-el yagi. Прием 23.07.19 г.   \n2319955                                   ??ТРАССА ЕСИЛЬ - КОСТАНАЙ - ЧЕЛЯБИНСК | Из Казахстана В Россию????   \n\n         author_title tv_title  season  \\\n4                   4     None       0   \n977               700     None       0   \n3132              833     None       0   \n3752             3036     None       0   \n8504             5902     None       0   \n...               ...      ...     ...   \n2315276          4762     None       0   \n2317049          2985     None       0   \n2318179          1079     None       0   \n2319052          6313     None       0   \n2319955          5971     None       0   \n\n                                                                                           video_description  \\\n4        10.08.2023 Вебинар \"Особенности трудоустройства граждан Белоруссии, Казахстана, Киргизии и Армен...   \n977      В Армению впервые приехал казахстанский певец Димаш. Концерт прошел в Большом зале спортивно-кон...   \n3132     Представляю вашему вниманию нашу идею для стартапа \"Музеи Казахстана\". Прошу не судить строго, в...   \n3752     Пишите и звоните ставьте лайки и подпишитесь на Ютуб канал.\\nВКонтакте:\\nhttps://vk.com/avtozaka...   \n8504     Мы с вами проедем по всем центральным улицам поселка, так же заедем в микрорайон Курчум. Посмотр...   \n...                                                                                                      ...   \n2315276                                                                                                 None   \n2317049                                                                                                 None   \n2318179                                                                                                 None   \n2319052                                                                                                 None   \n2319955                                                                                                 None   \n\n                       category_title                 publicated  duration  \\\n4        Бизнес и предпринимательство  2023-08-11 09:02:07+03:00   3834404   \n977                         Искусство  2023-05-21 21:24:03+03:00     66240   \n3132                           Разное  2023-07-15 12:17:07+03:00    122114   \n3752                        Авто-мото  2023-08-19 10:10:50+03:00     66106   \n8504                      Путешествия  2022-10-08 18:01:25+03:00   1264811   \n...                               ...                        ...       ...   \n2315276                        Разное  2023-07-07 14:01:59+03:00    110597   \n2317049                        Разное  2023-07-29 16:44:01+03:00    163190   \n2318179                        Разное  2023-07-22 15:15:10+03:00     78229   \n2319052                        Разное  2023-07-29 13:43:39+03:00     20829   \n2319955                   Путешествия  2021-09-16 07:52:58+03:00    334786   \n\n         channel_sub  tv_sub  CTR_10days_21_07  CTR_10days_01_08  \\\n4                 19       0               0.0               0.0   \n977             2714       0               0.0               0.0   \n3132               0       0               0.0               0.0   \n3752               0       0               0.0               0.0   \n8504               6       0               0.0               0.0   \n...              ...     ...               ...               ...   \n2315276            3       0               0.0               0.0   \n2317049            2       0               0.0               0.0   \n2318179            1       0               NaN               NaN   \n2319052            0       0               0.0               0.0   \n2319955           73       0               NaN               0.0   \n\n         CTR_10days_10_08  CTR_10days_21_08  \n4                0.000000               0.0  \n977              0.000000               0.0  \n3132             0.000000               0.0  \n3752             0.000000               0.0  \n8504             0.000000               0.0  \n...                   ...               ...  \n2315276          0.000000               0.0  \n2317049          0.000000               0.0  \n2318179               NaN               NaN  \n2319052          0.000000               0.0  \n2319955          0.333333               0.0  \n\n[2024 rows x 15 columns]",
      "text/html": "<div>\n<style scoped>\n    .dataframe tbody tr th:only-of-type {\n        vertical-align: middle;\n    }\n\n    .dataframe tbody tr th {\n        vertical-align: top;\n    }\n\n    .dataframe thead th {\n        text-align: right;\n    }\n</style>\n<table border=\"1\" class=\"dataframe\">\n  <thead>\n    <tr style=\"text-align: right;\">\n      <th></th>\n      <th>item_id</th>\n      <th>video_title</th>\n      <th>author_title</th>\n      <th>tv_title</th>\n      <th>season</th>\n      <th>video_description</th>\n      <th>category_title</th>\n      <th>publicated</th>\n      <th>duration</th>\n      <th>channel_sub</th>\n      <th>tv_sub</th>\n      <th>CTR_10days_21_07</th>\n      <th>CTR_10days_01_08</th>\n      <th>CTR_10days_10_08</th>\n      <th>CTR_10days_21_08</th>\n    </tr>\n  </thead>\n  <tbody>\n    <tr>\n      <th>4</th>\n      <td>video_105383</td>\n      <td>Вебинар \"Особенности трудоустройства граждан Белоруссии, Казахстана, Киргизии и Армении\"</td>\n      <td>4</td>\n      <td>None</td>\n      <td>0</td>\n      <td>10.08.2023 Вебинар \"Особенности трудоустройства граждан Белоруссии, Казахстана, Киргизии и Армен...</td>\n      <td>Бизнес и предпринимательство</td>\n      <td>2023-08-11 09:02:07+03:00</td>\n      <td>3834404</td>\n      <td>19</td>\n      <td>0</td>\n      <td>0.0</td>\n      <td>0.0</td>\n      <td>0.000000</td>\n      <td>0.0</td>\n    </tr>\n    <tr>\n      <th>977</th>\n      <td>video_193682</td>\n      <td>Казахстанский певец Димаш впервые выступил в Армении</td>\n      <td>700</td>\n      <td>None</td>\n      <td>0</td>\n      <td>В Армению впервые приехал казахстанский певец Димаш. Концерт прошел в Большом зале спортивно-кон...</td>\n      <td>Искусство</td>\n      <td>2023-05-21 21:24:03+03:00</td>\n      <td>66240</td>\n      <td>2714</td>\n      <td>0</td>\n      <td>0.0</td>\n      <td>0.0</td>\n      <td>0.000000</td>\n      <td>0.0</td>\n    </tr>\n    <tr>\n      <th>3132</th>\n      <td>video_1079724</td>\n      <td>Приложение Музеи Казахстана</td>\n      <td>833</td>\n      <td>None</td>\n      <td>0</td>\n      <td>Представляю вашему вниманию нашу идею для стартапа \"Музеи Казахстана\". Прошу не судить строго, в...</td>\n      <td>Разное</td>\n      <td>2023-07-15 12:17:07+03:00</td>\n      <td>122114</td>\n      <td>0</td>\n      <td>0</td>\n      <td>0.0</td>\n      <td>0.0</td>\n      <td>0.000000</td>\n      <td>0.0</td>\n    </tr>\n    <tr>\n      <th>3752</th>\n      <td>video_1660306</td>\n      <td>ZEEKR YOU 001,МАКСИМАЛКА НА ГАЗОВОЙ КРЫШЕ, Автозаказ из ОАЭ, Китая, Казахстана т 89853354575 ватсап</td>\n      <td>3036</td>\n      <td>None</td>\n      <td>0</td>\n      <td>Пишите и звоните ставьте лайки и подпишитесь на Ютуб канал.\\nВКонтакте:\\nhttps://vk.com/avtozaka...</td>\n      <td>Авто-мото</td>\n      <td>2023-08-19 10:10:50+03:00</td>\n      <td>66106</td>\n      <td>0</td>\n      <td>0</td>\n      <td>0.0</td>\n      <td>0.0</td>\n      <td>0.000000</td>\n      <td>0.0</td>\n    </tr>\n    <tr>\n      <th>8504</th>\n      <td>video_830463</td>\n      <td>поселок ГЛУБОКОЕ. Восточный Казахстан. Осень 2022г. Съемка по заявкам зрителей.</td>\n      <td>5902</td>\n      <td>None</td>\n      <td>0</td>\n      <td>Мы с вами проедем по всем центральным улицам поселка, так же заедем в микрорайон Курчум. Посмотр...</td>\n      <td>Путешествия</td>\n      <td>2022-10-08 18:01:25+03:00</td>\n      <td>1264811</td>\n      <td>6</td>\n      <td>0</td>\n      <td>0.0</td>\n      <td>0.0</td>\n      <td>0.000000</td>\n      <td>0.0</td>\n    </tr>\n    <tr>\n      <th>...</th>\n      <td>...</td>\n      <td>...</td>\n      <td>...</td>\n      <td>...</td>\n      <td>...</td>\n      <td>...</td>\n      <td>...</td>\n      <td>...</td>\n      <td>...</td>\n      <td>...</td>\n      <td>...</td>\n      <td>...</td>\n      <td>...</td>\n      <td>...</td>\n      <td>...</td>\n    </tr>\n    <tr>\n      <th>2315276</th>\n      <td>video_2263059</td>\n      <td>Трейлер фильма \"Ореховое дерево\" (Казахстан)</td>\n      <td>4762</td>\n      <td>None</td>\n      <td>0</td>\n      <td>None</td>\n      <td>Разное</td>\n      <td>2023-07-07 14:01:59+03:00</td>\n      <td>110597</td>\n      <td>3</td>\n      <td>0</td>\n      <td>0.0</td>\n      <td>0.0</td>\n      <td>0.000000</td>\n      <td>0.0</td>\n    </tr>\n    <tr>\n      <th>2317049</th>\n      <td>video_572127</td>\n      <td>«Казахстан Темир Жолы» не будет повышать цены на билеты в 2016 году - Kazakh TV</td>\n      <td>2985</td>\n      <td>None</td>\n      <td>0</td>\n      <td>None</td>\n      <td>Разное</td>\n      <td>2023-07-29 16:44:01+03:00</td>\n      <td>163190</td>\n      <td>2</td>\n      <td>0</td>\n      <td>0.0</td>\n      <td>0.0</td>\n      <td>0.000000</td>\n      <td>0.0</td>\n    </tr>\n    <tr>\n      <th>2318179</th>\n      <td>video_484754</td>\n      <td>Восточный Казахстан г. Шемонаиха</td>\n      <td>1079</td>\n      <td>None</td>\n      <td>0</td>\n      <td>None</td>\n      <td>Разное</td>\n      <td>2023-07-22 15:15:10+03:00</td>\n      <td>78229</td>\n      <td>1</td>\n      <td>0</td>\n      <td>NaN</td>\n      <td>NaN</td>\n      <td>NaN</td>\n      <td>NaN</td>\n    </tr>\n    <tr>\n      <th>2319052</th>\n      <td>video_1884090</td>\n      <td>[ES] 102.5 Радио Шалкар (Макат, Казахстан), dist 2081 km. Ant 6-el yagi. Прием 23.07.19 г.</td>\n      <td>6313</td>\n      <td>None</td>\n      <td>0</td>\n      <td>None</td>\n      <td>Разное</td>\n      <td>2023-07-29 13:43:39+03:00</td>\n      <td>20829</td>\n      <td>0</td>\n      <td>0</td>\n      <td>0.0</td>\n      <td>0.0</td>\n      <td>0.000000</td>\n      <td>0.0</td>\n    </tr>\n    <tr>\n      <th>2319955</th>\n      <td>video_2013951</td>\n      <td>??ТРАССА ЕСИЛЬ - КОСТАНАЙ - ЧЕЛЯБИНСК | Из Казахстана В Россию????</td>\n      <td>5971</td>\n      <td>None</td>\n      <td>0</td>\n      <td>None</td>\n      <td>Путешествия</td>\n      <td>2021-09-16 07:52:58+03:00</td>\n      <td>334786</td>\n      <td>73</td>\n      <td>0</td>\n      <td>NaN</td>\n      <td>0.0</td>\n      <td>0.333333</td>\n      <td>0.0</td>\n    </tr>\n  </tbody>\n</table>\n<p>2024 rows × 15 columns</p>\n</div>"
     },
     "execution_count": 293,
     "metadata": {},
     "output_type": "execute_result"
    }
   ],
   "source": [
    "data[data['video_title'].str.contains('Казахстан')]"
   ],
   "metadata": {
    "collapsed": false,
    "pycharm": {
     "name": "#%%\n"
    }
   }
  },
  {
   "cell_type": "code",
   "execution_count": 297,
   "outputs": [],
   "source": [
    "import pickle\n",
    "\n",
    "pickle.dump(index, open('index_vid_titles_categs.pkl', 'wb'))\n",
    "# m = pickle.load(open('index_vid_titles.pkl', 'rb'))"
   ],
   "metadata": {
    "collapsed": false,
    "pycharm": {
     "name": "#%%\n"
    }
   }
  },
  {
   "cell_type": "code",
   "execution_count": null,
   "outputs": [],
   "source": [
    "\n",
    "def wid_long(videos: pd.DataFrame, user_id: int, users: pd.DataFrame) -> pd.DataFrame:\n",
    "    tqdm.pandas()\n",
    "    hist = users[users[\"user_id\"] == user_id]\n",
    "    hist = pd.merge(hist, videos, on='item_id').drop(columns=[\"user_id\"], axis=1)\n",
    "    for i in tqdm(range(100)):\n",
    "        hist[f\"v_title_{i}\"] = hist.progress_apply(lambda row: row[f\"v_title_{i}\"] * 2\n",
    "        if ((row[\"watch_time\"] / (row[\"duration\"] / 1000)) > 0.25\n",
    "            if (row[\"duration\"] / 1000) > 300\n",
    "            else row[\"watch_time\"] > 30)\n",
    "        else 1, axis=1)\n",
    "    return hist.drop(columns=[\"watch_time\", \"duration\"], axis=1)\n",
    "\n",
    "\n",
    "def like(videos: pd.DataFrame, user_id: int, users: pd.DataFrame, emotions: pd.DataFrame) -> pd.DataFrame:\n",
    "    emotions = emotions[[\"C2\", \"C3\", \"C4\"]]\n",
    "    emotions = emotions[emotions[\"C2\"] == user_id]\n",
    "    emotions = emotions[[\"C3\", \"C4\"]]\n",
    "    hist = users[users[\"user_id\"] == user_id]\n",
    "    hist = pd.merge(hist, videos, on='item_id').drop(columns=[\"user_id\"], axis=1)\n",
    "    hist = pd.merge(hist, emotions, left_on='item_id', right_on=\"C3\").drop(columns=[\"user_id\"], axis=1)\n",
    "    for i in tqdm(range(100)):\n",
    "        hist[f\"v_title_{i}\"] = hist.progress_apply(lambda row: row[f\"v_title_{i}\"] * 2 if row[\"C4\"] == \"pos_emotions\"\n",
    "        else (0.5 if row[\"C4\"] == \"neg_emotions\" else 1), axis=1)\n",
    "    return hist.drop(columns=[\"C4\", \"C3\"], axis=1)\n",
    "\n",
    "\n",
    "def encode_categories(videos: pd.DataFrame) -> pd.DataFrame:\n",
    "    # получаем dummy-переменные\n",
    "    dummies = pd.get_dummies(videos['category_title'], prefix='cat')\n",
    "\n",
    "    # объединяем с исходным датафреймом\n",
    "    videos = pd.concat([videos, dummies], axis=1)\n",
    "    return videos.drop(columns=[\"category_title\"], axis=1)"
   ],
   "metadata": {
    "collapsed": false,
    "pycharm": {
     "name": "#%%\n"
    }
   }
  },
  {
   "cell_type": "code",
   "execution_count": 201,
   "outputs": [
    {
     "data": {
      "text/plain": "               item_id                                        video_title  \\\n0         video_165654  msi pro mp241x недообзор решение проблемы с ме...   \n1        video_1173704       наложение пястно фаланговой повязки на кисть   \n2          video_23927  silverstonef1 sochi pro и neoline x cop 6000s ...   \n3        video_1003780  больница в brookhaven доктор пупкин спас жених...   \n4         video_105383  вебинар особенности трудоустройства граждан бе...   \n...                ...                                                ...   \n2320655   video_839160          любимцы гена в памперсе бегает по клинике   \n2320656  video_2134427  телеканал «спас» «главное» интервью с в степашина   \n2320657  video_1453482                           взятие 3 отметок на ис 7   \n2320658  video_2225207  простой и вкусный рецепт пирога с грушами и сы...   \n2320659  video_2242378                                дом2 live 1570 день   \n\n         author_title     tv_title  season  \\\n0                   0         None       0   \n1                   1         None       0   \n2                   2         None       0   \n3                   3         None       0   \n4                   4         None       0   \n...               ...          ...     ...   \n2320655        147463      Любимцы       1   \n2320656         34203         None       0   \n2320657        155222         None       0   \n2320658          1646         None       0   \n2320659         94991  Дом 2. Live       7   \n\n                                         video_description  category_title  \\\n0        в видео я обывательским взглядом расскажу про ...               0   \n1        видео с канала уц академия безопасности abdpor...               1   \n2        silverstonef1 sochi pro и neoline x cop 6000s ...               2   \n3        играем в роблокс roblox  больница в brookhaven...               3   \n4        10082023 вебинар особенности трудоустройства г...               4   \n...                                                    ...             ...   \n2320655                                                                 22   \n2320656                                                                 33   \n2320657                                                                 20   \n2320658                                                                  6   \n2320659                                                                 12   \n\n                        publicated  duration  channel_sub  tv_sub  \\\n0        2022-12-08 13:53:05+03:00    391382            0       0   \n1        2022-03-24 09:19:15+03:00    125922           26       0   \n2        2022-03-19 17:41:49+03:00    436570            2       0   \n3        2021-02-20 11:50:53+03:00    719377          673       0   \n4        2023-08-11 09:02:07+03:00   3834404           19       0   \n...                            ...       ...          ...     ...   \n2320655  2017-09-11 22:00:13+03:00     23290            0       0   \n2320656  2022-03-28 11:19:33+03:00   1548792           57       0   \n2320657  2022-09-10 20:05:17+03:00    520001           12       0   \n2320658  2023-07-06 12:16:29+03:00      8267            9       0   \n2320659  2016-10-21 15:27:59+03:00   4192046       152974   33420   \n\n         CTR_10days_21_07  CTR_10days_01_08  CTR_10days_10_08  \\\n0                     NaN               0.0          0.000000   \n1                     NaN               0.0          0.000000   \n2                     NaN               NaN          0.000000   \n3                     0.0               1.0          0.000000   \n4                     0.0               0.0          0.000000   \n...                   ...               ...               ...   \n2320655               NaN               0.0          0.333333   \n2320656               0.0               0.0          0.000000   \n2320657               NaN               NaN               NaN   \n2320658               0.0               0.0          0.000000   \n2320659               NaN               NaN               NaN   \n\n         CTR_10days_21_08  \n0                     NaN  \n1                    0.00  \n2                    0.00  \n3                    0.00  \n4                    0.00  \n...                   ...  \n2320655              0.25  \n2320656              0.00  \n2320657               NaN  \n2320658              0.00  \n2320659              1.00  \n\n[2320660 rows x 15 columns]",
      "text/html": "<div>\n<style scoped>\n    .dataframe tbody tr th:only-of-type {\n        vertical-align: middle;\n    }\n\n    .dataframe tbody tr th {\n        vertical-align: top;\n    }\n\n    .dataframe thead th {\n        text-align: right;\n    }\n</style>\n<table border=\"1\" class=\"dataframe\">\n  <thead>\n    <tr style=\"text-align: right;\">\n      <th></th>\n      <th>item_id</th>\n      <th>video_title</th>\n      <th>author_title</th>\n      <th>tv_title</th>\n      <th>season</th>\n      <th>video_description</th>\n      <th>category_title</th>\n      <th>publicated</th>\n      <th>duration</th>\n      <th>channel_sub</th>\n      <th>tv_sub</th>\n      <th>CTR_10days_21_07</th>\n      <th>CTR_10days_01_08</th>\n      <th>CTR_10days_10_08</th>\n      <th>CTR_10days_21_08</th>\n    </tr>\n  </thead>\n  <tbody>\n    <tr>\n      <th>0</th>\n      <td>video_165654</td>\n      <td>msi pro mp241x недообзор решение проблемы с ме...</td>\n      <td>0</td>\n      <td>None</td>\n      <td>0</td>\n      <td>в видео я обывательским взглядом расскажу про ...</td>\n      <td>0</td>\n      <td>2022-12-08 13:53:05+03:00</td>\n      <td>391382</td>\n      <td>0</td>\n      <td>0</td>\n      <td>NaN</td>\n      <td>0.0</td>\n      <td>0.000000</td>\n      <td>NaN</td>\n    </tr>\n    <tr>\n      <th>1</th>\n      <td>video_1173704</td>\n      <td>наложение пястно фаланговой повязки на кисть</td>\n      <td>1</td>\n      <td>None</td>\n      <td>0</td>\n      <td>видео с канала уц академия безопасности abdpor...</td>\n      <td>1</td>\n      <td>2022-03-24 09:19:15+03:00</td>\n      <td>125922</td>\n      <td>26</td>\n      <td>0</td>\n      <td>NaN</td>\n      <td>0.0</td>\n      <td>0.000000</td>\n      <td>0.00</td>\n    </tr>\n    <tr>\n      <th>2</th>\n      <td>video_23927</td>\n      <td>silverstonef1 sochi pro и neoline x cop 6000s ...</td>\n      <td>2</td>\n      <td>None</td>\n      <td>0</td>\n      <td>silverstonef1 sochi pro и neoline x cop 6000s ...</td>\n      <td>2</td>\n      <td>2022-03-19 17:41:49+03:00</td>\n      <td>436570</td>\n      <td>2</td>\n      <td>0</td>\n      <td>NaN</td>\n      <td>NaN</td>\n      <td>0.000000</td>\n      <td>0.00</td>\n    </tr>\n    <tr>\n      <th>3</th>\n      <td>video_1003780</td>\n      <td>больница в brookhaven доктор пупкин спас жених...</td>\n      <td>3</td>\n      <td>None</td>\n      <td>0</td>\n      <td>играем в роблокс roblox  больница в brookhaven...</td>\n      <td>3</td>\n      <td>2021-02-20 11:50:53+03:00</td>\n      <td>719377</td>\n      <td>673</td>\n      <td>0</td>\n      <td>0.0</td>\n      <td>1.0</td>\n      <td>0.000000</td>\n      <td>0.00</td>\n    </tr>\n    <tr>\n      <th>4</th>\n      <td>video_105383</td>\n      <td>вебинар особенности трудоустройства граждан бе...</td>\n      <td>4</td>\n      <td>None</td>\n      <td>0</td>\n      <td>10082023 вебинар особенности трудоустройства г...</td>\n      <td>4</td>\n      <td>2023-08-11 09:02:07+03:00</td>\n      <td>3834404</td>\n      <td>19</td>\n      <td>0</td>\n      <td>0.0</td>\n      <td>0.0</td>\n      <td>0.000000</td>\n      <td>0.00</td>\n    </tr>\n    <tr>\n      <th>...</th>\n      <td>...</td>\n      <td>...</td>\n      <td>...</td>\n      <td>...</td>\n      <td>...</td>\n      <td>...</td>\n      <td>...</td>\n      <td>...</td>\n      <td>...</td>\n      <td>...</td>\n      <td>...</td>\n      <td>...</td>\n      <td>...</td>\n      <td>...</td>\n      <td>...</td>\n    </tr>\n    <tr>\n      <th>2320655</th>\n      <td>video_839160</td>\n      <td>любимцы гена в памперсе бегает по клинике</td>\n      <td>147463</td>\n      <td>Любимцы</td>\n      <td>1</td>\n      <td></td>\n      <td>22</td>\n      <td>2017-09-11 22:00:13+03:00</td>\n      <td>23290</td>\n      <td>0</td>\n      <td>0</td>\n      <td>NaN</td>\n      <td>0.0</td>\n      <td>0.333333</td>\n      <td>0.25</td>\n    </tr>\n    <tr>\n      <th>2320656</th>\n      <td>video_2134427</td>\n      <td>телеканал «спас» «главное» интервью с в степашина</td>\n      <td>34203</td>\n      <td>None</td>\n      <td>0</td>\n      <td></td>\n      <td>33</td>\n      <td>2022-03-28 11:19:33+03:00</td>\n      <td>1548792</td>\n      <td>57</td>\n      <td>0</td>\n      <td>0.0</td>\n      <td>0.0</td>\n      <td>0.000000</td>\n      <td>0.00</td>\n    </tr>\n    <tr>\n      <th>2320657</th>\n      <td>video_1453482</td>\n      <td>взятие 3 отметок на ис 7</td>\n      <td>155222</td>\n      <td>None</td>\n      <td>0</td>\n      <td></td>\n      <td>20</td>\n      <td>2022-09-10 20:05:17+03:00</td>\n      <td>520001</td>\n      <td>12</td>\n      <td>0</td>\n      <td>NaN</td>\n      <td>NaN</td>\n      <td>NaN</td>\n      <td>NaN</td>\n    </tr>\n    <tr>\n      <th>2320658</th>\n      <td>video_2225207</td>\n      <td>простой и вкусный рецепт пирога с грушами и сы...</td>\n      <td>1646</td>\n      <td>None</td>\n      <td>0</td>\n      <td></td>\n      <td>6</td>\n      <td>2023-07-06 12:16:29+03:00</td>\n      <td>8267</td>\n      <td>9</td>\n      <td>0</td>\n      <td>0.0</td>\n      <td>0.0</td>\n      <td>0.000000</td>\n      <td>0.00</td>\n    </tr>\n    <tr>\n      <th>2320659</th>\n      <td>video_2242378</td>\n      <td>дом2 live 1570 день</td>\n      <td>94991</td>\n      <td>Дом 2. Live</td>\n      <td>7</td>\n      <td></td>\n      <td>12</td>\n      <td>2016-10-21 15:27:59+03:00</td>\n      <td>4192046</td>\n      <td>152974</td>\n      <td>33420</td>\n      <td>NaN</td>\n      <td>NaN</td>\n      <td>NaN</td>\n      <td>1.00</td>\n    </tr>\n  </tbody>\n</table>\n<p>2320660 rows × 15 columns</p>\n</div>"
     },
     "execution_count": 201,
     "metadata": {},
     "output_type": "execute_result"
    }
   ],
   "source": [
    "data"
   ],
   "metadata": {
    "collapsed": false,
    "pycharm": {
     "name": "#%%\n"
    }
   }
  },
  {
   "cell_type": "code",
   "execution_count": null,
   "outputs": [],
   "source": [],
   "metadata": {
    "collapsed": false,
    "pycharm": {
     "name": "#%%\n"
    }
   }
  }
 ],
 "metadata": {
  "kernelspec": {
   "display_name": "Python 3",
   "language": "python",
   "name": "python3"
  },
  "language_info": {
   "codemirror_mode": {
    "name": "ipython",
    "version": 2
   },
   "file_extension": ".py",
   "mimetype": "text/x-python",
   "name": "python",
   "nbconvert_exporter": "python",
   "pygments_lexer": "ipython2",
   "version": "2.7.6"
  }
 },
 "nbformat": 4,
 "nbformat_minor": 0
}