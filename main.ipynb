{
 "cells": [
  {
   "cell_type": "code",
   "execution_count": 15,
   "metadata": {
    "collapsed": true,
    "pycharm": {
     "name": "#%%\n"
    }
   },
   "outputs": [],
   "source": [
    "import pandas as pd\n",
    "import numpy as np\n",
    "import pyarrow.parquet as pq\n",
    "import regex as re\n",
    "import nltk\n",
    "from nltk.corpus import stopwords\n",
    "from gensim.models.doc2vec import Doc2Vec, TaggedDocument\n",
    "from sklearn import preprocessing"
   ]
  },
  {
   "cell_type": "code",
   "execution_count": 9,
   "outputs": [],
   "source": [
    "TRAIN_PATH = 'train_dataset_RUTUBE/'\n",
    "MODELS_PATH = 'doc2vec_models'"
   ],
   "metadata": {
    "collapsed": false,
    "pycharm": {
     "name": "#%%\n"
    }
   }
  },
  {
   "cell_type": "code",
   "execution_count": 2,
   "outputs": [],
   "source": [
    "data =  pq.read_table(TRAIN_PATH+'videos.parquet').to_pandas()"
   ],
   "metadata": {
    "collapsed": false,
    "pycharm": {
     "name": "#%%\n"
    }
   }
  },
  {
   "cell_type": "code",
   "execution_count": 78,
   "outputs": [],
   "source": [
    "# schema = pa.schema([\n",
    "#     ('item_id', pa.string()),\n",
    "#     ('video_title', pa.string()),\n",
    "#     ('author_title', pa.string()),\n",
    "#     ('tv_title', pa.string()),\n",
    "#     ('season', pa.int16()),\n",
    "#     ('video_description', pa.string()),\n",
    "#     ('category_title', pa.string()),\n",
    "#     ('publicated', pa.string()),\n",
    "#     ('duration', pa.int32()),\n",
    "#     ('channel_sub', pa.int32()),\n",
    "#     ('tv_sub', pa.int32()),\n",
    "#     ('CTR_10days_21_07', pa.float32()),\n",
    "#     ('CTR_10days_01_08', pa.float32()),\n",
    "#     ('CTR_10days_10_08', pa.float32()),\n",
    "#     ('CTR_10days_21_08', pa.float32()),\n",
    "#     ('__index_level_0__', pa.int64())\n",
    "# ])\n",
    "#\n",
    "# source_table = pa.Table.from_pandas(data)\n",
    "# source_table = source_table.cast(schema)\n",
    "# pq.write_table(source_table, 'my_parquet_table.parquet')"
   ],
   "metadata": {
    "collapsed": false,
    "pycharm": {
     "name": "#%%\n"
    }
   }
  },
  {
   "cell_type": "code",
   "execution_count": 3,
   "outputs": [],
   "source": [
    "data.rename(columns={'ctr.CTR_10days_21_07': 'CTR_10days_21_07', 'ctr.CTR_10days_01_08': 'CTR_10days_01_08',\n",
    "                     'ctr.CTR_10days_10_08': 'CTR_10days_10_08', 'ctr.CTR_10days_21_08': 'CTR_10days_21_08'}, inplace=True)"
   ],
   "metadata": {
    "collapsed": false,
    "pycharm": {
     "name": "#%%\n"
    }
   }
  },
  {
   "cell_type": "code",
   "execution_count": 2,
   "outputs": [],
   "source": [
    "users = pq.read_table('train_dataset_RUTUBE/player_starts_train.parquet').to_pandas()"
   ],
   "metadata": {
    "collapsed": false,
    "pycharm": {
     "name": "#%%\n"
    }
   }
  },
  {
   "cell_type": "code",
   "execution_count": 19,
   "outputs": [],
   "source": [
    "small_users = pd.read_csv('train_dataset_RUTUBE/small_player_starts_train.csv')"
   ],
   "metadata": {
    "collapsed": false,
    "pycharm": {
     "name": "#%%\n"
    }
   }
  },
  {
   "cell_type": "code",
   "execution_count": 20,
   "outputs": [
    {
     "name": "stderr",
     "output_type": "stream",
     "text": [
      "/var/folders/vn/wf1rpzp51jj_bp2lz71rs3q80000gn/T/ipykernel_9919/1923230411.py:2: SettingWithCopyWarning: \n",
      "A value is trying to be set on a copy of a slice from a DataFrame\n",
      "\n",
      "See the caveats in the documentation: https://pandas.pydata.org/pandas-docs/stable/user_guide/indexing.html#returning-a-view-versus-a-copy\n",
      "  authorized.drop('is_autorized', inplace=True, axis=1)\n"
     ]
    }
   ],
   "source": [
    "authorized = users[users['is_autorized'] == 1]\n",
    "authorized.drop('is_autorized', inplace=True, axis=1)"
   ],
   "metadata": {
    "collapsed": false,
    "pycharm": {
     "name": "#%%\n"
    }
   }
  },
  {
   "cell_type": "code",
   "execution_count": 37,
   "outputs": [],
   "source": [
    "def preprocess_xtext(text: str, remove_stopwords: bool) -> str:\n",
    "    text = re.sub(r\"http\\S+\", \"\", text)\n",
    "    text = re.sub(\"[^А-Яа-я0-9 ]+\", \" \", text)\n",
    "    tokens = nltk.word_tokenize(text)\n",
    "    if remove_stopwords:\n",
    "        tokens = [w.lower().strip() for w in tokens if not w.lower() in stopwords.words(\"russian\")]\n",
    "        return tokens\n",
    "    return tokens"
   ],
   "metadata": {
    "collapsed": false,
    "pycharm": {
     "name": "#%%\n"
    }
   }
  },
  {
   "cell_type": "code",
   "execution_count": 4,
   "outputs": [],
   "source": [
    "import string\n",
    "translator = str.maketrans('', '', string.punctuation)\n",
    "\n",
    "'''Making text embeddings'''\n",
    "\n",
    "\n",
    "data['video_title'] = data['video_title'].apply(lambda x: x.translate(translator).lower().strip() if isinstance(x, str) else x)\n",
    "data['video_description'].fillna(\"\", inplace=True)\n",
    "data['video_description'] = data['video_description'].apply(lambda x: x.translate(translator).lower().strip() if isinstance(x, str) else x)\n"
   ],
   "metadata": {
    "collapsed": false,
    "pycharm": {
     "name": "#%%\n"
    }
   }
  },
  {
   "cell_type": "code",
   "execution_count": 62,
   "outputs": [
    {
     "ename": "KeyboardInterrupt",
     "evalue": "",
     "output_type": "error",
     "traceback": [
      "\u001B[0;31m---------------------------------------------------------------------------\u001B[0m",
      "\u001B[0;31mKeyboardInterrupt\u001B[0m                         Traceback (most recent call last)",
      "Cell \u001B[0;32mIn [62], line 3\u001B[0m\n\u001B[1;32m      1\u001B[0m \u001B[38;5;28;01mfrom\u001B[39;00m \u001B[38;5;21;01mgensim\u001B[39;00m\u001B[38;5;21;01m.\u001B[39;00m\u001B[38;5;21;01mmodels\u001B[39;00m\u001B[38;5;21;01m.\u001B[39;00m\u001B[38;5;21;01mdoc2vec\u001B[39;00m \u001B[38;5;28;01mimport\u001B[39;00m Doc2Vec, TaggedDocument\n\u001B[0;32m----> 3\u001B[0m video_descriptions \u001B[38;5;241m=\u001B[39m [TaggedDocument(doc, [i]) \u001B[38;5;28;01mfor\u001B[39;00m i, doc \u001B[38;5;129;01min\u001B[39;00m \u001B[38;5;28menumerate\u001B[39m(data[\u001B[38;5;124m'\u001B[39m\u001B[38;5;124mvideo_description\u001B[39m\u001B[38;5;124m'\u001B[39m]\u001B[38;5;241m.\u001B[39mtolist())]\n\u001B[1;32m      5\u001B[0m model_video_descr \u001B[38;5;241m=\u001B[39m Doc2Vec(video_descriptions,\n\u001B[1;32m      6\u001B[0m                 vector_size\u001B[38;5;241m=\u001B[39m\u001B[38;5;241m10\u001B[39m,\n\u001B[1;32m      7\u001B[0m                 window\u001B[38;5;241m=\u001B[39m\u001B[38;5;28mlen\u001B[39m(video_descriptions),\n\u001B[1;32m      8\u001B[0m                 workers\u001B[38;5;241m=\u001B[39m\u001B[38;5;241m8\u001B[39m,\n\u001B[1;32m      9\u001B[0m                 epochs\u001B[38;5;241m=\u001B[39m\u001B[38;5;241m1\u001B[39m,\n\u001B[1;32m     10\u001B[0m                 seed\u001B[38;5;241m=\u001B[39m\u001B[38;5;241m42\u001B[39m)\n",
      "Cell \u001B[0;32mIn [62], line 3\u001B[0m, in \u001B[0;36m<listcomp>\u001B[0;34m(.0)\u001B[0m\n\u001B[1;32m      1\u001B[0m \u001B[38;5;28;01mfrom\u001B[39;00m \u001B[38;5;21;01mgensim\u001B[39;00m\u001B[38;5;21;01m.\u001B[39;00m\u001B[38;5;21;01mmodels\u001B[39;00m\u001B[38;5;21;01m.\u001B[39;00m\u001B[38;5;21;01mdoc2vec\u001B[39;00m \u001B[38;5;28;01mimport\u001B[39;00m Doc2Vec, TaggedDocument\n\u001B[0;32m----> 3\u001B[0m video_descriptions \u001B[38;5;241m=\u001B[39m [\u001B[43mTaggedDocument\u001B[49m\u001B[43m(\u001B[49m\u001B[43mdoc\u001B[49m\u001B[43m,\u001B[49m\u001B[43m \u001B[49m\u001B[43m[\u001B[49m\u001B[43mi\u001B[49m\u001B[43m]\u001B[49m\u001B[43m)\u001B[49m \u001B[38;5;28;01mfor\u001B[39;00m i, doc \u001B[38;5;129;01min\u001B[39;00m \u001B[38;5;28menumerate\u001B[39m(data[\u001B[38;5;124m'\u001B[39m\u001B[38;5;124mvideo_description\u001B[39m\u001B[38;5;124m'\u001B[39m]\u001B[38;5;241m.\u001B[39mtolist())]\n\u001B[1;32m      5\u001B[0m model_video_descr \u001B[38;5;241m=\u001B[39m Doc2Vec(video_descriptions,\n\u001B[1;32m      6\u001B[0m                 vector_size\u001B[38;5;241m=\u001B[39m\u001B[38;5;241m10\u001B[39m,\n\u001B[1;32m      7\u001B[0m                 window\u001B[38;5;241m=\u001B[39m\u001B[38;5;28mlen\u001B[39m(video_descriptions),\n\u001B[1;32m      8\u001B[0m                 workers\u001B[38;5;241m=\u001B[39m\u001B[38;5;241m8\u001B[39m,\n\u001B[1;32m      9\u001B[0m                 epochs\u001B[38;5;241m=\u001B[39m\u001B[38;5;241m1\u001B[39m,\n\u001B[1;32m     10\u001B[0m                 seed\u001B[38;5;241m=\u001B[39m\u001B[38;5;241m42\u001B[39m)\n",
      "File \u001B[0;32m<string>:1\u001B[0m, in \u001B[0;36m<lambda>\u001B[0;34m(_cls, words, tags)\u001B[0m\n",
      "\u001B[0;31mKeyboardInterrupt\u001B[0m: "
     ]
    }
   ],
   "source": [
    "# video_descriptions = [TaggedDocument(doc, [i]) for i, doc in enumerate(data['video_description'].tolist())]\n",
    "author_titles = [TaggedDocument(doc, [i]) for i, doc in enumerate(data['author_title'].tolist())]\n",
    "video_titles = [TaggedDocument(doc, [i]) for i, doc in enumerate(data['video_title'].tolist())]\n",
    "\n",
    "# model_video_descr = Doc2Vec(video_descriptions,\n",
    "#                 vector_size=100,\n",
    "#                 window=len(video_descriptions),\n",
    "#                 workers=8,\n",
    "#                 epochs=1,\n",
    "#                 seed=42)\n",
    "\n",
    "model_author_titles = Doc2Vec(author_titles,\n",
    "                vector_size=100,\n",
    "                window=len(author_titles),\n",
    "                workers=8,\n",
    "                epochs=10,\n",
    "                seed=42)\n",
    "\n",
    "model_video_titles = Doc2Vec(video_titles,\n",
    "                vector_size=100,\n",
    "                window=len(video_titles),\n",
    "                workers=8,\n",
    "                epochs=10,\n",
    "                seed=42)"
   ],
   "metadata": {
    "collapsed": false,
    "pycharm": {
     "name": "#%%\n"
    }
   }
  },
  {
   "cell_type": "code",
   "execution_count": null,
   "outputs": [],
   "source": [
    "model_video_titles.save(MODELS_PATH+'model_video_titles')\n",
    "model_author_titles.save(MODELS_PATH+'model_author_titles')\n",
    "# model_video_descr.save(MODELS_PATH+'model_video_descr')\n"
   ],
   "metadata": {
    "collapsed": false,
    "pycharm": {
     "name": "#%%\n"
    }
   }
  },
  {
   "cell_type": "code",
   "execution_count": 84,
   "outputs": [],
   "source": [
    "# author_titles = np.load('doc2vec_models/model_author_titles.dv.vectors.npy', allow_pickle=True)\n",
    "video_titles = np.load('doc2vec_models/model_video_titles.dv.vectors.npy', allow_pickle=True)"
   ],
   "metadata": {
    "collapsed": false,
    "pycharm": {
     "name": "#%%\n"
    }
   }
  },
  {
   "cell_type": "code",
   "execution_count": 85,
   "outputs": [
    {
     "ename": "ValueError",
     "evalue": "zero-dimensional arrays cannot be concatenated",
     "output_type": "error",
     "traceback": [
      "\u001B[0;31m---------------------------------------------------------------------------\u001B[0m",
      "\u001B[0;31mValueError\u001B[0m                                Traceback (most recent call last)",
      "Cell \u001B[0;32mIn[85], line 1\u001B[0m\n\u001B[0;32m----> 1\u001B[0m text_embs \u001B[38;5;241m=\u001B[39m \u001B[43mnp\u001B[49m\u001B[38;5;241;43m.\u001B[39;49m\u001B[43mconcatenate\u001B[49m\u001B[43m(\u001B[49m\u001B[43m[\u001B[49m\u001B[43mauthor_titles\u001B[49m\u001B[43m,\u001B[49m\u001B[43mvideo_titles\u001B[49m\u001B[43m]\u001B[49m\u001B[43m,\u001B[49m\u001B[43m \u001B[49m\u001B[43maxis\u001B[49m\u001B[38;5;241;43m=\u001B[39;49m\u001B[38;5;241;43m-\u001B[39;49m\u001B[38;5;241;43m1\u001B[39;49m\u001B[43m)\u001B[49m\n",
      "File \u001B[0;32m<__array_function__ internals>:180\u001B[0m, in \u001B[0;36mconcatenate\u001B[0;34m(*args, **kwargs)\u001B[0m\n",
      "\u001B[0;31mValueError\u001B[0m: zero-dimensional arrays cannot be concatenated"
     ]
    }
   ],
   "source": [
    "text_embs = np.concatenate([author_titles,video_titles], axis=-1)"
   ],
   "metadata": {
    "collapsed": false,
    "pycharm": {
     "name": "#%%\n"
    }
   }
  },
  {
   "cell_type": "code",
   "execution_count": 86,
   "outputs": [],
   "source": [
    "text_embs_normalized = preprocessing.minmax_scale(video_titles.T).T"
   ],
   "metadata": {
    "collapsed": false,
    "pycharm": {
     "name": "#%%\n"
    }
   }
  },
  {
   "cell_type": "code",
   "execution_count": 99,
   "outputs": [],
   "source": [
    "df = pd.DataFrame(text_embs_normalized, columns = list(map(str, list(range(100)))))"
   ],
   "metadata": {
    "collapsed": false,
    "pycharm": {
     "name": "#%%\n"
    }
   }
  },
  {
   "cell_type": "code",
   "execution_count": 100,
   "outputs": [],
   "source": [
    "df['item_id'] = data.item_id"
   ],
   "metadata": {
    "collapsed": false,
    "pycharm": {
     "name": "#%%\n"
    }
   }
  },
  {
   "cell_type": "code",
   "execution_count": 101,
   "outputs": [],
   "source": [
    "categories_dict = {cat: idx for idx, cat in enumerate(data['category_title'].unique())}\n",
    "data['category_title'] = data['category_title'].map(categories_dict)\n",
    "\n",
    "author_titles = {title: idx for idx, title in enumerate(data['author_title'].unique())}\n",
    "data['author_title'] = data['author_title'].map(author_titles)"
   ],
   "metadata": {
    "collapsed": false,
    "pycharm": {
     "name": "#%%\n"
    }
   }
  },
  {
   "cell_type": "code",
   "execution_count": 102,
   "outputs": [],
   "source": [
    "cols = ['item_id']\n",
    "cols.extend(list(map(str, list(range(100)))))"
   ],
   "metadata": {
    "collapsed": false,
    "pycharm": {
     "name": "#%%\n"
    }
   }
  },
  {
   "cell_type": "code",
   "execution_count": 103,
   "outputs": [],
   "source": [
    "df = df[cols]"
   ],
   "metadata": {
    "collapsed": false,
    "pycharm": {
     "name": "#%%\n"
    }
   }
  },
  {
   "cell_type": "code",
   "execution_count": 104,
   "outputs": [],
   "source": [
    "final = df.merge(data,how='inner', on='item_id')"
   ],
   "metadata": {
    "collapsed": false,
    "pycharm": {
     "name": "#%%\n"
    }
   }
  },
  {
   "cell_type": "code",
   "execution_count": 97,
   "outputs": [],
   "source": [
    "final.drop(['video_title', 'tv_title', 'season', 'video_description',\n",
    "       'channel_sub', 'tv_sub',\n",
    "       ], inplace=True, axis=1)"
   ],
   "metadata": {
    "collapsed": false,
    "pycharm": {
     "name": "#%%\n"
    }
   }
  },
  {
   "cell_type": "code",
   "execution_count": 105,
   "outputs": [],
   "source": [
    "final['CTR_10days_21_07'].fillna(data['CTR_10days_21_07'].mode()[0], inplace=True)\n",
    "final['CTR_10days_01_08'].fillna(data['CTR_10days_01_08'].mode()[0], inplace=True)\n",
    "final['CTR_10days_10_08'].fillna(data['CTR_10days_10_08'].mode()[0], inplace=True)\n",
    "final['CTR_10days_21_08'].fillna(data['CTR_10days_21_08'].mode()[0], inplace=True)"
   ],
   "metadata": {
    "collapsed": false,
    "pycharm": {
     "name": "#%%\n"
    }
   }
  },
  {
   "cell_type": "code",
   "execution_count": 106,
   "outputs": [],
   "source": [
    "final['publicated'] = pd.to_datetime(final['publicated'])"
   ],
   "metadata": {
    "collapsed": false,
    "pycharm": {
     "name": "#%%\n"
    }
   }
  },
  {
   "cell_type": "code",
   "execution_count": 107,
   "outputs": [],
   "source": [
    "final['upld_year'] = final['publicated'].apply(lambda x: x.year)\n",
    "final['upld_month'] = final['publicated'].apply(lambda x: x.month)\n",
    "final['upld_day'] = final['publicated'].apply(lambda x: x.day)\n",
    "final['upld_hour'] = final['publicated'].apply(lambda x: x.hour)\n",
    "final['upld_minute'] = final['publicated'].apply(lambda x: x.minute)\n",
    "final['upld_second'] = final['publicated'].apply(lambda x: x.second)\n",
    "final['upld_dayofweek'] = final['publicated'].apply(lambda x: x.weekday())"
   ],
   "metadata": {
    "collapsed": false,
    "pycharm": {
     "name": "#%%\n"
    }
   }
  },
  {
   "cell_type": "code",
   "execution_count": 108,
   "outputs": [
    {
     "data": {
      "text/plain": "               item_id         0         1         2         3         4  \\\n0         video_165654  0.317030  0.583350  0.319950  0.233488  0.397311   \n1        video_1173704  0.481264  0.387798  0.602036  0.802317  0.655285   \n2          video_23927  0.648496  0.440843  0.160715  0.613938  0.367600   \n3        video_1003780  0.203357  0.307920  0.590847  0.516022  0.755484   \n4         video_105383  0.744297  0.835887  0.621679  0.773973  0.504829   \n...                ...       ...       ...       ...       ...       ...   \n2320657   video_839160  0.292854  0.666169  0.771124  0.671644  0.643341   \n2320658  video_2134427  0.557534  0.428624  0.511768  0.810072  0.586449   \n2320659  video_1453482  0.434726  0.334742  0.281761  0.154127  0.254287   \n2320660  video_2225207  0.805957  0.767042  0.671743  0.632880  0.815049   \n2320661  video_2242378  0.334941  0.213630  0.290286  0.331302  0.371701   \n\n                5         6         7         8  ...  CTR_10days_01_08  \\\n0        0.335484  0.683385  0.544738  0.459705  ...               0.0   \n1        0.626316  0.562532  0.271270  0.515960  ...               0.0   \n2        0.542256  0.304734  0.719216  0.541566  ...               0.0   \n3        0.283917  0.717133  0.625334  0.525521  ...               1.0   \n4        0.539626  0.493591  0.560223  0.590560  ...               0.0   \n...           ...       ...       ...       ...  ...               ...   \n2320657  0.410232  0.162509  0.522382  0.561864  ...               0.0   \n2320658  0.477702  0.389940  0.329786  0.467130  ...               0.0   \n2320659  0.386525  0.505897  0.527292  0.430226  ...               0.0   \n2320660  0.631796  0.608704  0.433524  0.722830  ...               0.0   \n2320661  0.339785  0.469659  0.492817  0.309658  ...               0.0   \n\n         CTR_10days_10_08  CTR_10days_21_08  upld_year  upld_month  upld_day  \\\n0                0.000000              0.00       2022          12         8   \n1                0.000000              0.00       2022           3        24   \n2                0.000000              0.00       2022           3        19   \n3                0.000000              0.00       2021           2        20   \n4                0.000000              0.00       2023           8        11   \n...                   ...               ...        ...         ...       ...   \n2320657          0.333333              0.25       2017           9        11   \n2320658          0.000000              0.00       2022           3        28   \n2320659          0.000000              0.00       2022           9        10   \n2320660          0.000000              0.00       2023           7         6   \n2320661          0.000000              1.00       2016          10        21   \n\n         upld_hour  upld_minute  upld_second  upld_dayofweek  \n0               13           53            5               3  \n1                9           19           15               3  \n2               17           41           49               5  \n3               11           50           53               5  \n4                9            2            7               4  \n...            ...          ...          ...             ...  \n2320657         22            0           13               0  \n2320658         11           19           33               0  \n2320659         20            5           17               5  \n2320660         12           16           29               3  \n2320661         15           27           59               4  \n\n[2320662 rows x 122 columns]",
      "text/html": "<div>\n<style scoped>\n    .dataframe tbody tr th:only-of-type {\n        vertical-align: middle;\n    }\n\n    .dataframe tbody tr th {\n        vertical-align: top;\n    }\n\n    .dataframe thead th {\n        text-align: right;\n    }\n</style>\n<table border=\"1\" class=\"dataframe\">\n  <thead>\n    <tr style=\"text-align: right;\">\n      <th></th>\n      <th>item_id</th>\n      <th>0</th>\n      <th>1</th>\n      <th>2</th>\n      <th>3</th>\n      <th>4</th>\n      <th>5</th>\n      <th>6</th>\n      <th>7</th>\n      <th>8</th>\n      <th>...</th>\n      <th>CTR_10days_01_08</th>\n      <th>CTR_10days_10_08</th>\n      <th>CTR_10days_21_08</th>\n      <th>upld_year</th>\n      <th>upld_month</th>\n      <th>upld_day</th>\n      <th>upld_hour</th>\n      <th>upld_minute</th>\n      <th>upld_second</th>\n      <th>upld_dayofweek</th>\n    </tr>\n  </thead>\n  <tbody>\n    <tr>\n      <th>0</th>\n      <td>video_165654</td>\n      <td>0.317030</td>\n      <td>0.583350</td>\n      <td>0.319950</td>\n      <td>0.233488</td>\n      <td>0.397311</td>\n      <td>0.335484</td>\n      <td>0.683385</td>\n      <td>0.544738</td>\n      <td>0.459705</td>\n      <td>...</td>\n      <td>0.0</td>\n      <td>0.000000</td>\n      <td>0.00</td>\n      <td>2022</td>\n      <td>12</td>\n      <td>8</td>\n      <td>13</td>\n      <td>53</td>\n      <td>5</td>\n      <td>3</td>\n    </tr>\n    <tr>\n      <th>1</th>\n      <td>video_1173704</td>\n      <td>0.481264</td>\n      <td>0.387798</td>\n      <td>0.602036</td>\n      <td>0.802317</td>\n      <td>0.655285</td>\n      <td>0.626316</td>\n      <td>0.562532</td>\n      <td>0.271270</td>\n      <td>0.515960</td>\n      <td>...</td>\n      <td>0.0</td>\n      <td>0.000000</td>\n      <td>0.00</td>\n      <td>2022</td>\n      <td>3</td>\n      <td>24</td>\n      <td>9</td>\n      <td>19</td>\n      <td>15</td>\n      <td>3</td>\n    </tr>\n    <tr>\n      <th>2</th>\n      <td>video_23927</td>\n      <td>0.648496</td>\n      <td>0.440843</td>\n      <td>0.160715</td>\n      <td>0.613938</td>\n      <td>0.367600</td>\n      <td>0.542256</td>\n      <td>0.304734</td>\n      <td>0.719216</td>\n      <td>0.541566</td>\n      <td>...</td>\n      <td>0.0</td>\n      <td>0.000000</td>\n      <td>0.00</td>\n      <td>2022</td>\n      <td>3</td>\n      <td>19</td>\n      <td>17</td>\n      <td>41</td>\n      <td>49</td>\n      <td>5</td>\n    </tr>\n    <tr>\n      <th>3</th>\n      <td>video_1003780</td>\n      <td>0.203357</td>\n      <td>0.307920</td>\n      <td>0.590847</td>\n      <td>0.516022</td>\n      <td>0.755484</td>\n      <td>0.283917</td>\n      <td>0.717133</td>\n      <td>0.625334</td>\n      <td>0.525521</td>\n      <td>...</td>\n      <td>1.0</td>\n      <td>0.000000</td>\n      <td>0.00</td>\n      <td>2021</td>\n      <td>2</td>\n      <td>20</td>\n      <td>11</td>\n      <td>50</td>\n      <td>53</td>\n      <td>5</td>\n    </tr>\n    <tr>\n      <th>4</th>\n      <td>video_105383</td>\n      <td>0.744297</td>\n      <td>0.835887</td>\n      <td>0.621679</td>\n      <td>0.773973</td>\n      <td>0.504829</td>\n      <td>0.539626</td>\n      <td>0.493591</td>\n      <td>0.560223</td>\n      <td>0.590560</td>\n      <td>...</td>\n      <td>0.0</td>\n      <td>0.000000</td>\n      <td>0.00</td>\n      <td>2023</td>\n      <td>8</td>\n      <td>11</td>\n      <td>9</td>\n      <td>2</td>\n      <td>7</td>\n      <td>4</td>\n    </tr>\n    <tr>\n      <th>...</th>\n      <td>...</td>\n      <td>...</td>\n      <td>...</td>\n      <td>...</td>\n      <td>...</td>\n      <td>...</td>\n      <td>...</td>\n      <td>...</td>\n      <td>...</td>\n      <td>...</td>\n      <td>...</td>\n      <td>...</td>\n      <td>...</td>\n      <td>...</td>\n      <td>...</td>\n      <td>...</td>\n      <td>...</td>\n      <td>...</td>\n      <td>...</td>\n      <td>...</td>\n      <td>...</td>\n    </tr>\n    <tr>\n      <th>2320657</th>\n      <td>video_839160</td>\n      <td>0.292854</td>\n      <td>0.666169</td>\n      <td>0.771124</td>\n      <td>0.671644</td>\n      <td>0.643341</td>\n      <td>0.410232</td>\n      <td>0.162509</td>\n      <td>0.522382</td>\n      <td>0.561864</td>\n      <td>...</td>\n      <td>0.0</td>\n      <td>0.333333</td>\n      <td>0.25</td>\n      <td>2017</td>\n      <td>9</td>\n      <td>11</td>\n      <td>22</td>\n      <td>0</td>\n      <td>13</td>\n      <td>0</td>\n    </tr>\n    <tr>\n      <th>2320658</th>\n      <td>video_2134427</td>\n      <td>0.557534</td>\n      <td>0.428624</td>\n      <td>0.511768</td>\n      <td>0.810072</td>\n      <td>0.586449</td>\n      <td>0.477702</td>\n      <td>0.389940</td>\n      <td>0.329786</td>\n      <td>0.467130</td>\n      <td>...</td>\n      <td>0.0</td>\n      <td>0.000000</td>\n      <td>0.00</td>\n      <td>2022</td>\n      <td>3</td>\n      <td>28</td>\n      <td>11</td>\n      <td>19</td>\n      <td>33</td>\n      <td>0</td>\n    </tr>\n    <tr>\n      <th>2320659</th>\n      <td>video_1453482</td>\n      <td>0.434726</td>\n      <td>0.334742</td>\n      <td>0.281761</td>\n      <td>0.154127</td>\n      <td>0.254287</td>\n      <td>0.386525</td>\n      <td>0.505897</td>\n      <td>0.527292</td>\n      <td>0.430226</td>\n      <td>...</td>\n      <td>0.0</td>\n      <td>0.000000</td>\n      <td>0.00</td>\n      <td>2022</td>\n      <td>9</td>\n      <td>10</td>\n      <td>20</td>\n      <td>5</td>\n      <td>17</td>\n      <td>5</td>\n    </tr>\n    <tr>\n      <th>2320660</th>\n      <td>video_2225207</td>\n      <td>0.805957</td>\n      <td>0.767042</td>\n      <td>0.671743</td>\n      <td>0.632880</td>\n      <td>0.815049</td>\n      <td>0.631796</td>\n      <td>0.608704</td>\n      <td>0.433524</td>\n      <td>0.722830</td>\n      <td>...</td>\n      <td>0.0</td>\n      <td>0.000000</td>\n      <td>0.00</td>\n      <td>2023</td>\n      <td>7</td>\n      <td>6</td>\n      <td>12</td>\n      <td>16</td>\n      <td>29</td>\n      <td>3</td>\n    </tr>\n    <tr>\n      <th>2320661</th>\n      <td>video_2242378</td>\n      <td>0.334941</td>\n      <td>0.213630</td>\n      <td>0.290286</td>\n      <td>0.331302</td>\n      <td>0.371701</td>\n      <td>0.339785</td>\n      <td>0.469659</td>\n      <td>0.492817</td>\n      <td>0.309658</td>\n      <td>...</td>\n      <td>0.0</td>\n      <td>0.000000</td>\n      <td>1.00</td>\n      <td>2016</td>\n      <td>10</td>\n      <td>21</td>\n      <td>15</td>\n      <td>27</td>\n      <td>59</td>\n      <td>4</td>\n    </tr>\n  </tbody>\n</table>\n<p>2320662 rows × 122 columns</p>\n</div>"
     },
     "execution_count": 108,
     "metadata": {},
     "output_type": "execute_result"
    }
   ],
   "source": [
    "final"
   ],
   "metadata": {
    "collapsed": false,
    "pycharm": {
     "name": "#%%\n"
    }
   }
  },
  {
   "cell_type": "code",
   "execution_count": 109,
   "outputs": [],
   "source": [
    "from sklearn.model_selection import train_test_split\n",
    "train, test = train_test_split(final, test_size=0.2, random_state=42)"
   ],
   "metadata": {
    "collapsed": false,
    "pycharm": {
     "name": "#%%\n"
    }
   }
  },
  {
   "cell_type": "code",
   "execution_count": 112,
   "outputs": [],
   "source": [
    "import pynndescent\n",
    "index = pynndescent.NNDescent(train.drop(['item_id', 'video_description', 'tv_title', 'video_title', 'CTR_10days_01_08', 'CTR_10days_21_07', 'CTR_10days_10_08', 'CTR_10days_21_08', 'tv_sub', 'season', 'publicated'], axis=1), n_jobs=8, n_neighbors=5)"
   ],
   "metadata": {
    "collapsed": false,
    "pycharm": {
     "name": "#%%\n"
    }
   }
  },
  {
   "cell_type": "code",
   "execution_count": 113,
   "outputs": [
    {
     "name": "stderr",
     "output_type": "stream",
     "text": [
      "/Users/gd/lib/python3.10/site-packages/scipy/sparse/_index.py:146: SparseEfficiencyWarning: Changing the sparsity structure of a csr_matrix is expensive. lil_matrix is more efficient.\n",
      "  self._set_arrayXarray(i, j, x)\n"
     ]
    }
   ],
   "source": [
    "index.prepare()"
   ],
   "metadata": {
    "collapsed": false,
    "pycharm": {
     "name": "#%%\n"
    }
   }
  },
  {
   "cell_type": "code",
   "execution_count": 179,
   "outputs": [],
   "source": [
    "neighbors = index.query(test.drop(['item_id', 'video_description', 'tv_title', 'video_title', 'CTR_10days_01_08', 'CTR_10days_21_07', 'CTR_10days_10_08', 'CTR_10days_21_08', 'tv_sub', 'season', 'publicated'], axis=1).head(10), k=10)"
   ],
   "metadata": {
    "collapsed": false,
    "pycharm": {
     "name": "#%%\n"
    }
   }
  },
  {
   "cell_type": "code",
   "execution_count": 184,
   "outputs": [
    {
     "data": {
      "text/plain": "1025987     video_594977\n468859     video_2000944\n1638170     video_947196\n423766     video_2283492\n1597720    video_1537558\n1698657      video_53898\n67347      video_1350571\n872393      video_468461\n1564649    video_2155498\n79079       video_687512\nName: item_id, dtype: object"
     },
     "execution_count": 184,
     "metadata": {},
     "output_type": "execute_result"
    }
   ],
   "source": [
    "test.head(10)['item_id']"
   ],
   "metadata": {
    "collapsed": false,
    "pycharm": {
     "name": "#%%\n"
    }
   }
  },
  {
   "cell_type": "code",
   "execution_count": 188,
   "outputs": [
    {
     "name": "stdout",
     "output_type": "stream",
     "text": [
      "1672977    Угадай мелодию, 1999. Часть 1\n",
      "Name: video_title, dtype: object\n",
      "383969    Испытание Восьмикрута HD600 на пилораме.mp4\n",
      "Name: video_title, dtype: object\n",
      "1539480    Febspot платит за просмотры и рефералы - полны...\n",
      "Name: video_title, dtype: object\n",
      "152574    МАКИЯЖ БЮДЖЕТНОЙ КОСМЕТИКОЙ из Золотого Яблока...\n",
      "Name: video_title, dtype: object\n",
      "2213523    Бакалавриат 2+2_ условия осмысленности – Андре...\n",
      "Name: video_title, dtype: object\n",
      "729366    Рыбалка, хутор Новторицкий. Варнавинский сброс...\n",
      "Name: video_title, dtype: object\n",
      "2262544    ROBLOX| мимика\n",
      "Name: video_title, dtype: object\n",
      "955716    Как переделать диски МТЗ, на диски ГАЗ 53 в до...\n",
      "Name: video_title, dtype: object\n",
      "529950    Архив гематолога. Выпуск 5. Криптококковый мен...\n",
      "Name: video_title, dtype: object\n",
      "1823857    Мастер класс. Гуашь. РЯБИНОВЫЕ БУСЫ\n",
      "Name: video_title, dtype: object\n"
     ]
    }
   ],
   "source": [
    "for i in neighbors[0][9]:\n",
    "    print(data[data['item_id'] == train.iloc[i].item_id].video_title)\n"
   ],
   "metadata": {
    "collapsed": false,
    "pycharm": {
     "name": "#%%\n"
    }
   }
  },
  {
   "cell_type": "code",
   "execution_count": 189,
   "outputs": [
    {
     "data": {
      "text/plain": "1564647    Вестница весны - под музыку, для любителей про...\nName: video_title, dtype: object"
     },
     "execution_count": 189,
     "metadata": {},
     "output_type": "execute_result"
    }
   ],
   "source": [
    "data[data['item_id'] == 'video_2155498'].video_title"
   ],
   "metadata": {
    "collapsed": false,
    "pycharm": {
     "name": "#%%\n"
    }
   }
  },
  {
   "cell_type": "code",
   "execution_count": null,
   "outputs": [],
   "source": [],
   "metadata": {
    "collapsed": false,
    "pycharm": {
     "name": "#%%\n"
    }
   }
  }
 ],
 "metadata": {
  "kernelspec": {
   "display_name": "Python 3",
   "language": "python",
   "name": "python3"
  },
  "language_info": {
   "codemirror_mode": {
    "name": "ipython",
    "version": 2
   },
   "file_extension": ".py",
   "mimetype": "text/x-python",
   "name": "python",
   "nbconvert_exporter": "python",
   "pygments_lexer": "ipython2",
   "version": "2.7.6"
  }
 },
 "nbformat": 4,
 "nbformat_minor": 0
}