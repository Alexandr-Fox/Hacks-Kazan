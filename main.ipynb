{
 "cells": [
  {
   "cell_type": "code",
   "execution_count": 1,
   "metadata": {
    "collapsed": true,
    "pycharm": {
     "name": "#%%\n"
    }
   },
   "outputs": [],
   "source": [
    "import pandas as pd\n",
    "import numpy as np\n",
    "import pyarrow.parquet as pq\n",
    "from gensim.models.doc2vec import Doc2Vec, TaggedDocument\n",
    "from sklearn import preprocessing\n",
    "pd.options.display.max_colwidth = 100"
   ]
  },
  {
   "cell_type": "code",
   "execution_count": 2,
   "outputs": [],
   "source": [
    "TRAIN_PATH = 'train_dataset_RUTUBE/'\n",
    "MODELS_PATH = 'doc2vec_models'"
   ],
   "metadata": {
    "collapsed": false,
    "pycharm": {
     "name": "#%%\n"
    }
   }
  },
  {
   "cell_type": "code",
   "execution_count": 3,
   "outputs": [],
   "source": [
    "data =  pq.read_table(TRAIN_PATH+'videos.parquet').to_pandas()\n",
    "emotions = pd.read_csv(TRAIN_PATH+'emotions.csv')"
   ],
   "metadata": {
    "collapsed": false,
    "pycharm": {
     "name": "#%%\n"
    }
   }
  },
  {
   "cell_type": "code",
   "execution_count": 78,
   "outputs": [],
   "source": [
    "# schema = pa.schema([\n",
    "#     ('item_id', pa.string()),\n",
    "#     ('video_title', pa.string()),\n",
    "#     ('author_title', pa.string()),\n",
    "#     ('tv_title', pa.string()),\n",
    "#     ('season', pa.int16()),\n",
    "#     ('video_description', pa.string()),\n",
    "#     ('category_title', pa.string()),\n",
    "#     ('publicated', pa.string()),\n",
    "#     ('duration', pa.int32()),\n",
    "#     ('channel_sub', pa.int32()),\n",
    "#     ('tv_sub', pa.int32()),\n",
    "#     ('CTR_10days_21_07', pa.float32()),\n",
    "#     ('CTR_10days_01_08', pa.float32()),\n",
    "#     ('CTR_10days_10_08', pa.float32()),\n",
    "#     ('CTR_10days_21_08', pa.float32()),\n",
    "#     ('__index_level_0__', pa.int64())\n",
    "# ])\n",
    "#\n",
    "# source_table = pa.Table.from_pandas(data)\n",
    "# source_table = source_table.cast(schema)\n",
    "# pq.write_table(source_table, 'my_parquet_table.parquet')"
   ],
   "metadata": {
    "collapsed": false,
    "pycharm": {
     "name": "#%%\n"
    }
   }
  },
  {
   "cell_type": "code",
   "execution_count": 8,
   "outputs": [],
   "source": [
    "data.rename(columns={'ctr.CTR_10days_21_07': 'CTR_10days_21_07', 'ctr.CTR_10days_01_08': 'CTR_10days_01_08',\n",
    "                     'ctr.CTR10days_10_08': 'CTR_10days_10_08', 'ctr.CTR_10days_21_08': 'CTR_10days_21_08'}, inplace=True)"
   ],
   "metadata": {
    "collapsed": false,
    "pycharm": {
     "name": "#%%\n"
    }
   }
  },
  {
   "cell_type": "code",
   "execution_count": 2,
   "outputs": [],
   "source": [
    "users = pq.read_table('train_dataset_RUTUBE/player_starts_train.parquet').to_pandas()"
   ],
   "metadata": {
    "collapsed": false,
    "pycharm": {
     "name": "#%%\n"
    }
   }
  },
  {
   "cell_type": "code",
   "execution_count": 19,
   "outputs": [],
   "source": [
    "small_users = pd.read_csv('train_dataset_RUTUBE/small_player_starts_train.csv')"
   ],
   "metadata": {
    "collapsed": false,
    "pycharm": {
     "name": "#%%\n"
    }
   }
  },
  {
   "cell_type": "code",
   "execution_count": 191,
   "outputs": [],
   "source": [
    "import string\n",
    "translator = str.maketrans('', '', string.punctuation)\n",
    "\n",
    "data['video_title'] = data['video_title'].apply(lambda x: x.translate(translator).lower().strip() if isinstance(x, str) else x)\n",
    "data['video_description'].fillna(\"\", inplace=True)\n",
    "data['video_description'] = data['video_description'].apply(lambda x: x.translate(translator).lower().strip() if isinstance(x, str) else x)\n"
   ],
   "metadata": {
    "collapsed": false,
    "pycharm": {
     "name": "#%%\n"
    }
   }
  },
  {
   "cell_type": "code",
   "execution_count": 193,
   "outputs": [
    {
     "ename": "KeyboardInterrupt",
     "evalue": "",
     "output_type": "error",
     "traceback": [
      "\u001B[0;31m---------------------------------------------------------------------------\u001B[0m",
      "\u001B[0;31mKeyboardInterrupt\u001B[0m                         Traceback (most recent call last)",
      "Cell \u001B[0;32mIn[193], line 5\u001B[0m\n\u001B[1;32m      1\u001B[0m video_descriptions \u001B[38;5;241m=\u001B[39m [TaggedDocument(doc, [i]) \u001B[38;5;28;01mfor\u001B[39;00m i, doc \u001B[38;5;129;01min\u001B[39;00m \u001B[38;5;28menumerate\u001B[39m(data[\u001B[38;5;124m'\u001B[39m\u001B[38;5;124mvideo_description\u001B[39m\u001B[38;5;124m'\u001B[39m]\u001B[38;5;241m.\u001B[39mtolist())]\n\u001B[1;32m      2\u001B[0m \u001B[38;5;66;03m# author_titles = [TaggedDocument(doc, [i]) for i, doc in enumerate(data['author_title'].tolist())]\u001B[39;00m\n\u001B[1;32m      3\u001B[0m \u001B[38;5;66;03m# video_titles = [TaggedDocument(doc, [i]) for i, doc in enumerate(data['video_title'].tolist())]\u001B[39;00m\n\u001B[0;32m----> 5\u001B[0m model_video_descr \u001B[38;5;241m=\u001B[39m \u001B[43mDoc2Vec\u001B[49m\u001B[43m(\u001B[49m\u001B[43mvideo_descriptions\u001B[49m\u001B[43m,\u001B[49m\n\u001B[1;32m      6\u001B[0m \u001B[43m                \u001B[49m\u001B[43mvector_size\u001B[49m\u001B[38;5;241;43m=\u001B[39;49m\u001B[38;5;241;43m100\u001B[39;49m\u001B[43m,\u001B[49m\n\u001B[1;32m      7\u001B[0m \u001B[43m                \u001B[49m\u001B[43mwindow\u001B[49m\u001B[38;5;241;43m=\u001B[39;49m\u001B[38;5;28;43mlen\u001B[39;49m\u001B[43m(\u001B[49m\u001B[43mvideo_descriptions\u001B[49m\u001B[43m)\u001B[49m\u001B[43m,\u001B[49m\n\u001B[1;32m      8\u001B[0m \u001B[43m                \u001B[49m\u001B[43mworkers\u001B[49m\u001B[38;5;241;43m=\u001B[39;49m\u001B[38;5;241;43m16\u001B[39;49m\u001B[43m,\u001B[49m\n\u001B[1;32m      9\u001B[0m \u001B[43m                \u001B[49m\u001B[43mepochs\u001B[49m\u001B[38;5;241;43m=\u001B[39;49m\u001B[38;5;241;43m10\u001B[39;49m\u001B[43m,\u001B[49m\n\u001B[1;32m     10\u001B[0m \u001B[43m                \u001B[49m\u001B[43mseed\u001B[49m\u001B[38;5;241;43m=\u001B[39;49m\u001B[38;5;241;43m42\u001B[39;49m\u001B[43m)\u001B[49m\n\u001B[1;32m     12\u001B[0m \u001B[38;5;66;03m# model_author_titles = Doc2Vec(author_titles,\u001B[39;00m\n\u001B[1;32m     13\u001B[0m \u001B[38;5;66;03m#                 vector_size=100,\u001B[39;00m\n\u001B[1;32m     14\u001B[0m \u001B[38;5;66;03m#                 window=len(author_titles),\u001B[39;00m\n\u001B[0;32m   (...)\u001B[0m\n\u001B[1;32m     23\u001B[0m \u001B[38;5;66;03m#                 epochs=10,\u001B[39;00m\n\u001B[1;32m     24\u001B[0m \u001B[38;5;66;03m#                 seed=42)\u001B[39;00m\n",
      "File \u001B[0;32m~/lib/python3.10/site-packages/gensim/models/doc2vec.py:296\u001B[0m, in \u001B[0;36mDoc2Vec.__init__\u001B[0;34m(self, documents, corpus_file, vector_size, dm_mean, dm, dbow_words, dm_concat, dm_tag_count, dv, dv_mapfile, comment, trim_rule, callbacks, window, epochs, shrink_windows, **kwargs)\u001B[0m\n\u001B[1;32m    292\u001B[0m \u001B[38;5;66;03m# EXPERIMENTAL lockf feature; create minimal no-op lockf arrays (1 element of 1.0)\u001B[39;00m\n\u001B[1;32m    293\u001B[0m \u001B[38;5;66;03m# advanced users should directly resize/adjust as desired after any vocab growth\u001B[39;00m\n\u001B[1;32m    294\u001B[0m \u001B[38;5;28mself\u001B[39m\u001B[38;5;241m.\u001B[39mdv\u001B[38;5;241m.\u001B[39mvectors_lockf \u001B[38;5;241m=\u001B[39m np\u001B[38;5;241m.\u001B[39mones(\u001B[38;5;241m1\u001B[39m, dtype\u001B[38;5;241m=\u001B[39mREAL)  \u001B[38;5;66;03m# 0.0 values suppress word-backprop-updates; 1.0 allows\u001B[39;00m\n\u001B[0;32m--> 296\u001B[0m \u001B[38;5;28;43msuper\u001B[39;49m\u001B[43m(\u001B[49m\u001B[43mDoc2Vec\u001B[49m\u001B[43m,\u001B[49m\u001B[43m \u001B[49m\u001B[38;5;28;43mself\u001B[39;49m\u001B[43m)\u001B[49m\u001B[38;5;241;43m.\u001B[39;49m\u001B[38;5;21;43m__init__\u001B[39;49m\u001B[43m(\u001B[49m\n\u001B[1;32m    297\u001B[0m \u001B[43m    \u001B[49m\u001B[43msentences\u001B[49m\u001B[38;5;241;43m=\u001B[39;49m\u001B[43mcorpus_iterable\u001B[49m\u001B[43m,\u001B[49m\n\u001B[1;32m    298\u001B[0m \u001B[43m    \u001B[49m\u001B[43mcorpus_file\u001B[49m\u001B[38;5;241;43m=\u001B[39;49m\u001B[43mcorpus_file\u001B[49m\u001B[43m,\u001B[49m\n\u001B[1;32m    299\u001B[0m \u001B[43m    \u001B[49m\u001B[43mvector_size\u001B[49m\u001B[38;5;241;43m=\u001B[39;49m\u001B[38;5;28;43mself\u001B[39;49m\u001B[38;5;241;43m.\u001B[39;49m\u001B[43mvector_size\u001B[49m\u001B[43m,\u001B[49m\n\u001B[1;32m    300\u001B[0m \u001B[43m    \u001B[49m\u001B[43msg\u001B[49m\u001B[38;5;241;43m=\u001B[39;49m\u001B[43m(\u001B[49m\u001B[38;5;241;43m1\u001B[39;49m\u001B[43m \u001B[49m\u001B[38;5;241;43m+\u001B[39;49m\u001B[43m \u001B[49m\u001B[43mdm\u001B[49m\u001B[43m)\u001B[49m\u001B[43m \u001B[49m\u001B[38;5;241;43m%\u001B[39;49m\u001B[43m \u001B[49m\u001B[38;5;241;43m2\u001B[39;49m\u001B[43m,\u001B[49m\n\u001B[1;32m    301\u001B[0m \u001B[43m    \u001B[49m\u001B[43mnull_word\u001B[49m\u001B[38;5;241;43m=\u001B[39;49m\u001B[38;5;28;43mself\u001B[39;49m\u001B[38;5;241;43m.\u001B[39;49m\u001B[43mdm_concat\u001B[49m\u001B[43m,\u001B[49m\n\u001B[1;32m    302\u001B[0m \u001B[43m    \u001B[49m\u001B[43mcallbacks\u001B[49m\u001B[38;5;241;43m=\u001B[39;49m\u001B[43mcallbacks\u001B[49m\u001B[43m,\u001B[49m\n\u001B[1;32m    303\u001B[0m \u001B[43m    \u001B[49m\u001B[43mwindow\u001B[49m\u001B[38;5;241;43m=\u001B[39;49m\u001B[43mwindow\u001B[49m\u001B[43m,\u001B[49m\n\u001B[1;32m    304\u001B[0m \u001B[43m    \u001B[49m\u001B[43mepochs\u001B[49m\u001B[38;5;241;43m=\u001B[39;49m\u001B[43mepochs\u001B[49m\u001B[43m,\u001B[49m\n\u001B[1;32m    305\u001B[0m \u001B[43m    \u001B[49m\u001B[43mshrink_windows\u001B[49m\u001B[38;5;241;43m=\u001B[39;49m\u001B[43mshrink_windows\u001B[49m\u001B[43m,\u001B[49m\n\u001B[1;32m    306\u001B[0m \u001B[43m    \u001B[49m\u001B[38;5;241;43m*\u001B[39;49m\u001B[38;5;241;43m*\u001B[39;49m\u001B[43mkwargs\u001B[49m\u001B[43m,\u001B[49m\n\u001B[1;32m    307\u001B[0m \u001B[43m\u001B[49m\u001B[43m)\u001B[49m\n",
      "File \u001B[0;32m~/lib/python3.10/site-packages/gensim/models/word2vec.py:430\u001B[0m, in \u001B[0;36mWord2Vec.__init__\u001B[0;34m(self, sentences, corpus_file, vector_size, alpha, window, min_count, max_vocab_size, sample, seed, workers, min_alpha, sg, hs, negative, ns_exponent, cbow_mean, hashfxn, epochs, null_word, trim_rule, sorted_vocab, batch_words, compute_loss, callbacks, comment, max_final_vocab, shrink_windows)\u001B[0m\n\u001B[1;32m    428\u001B[0m     \u001B[38;5;28mself\u001B[39m\u001B[38;5;241m.\u001B[39m_check_corpus_sanity(corpus_iterable\u001B[38;5;241m=\u001B[39mcorpus_iterable, corpus_file\u001B[38;5;241m=\u001B[39mcorpus_file, passes\u001B[38;5;241m=\u001B[39m(epochs \u001B[38;5;241m+\u001B[39m \u001B[38;5;241m1\u001B[39m))\n\u001B[1;32m    429\u001B[0m     \u001B[38;5;28mself\u001B[39m\u001B[38;5;241m.\u001B[39mbuild_vocab(corpus_iterable\u001B[38;5;241m=\u001B[39mcorpus_iterable, corpus_file\u001B[38;5;241m=\u001B[39mcorpus_file, trim_rule\u001B[38;5;241m=\u001B[39mtrim_rule)\n\u001B[0;32m--> 430\u001B[0m     \u001B[38;5;28;43mself\u001B[39;49m\u001B[38;5;241;43m.\u001B[39;49m\u001B[43mtrain\u001B[49m\u001B[43m(\u001B[49m\n\u001B[1;32m    431\u001B[0m \u001B[43m        \u001B[49m\u001B[43mcorpus_iterable\u001B[49m\u001B[38;5;241;43m=\u001B[39;49m\u001B[43mcorpus_iterable\u001B[49m\u001B[43m,\u001B[49m\u001B[43m \u001B[49m\u001B[43mcorpus_file\u001B[49m\u001B[38;5;241;43m=\u001B[39;49m\u001B[43mcorpus_file\u001B[49m\u001B[43m,\u001B[49m\u001B[43m \u001B[49m\u001B[43mtotal_examples\u001B[49m\u001B[38;5;241;43m=\u001B[39;49m\u001B[38;5;28;43mself\u001B[39;49m\u001B[38;5;241;43m.\u001B[39;49m\u001B[43mcorpus_count\u001B[49m\u001B[43m,\u001B[49m\n\u001B[1;32m    432\u001B[0m \u001B[43m        \u001B[49m\u001B[43mtotal_words\u001B[49m\u001B[38;5;241;43m=\u001B[39;49m\u001B[38;5;28;43mself\u001B[39;49m\u001B[38;5;241;43m.\u001B[39;49m\u001B[43mcorpus_total_words\u001B[49m\u001B[43m,\u001B[49m\u001B[43m \u001B[49m\u001B[43mepochs\u001B[49m\u001B[38;5;241;43m=\u001B[39;49m\u001B[38;5;28;43mself\u001B[39;49m\u001B[38;5;241;43m.\u001B[39;49m\u001B[43mepochs\u001B[49m\u001B[43m,\u001B[49m\u001B[43m \u001B[49m\u001B[43mstart_alpha\u001B[49m\u001B[38;5;241;43m=\u001B[39;49m\u001B[38;5;28;43mself\u001B[39;49m\u001B[38;5;241;43m.\u001B[39;49m\u001B[43malpha\u001B[49m\u001B[43m,\u001B[49m\n\u001B[1;32m    433\u001B[0m \u001B[43m        \u001B[49m\u001B[43mend_alpha\u001B[49m\u001B[38;5;241;43m=\u001B[39;49m\u001B[38;5;28;43mself\u001B[39;49m\u001B[38;5;241;43m.\u001B[39;49m\u001B[43mmin_alpha\u001B[49m\u001B[43m,\u001B[49m\u001B[43m \u001B[49m\u001B[43mcompute_loss\u001B[49m\u001B[38;5;241;43m=\u001B[39;49m\u001B[38;5;28;43mself\u001B[39;49m\u001B[38;5;241;43m.\u001B[39;49m\u001B[43mcompute_loss\u001B[49m\u001B[43m,\u001B[49m\u001B[43m \u001B[49m\u001B[43mcallbacks\u001B[49m\u001B[38;5;241;43m=\u001B[39;49m\u001B[43mcallbacks\u001B[49m\u001B[43m)\u001B[49m\n\u001B[1;32m    434\u001B[0m \u001B[38;5;28;01melse\u001B[39;00m:\n\u001B[1;32m    435\u001B[0m     \u001B[38;5;28;01mif\u001B[39;00m trim_rule \u001B[38;5;129;01mis\u001B[39;00m \u001B[38;5;129;01mnot\u001B[39;00m \u001B[38;5;28;01mNone\u001B[39;00m:\n",
      "File \u001B[0;32m~/lib/python3.10/site-packages/gensim/models/doc2vec.py:516\u001B[0m, in \u001B[0;36mDoc2Vec.train\u001B[0;34m(self, corpus_iterable, corpus_file, total_examples, total_words, epochs, start_alpha, end_alpha, word_count, queue_factor, report_delay, callbacks, **kwargs)\u001B[0m\n\u001B[1;32m    513\u001B[0m     kwargs[\u001B[38;5;124m'\u001B[39m\u001B[38;5;124moffsets\u001B[39m\u001B[38;5;124m'\u001B[39m] \u001B[38;5;241m=\u001B[39m offsets\n\u001B[1;32m    514\u001B[0m     kwargs[\u001B[38;5;124m'\u001B[39m\u001B[38;5;124mstart_doctags\u001B[39m\u001B[38;5;124m'\u001B[39m] \u001B[38;5;241m=\u001B[39m start_doctags\n\u001B[0;32m--> 516\u001B[0m \u001B[38;5;28;43msuper\u001B[39;49m\u001B[43m(\u001B[49m\u001B[43mDoc2Vec\u001B[49m\u001B[43m,\u001B[49m\u001B[43m \u001B[49m\u001B[38;5;28;43mself\u001B[39;49m\u001B[43m)\u001B[49m\u001B[38;5;241;43m.\u001B[39;49m\u001B[43mtrain\u001B[49m\u001B[43m(\u001B[49m\n\u001B[1;32m    517\u001B[0m \u001B[43m    \u001B[49m\u001B[43mcorpus_iterable\u001B[49m\u001B[38;5;241;43m=\u001B[39;49m\u001B[43mcorpus_iterable\u001B[49m\u001B[43m,\u001B[49m\u001B[43m \u001B[49m\u001B[43mcorpus_file\u001B[49m\u001B[38;5;241;43m=\u001B[39;49m\u001B[43mcorpus_file\u001B[49m\u001B[43m,\u001B[49m\n\u001B[1;32m    518\u001B[0m \u001B[43m    \u001B[49m\u001B[43mtotal_examples\u001B[49m\u001B[38;5;241;43m=\u001B[39;49m\u001B[43mtotal_examples\u001B[49m\u001B[43m,\u001B[49m\u001B[43m \u001B[49m\u001B[43mtotal_words\u001B[49m\u001B[38;5;241;43m=\u001B[39;49m\u001B[43mtotal_words\u001B[49m\u001B[43m,\u001B[49m\n\u001B[1;32m    519\u001B[0m \u001B[43m    \u001B[49m\u001B[43mepochs\u001B[49m\u001B[38;5;241;43m=\u001B[39;49m\u001B[43mepochs\u001B[49m\u001B[43m,\u001B[49m\u001B[43m \u001B[49m\u001B[43mstart_alpha\u001B[49m\u001B[38;5;241;43m=\u001B[39;49m\u001B[43mstart_alpha\u001B[49m\u001B[43m,\u001B[49m\u001B[43m \u001B[49m\u001B[43mend_alpha\u001B[49m\u001B[38;5;241;43m=\u001B[39;49m\u001B[43mend_alpha\u001B[49m\u001B[43m,\u001B[49m\u001B[43m \u001B[49m\u001B[43mword_count\u001B[49m\u001B[38;5;241;43m=\u001B[39;49m\u001B[43mword_count\u001B[49m\u001B[43m,\u001B[49m\n\u001B[1;32m    520\u001B[0m \u001B[43m    \u001B[49m\u001B[43mqueue_factor\u001B[49m\u001B[38;5;241;43m=\u001B[39;49m\u001B[43mqueue_factor\u001B[49m\u001B[43m,\u001B[49m\u001B[43m \u001B[49m\u001B[43mreport_delay\u001B[49m\u001B[38;5;241;43m=\u001B[39;49m\u001B[43mreport_delay\u001B[49m\u001B[43m,\u001B[49m\u001B[43m \u001B[49m\u001B[43mcallbacks\u001B[49m\u001B[38;5;241;43m=\u001B[39;49m\u001B[43mcallbacks\u001B[49m\u001B[43m,\u001B[49m\u001B[43m \u001B[49m\u001B[38;5;241;43m*\u001B[39;49m\u001B[38;5;241;43m*\u001B[39;49m\u001B[43mkwargs\u001B[49m\u001B[43m)\u001B[49m\n",
      "File \u001B[0;32m~/lib/python3.10/site-packages/gensim/models/word2vec.py:1073\u001B[0m, in \u001B[0;36mWord2Vec.train\u001B[0;34m(self, corpus_iterable, corpus_file, total_examples, total_words, epochs, start_alpha, end_alpha, word_count, queue_factor, report_delay, compute_loss, callbacks, **kwargs)\u001B[0m\n\u001B[1;32m   1070\u001B[0m     callback\u001B[38;5;241m.\u001B[39mon_epoch_begin(\u001B[38;5;28mself\u001B[39m)\n\u001B[1;32m   1072\u001B[0m \u001B[38;5;28;01mif\u001B[39;00m corpus_iterable \u001B[38;5;129;01mis\u001B[39;00m \u001B[38;5;129;01mnot\u001B[39;00m \u001B[38;5;28;01mNone\u001B[39;00m:\n\u001B[0;32m-> 1073\u001B[0m     trained_word_count_epoch, raw_word_count_epoch, job_tally_epoch \u001B[38;5;241m=\u001B[39m \u001B[38;5;28;43mself\u001B[39;49m\u001B[38;5;241;43m.\u001B[39;49m\u001B[43m_train_epoch\u001B[49m\u001B[43m(\u001B[49m\n\u001B[1;32m   1074\u001B[0m \u001B[43m        \u001B[49m\u001B[43mcorpus_iterable\u001B[49m\u001B[43m,\u001B[49m\u001B[43m \u001B[49m\u001B[43mcur_epoch\u001B[49m\u001B[38;5;241;43m=\u001B[39;49m\u001B[43mcur_epoch\u001B[49m\u001B[43m,\u001B[49m\u001B[43m \u001B[49m\u001B[43mtotal_examples\u001B[49m\u001B[38;5;241;43m=\u001B[39;49m\u001B[43mtotal_examples\u001B[49m\u001B[43m,\u001B[49m\n\u001B[1;32m   1075\u001B[0m \u001B[43m        \u001B[49m\u001B[43mtotal_words\u001B[49m\u001B[38;5;241;43m=\u001B[39;49m\u001B[43mtotal_words\u001B[49m\u001B[43m,\u001B[49m\u001B[43m \u001B[49m\u001B[43mqueue_factor\u001B[49m\u001B[38;5;241;43m=\u001B[39;49m\u001B[43mqueue_factor\u001B[49m\u001B[43m,\u001B[49m\u001B[43m \u001B[49m\u001B[43mreport_delay\u001B[49m\u001B[38;5;241;43m=\u001B[39;49m\u001B[43mreport_delay\u001B[49m\u001B[43m,\u001B[49m\n\u001B[1;32m   1076\u001B[0m \u001B[43m        \u001B[49m\u001B[43mcallbacks\u001B[49m\u001B[38;5;241;43m=\u001B[39;49m\u001B[43mcallbacks\u001B[49m\u001B[43m,\u001B[49m\u001B[43m \u001B[49m\u001B[38;5;241;43m*\u001B[39;49m\u001B[38;5;241;43m*\u001B[39;49m\u001B[43mkwargs\u001B[49m\u001B[43m)\u001B[49m\n\u001B[1;32m   1077\u001B[0m \u001B[38;5;28;01melse\u001B[39;00m:\n\u001B[1;32m   1078\u001B[0m     trained_word_count_epoch, raw_word_count_epoch, job_tally_epoch \u001B[38;5;241m=\u001B[39m \u001B[38;5;28mself\u001B[39m\u001B[38;5;241m.\u001B[39m_train_epoch_corpusfile(\n\u001B[1;32m   1079\u001B[0m         corpus_file, cur_epoch\u001B[38;5;241m=\u001B[39mcur_epoch, total_examples\u001B[38;5;241m=\u001B[39mtotal_examples, total_words\u001B[38;5;241m=\u001B[39mtotal_words,\n\u001B[1;32m   1080\u001B[0m         callbacks\u001B[38;5;241m=\u001B[39mcallbacks, \u001B[38;5;241m*\u001B[39m\u001B[38;5;241m*\u001B[39mkwargs)\n",
      "File \u001B[0;32m~/lib/python3.10/site-packages/gensim/models/word2vec.py:1434\u001B[0m, in \u001B[0;36mWord2Vec._train_epoch\u001B[0;34m(self, data_iterable, cur_epoch, total_examples, total_words, queue_factor, report_delay, callbacks)\u001B[0m\n\u001B[1;32m   1431\u001B[0m     thread\u001B[38;5;241m.\u001B[39mdaemon \u001B[38;5;241m=\u001B[39m \u001B[38;5;28;01mTrue\u001B[39;00m  \u001B[38;5;66;03m# make interrupting the process with ctrl+c easier\u001B[39;00m\n\u001B[1;32m   1432\u001B[0m     thread\u001B[38;5;241m.\u001B[39mstart()\n\u001B[0;32m-> 1434\u001B[0m trained_word_count, raw_word_count, job_tally \u001B[38;5;241m=\u001B[39m \u001B[38;5;28;43mself\u001B[39;49m\u001B[38;5;241;43m.\u001B[39;49m\u001B[43m_log_epoch_progress\u001B[49m\u001B[43m(\u001B[49m\n\u001B[1;32m   1435\u001B[0m \u001B[43m    \u001B[49m\u001B[43mprogress_queue\u001B[49m\u001B[43m,\u001B[49m\u001B[43m \u001B[49m\u001B[43mjob_queue\u001B[49m\u001B[43m,\u001B[49m\u001B[43m \u001B[49m\u001B[43mcur_epoch\u001B[49m\u001B[38;5;241;43m=\u001B[39;49m\u001B[43mcur_epoch\u001B[49m\u001B[43m,\u001B[49m\u001B[43m \u001B[49m\u001B[43mtotal_examples\u001B[49m\u001B[38;5;241;43m=\u001B[39;49m\u001B[43mtotal_examples\u001B[49m\u001B[43m,\u001B[49m\n\u001B[1;32m   1436\u001B[0m \u001B[43m    \u001B[49m\u001B[43mtotal_words\u001B[49m\u001B[38;5;241;43m=\u001B[39;49m\u001B[43mtotal_words\u001B[49m\u001B[43m,\u001B[49m\u001B[43m \u001B[49m\u001B[43mreport_delay\u001B[49m\u001B[38;5;241;43m=\u001B[39;49m\u001B[43mreport_delay\u001B[49m\u001B[43m,\u001B[49m\u001B[43m \u001B[49m\u001B[43mis_corpus_file_mode\u001B[49m\u001B[38;5;241;43m=\u001B[39;49m\u001B[38;5;28;43;01mFalse\u001B[39;49;00m\u001B[43m,\u001B[49m\n\u001B[1;32m   1437\u001B[0m \u001B[43m\u001B[49m\u001B[43m)\u001B[49m\n\u001B[1;32m   1439\u001B[0m \u001B[38;5;28;01mreturn\u001B[39;00m trained_word_count, raw_word_count, job_tally\n",
      "File \u001B[0;32m~/lib/python3.10/site-packages/gensim/models/word2vec.py:1289\u001B[0m, in \u001B[0;36mWord2Vec._log_epoch_progress\u001B[0;34m(self, progress_queue, job_queue, cur_epoch, total_examples, total_words, report_delay, is_corpus_file_mode)\u001B[0m\n\u001B[1;32m   1286\u001B[0m unfinished_worker_count \u001B[38;5;241m=\u001B[39m \u001B[38;5;28mself\u001B[39m\u001B[38;5;241m.\u001B[39mworkers\n\u001B[1;32m   1288\u001B[0m \u001B[38;5;28;01mwhile\u001B[39;00m unfinished_worker_count \u001B[38;5;241m>\u001B[39m \u001B[38;5;241m0\u001B[39m:\n\u001B[0;32m-> 1289\u001B[0m     report \u001B[38;5;241m=\u001B[39m \u001B[43mprogress_queue\u001B[49m\u001B[38;5;241;43m.\u001B[39;49m\u001B[43mget\u001B[49m\u001B[43m(\u001B[49m\u001B[43m)\u001B[49m  \u001B[38;5;66;03m# blocks if workers too slow\u001B[39;00m\n\u001B[1;32m   1290\u001B[0m     \u001B[38;5;28;01mif\u001B[39;00m report \u001B[38;5;129;01mis\u001B[39;00m \u001B[38;5;28;01mNone\u001B[39;00m:  \u001B[38;5;66;03m# a thread reporting that it finished\u001B[39;00m\n\u001B[1;32m   1291\u001B[0m         unfinished_worker_count \u001B[38;5;241m-\u001B[39m\u001B[38;5;241m=\u001B[39m \u001B[38;5;241m1\u001B[39m\n",
      "File \u001B[0;32m/Library/Frameworks/Python.framework/Versions/3.10/lib/python3.10/queue.py:171\u001B[0m, in \u001B[0;36mQueue.get\u001B[0;34m(self, block, timeout)\u001B[0m\n\u001B[1;32m    169\u001B[0m \u001B[38;5;28;01melif\u001B[39;00m timeout \u001B[38;5;129;01mis\u001B[39;00m \u001B[38;5;28;01mNone\u001B[39;00m:\n\u001B[1;32m    170\u001B[0m     \u001B[38;5;28;01mwhile\u001B[39;00m \u001B[38;5;129;01mnot\u001B[39;00m \u001B[38;5;28mself\u001B[39m\u001B[38;5;241m.\u001B[39m_qsize():\n\u001B[0;32m--> 171\u001B[0m         \u001B[38;5;28;43mself\u001B[39;49m\u001B[38;5;241;43m.\u001B[39;49m\u001B[43mnot_empty\u001B[49m\u001B[38;5;241;43m.\u001B[39;49m\u001B[43mwait\u001B[49m\u001B[43m(\u001B[49m\u001B[43m)\u001B[49m\n\u001B[1;32m    172\u001B[0m \u001B[38;5;28;01melif\u001B[39;00m timeout \u001B[38;5;241m<\u001B[39m \u001B[38;5;241m0\u001B[39m:\n\u001B[1;32m    173\u001B[0m     \u001B[38;5;28;01mraise\u001B[39;00m \u001B[38;5;167;01mValueError\u001B[39;00m(\u001B[38;5;124m\"\u001B[39m\u001B[38;5;124m'\u001B[39m\u001B[38;5;124mtimeout\u001B[39m\u001B[38;5;124m'\u001B[39m\u001B[38;5;124m must be a non-negative number\u001B[39m\u001B[38;5;124m\"\u001B[39m)\n",
      "File \u001B[0;32m/Library/Frameworks/Python.framework/Versions/3.10/lib/python3.10/threading.py:320\u001B[0m, in \u001B[0;36mCondition.wait\u001B[0;34m(self, timeout)\u001B[0m\n\u001B[1;32m    318\u001B[0m \u001B[38;5;28;01mtry\u001B[39;00m:    \u001B[38;5;66;03m# restore state no matter what (e.g., KeyboardInterrupt)\u001B[39;00m\n\u001B[1;32m    319\u001B[0m     \u001B[38;5;28;01mif\u001B[39;00m timeout \u001B[38;5;129;01mis\u001B[39;00m \u001B[38;5;28;01mNone\u001B[39;00m:\n\u001B[0;32m--> 320\u001B[0m         \u001B[43mwaiter\u001B[49m\u001B[38;5;241;43m.\u001B[39;49m\u001B[43macquire\u001B[49m\u001B[43m(\u001B[49m\u001B[43m)\u001B[49m\n\u001B[1;32m    321\u001B[0m         gotit \u001B[38;5;241m=\u001B[39m \u001B[38;5;28;01mTrue\u001B[39;00m\n\u001B[1;32m    322\u001B[0m     \u001B[38;5;28;01melse\u001B[39;00m:\n",
      "\u001B[0;31mKeyboardInterrupt\u001B[0m: "
     ]
    }
   ],
   "source": [
    "video_descriptions = [TaggedDocument(doc, [i]) for i, doc in enumerate(data['video_description'].tolist())]\n",
    "author_titles = [TaggedDocument(doc, [i]) for i, doc in enumerate(data['author_title'].tolist())]\n",
    "video_titles = [TaggedDocument(doc, [i]) for i, doc in enumerate(data['video_title'].tolist())]\n",
    "\n",
    "model_video_descr = Doc2Vec(video_descriptions,\n",
    "                vector_size=100,\n",
    "                window=len(video_descriptions),\n",
    "                workers=16,\n",
    "                epochs=10,\n",
    "                seed=42)\n",
    "\n",
    "model_author_titles = Doc2Vec(author_titles,\n",
    "                vector_size=100,\n",
    "                window=len(author_titles),\n",
    "                workers=8,\n",
    "                epochs=10,\n",
    "                seed=42)\n",
    "\n",
    "model_video_titles = Doc2Vec(video_titles,\n",
    "                vector_size=100,\n",
    "                window=len(video_titles),\n",
    "                workers=8,\n",
    "                epochs=10,\n",
    "                seed=42)"
   ],
   "metadata": {
    "collapsed": false,
    "pycharm": {
     "name": "#%%\n"
    }
   }
  },
  {
   "cell_type": "code",
   "execution_count": null,
   "outputs": [],
   "source": [
    "# model_video_titles.save(MODELS_PATH+'model_video_titles')\n",
    "# model_author_titles.save(MODELS_PATH+'model_author_titles')\n",
    "model_video_descr.save(MODELS_PATH+'model_video_descr')\n"
   ],
   "metadata": {
    "collapsed": false,
    "pycharm": {
     "name": "#%%\n"
    }
   }
  },
  {
   "cell_type": "code",
   "execution_count": 4,
   "outputs": [],
   "source": [
    "# author_titles = np.load('doc2vec_models/model_author_titles.dv.vectors.npy', allow_pickle=True)\n",
    "video_titles = np.load('doc2vec_models/model_video_titles.dv.vectors.npy', allow_pickle=True)\n",
    "video_descrs = np.load('doc2vec_models/model_video_descr_10epochs.dv.vectors.npy', allow_pickle=True)"
   ],
   "metadata": {
    "collapsed": false,
    "pycharm": {
     "name": "#%%\n"
    }
   }
  },
  {
   "cell_type": "code",
   "execution_count": 5,
   "outputs": [],
   "source": [
    "video_titles_normalized = preprocessing.minmax_scale(video_titles.T).T\n",
    "video_descrs_normalized = preprocessing.minmax_scale(video_descrs.T).T"
   ],
   "metadata": {
    "collapsed": false,
    "pycharm": {
     "name": "#%%\n"
    }
   }
  },
  {
   "cell_type": "code",
   "execution_count": 6,
   "outputs": [],
   "source": [
    "text_embs = np.concatenate([video_titles_normalized,video_descrs_normalized], axis=-1)"
   ],
   "metadata": {
    "collapsed": false,
    "pycharm": {
     "name": "#%%\n"
    }
   }
  },
  {
   "cell_type": "code",
   "execution_count": 7,
   "outputs": [],
   "source": [
    "cols_titles = [f'vid_title_{i}' for i in list(map(str, list(range(100))))]\n",
    "cols_descrs_ = [f'vid_descr_{i}' for i in list(map(str, list(range(100))))]\n",
    "cols_titles.extend(cols_descrs_)\n",
    "df = pd.DataFrame(text_embs, columns = cols_titles)"
   ],
   "metadata": {
    "collapsed": false,
    "pycharm": {
     "name": "#%%\n"
    }
   }
  },
  {
   "cell_type": "code",
   "execution_count": 8,
   "outputs": [],
   "source": [
    "df['item_id'] = data.item_id\n",
    "cols = ['item_id']\n",
    "cols.extend(cols_titles)\n",
    "df = df[cols]"
   ],
   "metadata": {
    "collapsed": false,
    "pycharm": {
     "name": "#%%\n"
    }
   }
  },
  {
   "cell_type": "code",
   "execution_count": 9,
   "outputs": [],
   "source": [
    "# categories_dict = {cat: idx for idx, cat in enumerate(data['category_title'].unique())}\n",
    "# data['category_title'] = data['category_title'].map(categories_dict)\n",
    "author_titles = {title: idx for idx, title in enumerate(data['author_title'].unique())}\n",
    "data['author_title'] = data['author_title'].map(author_titles)"
   ],
   "metadata": {
    "collapsed": false,
    "pycharm": {
     "name": "#%%\n"
    }
   }
  },
  {
   "cell_type": "code",
   "execution_count": 10,
   "outputs": [],
   "source": [
    "df = pd.concat([df, pd.get_dummies(data['category_title'], prefix='cat')], axis=1)"
   ],
   "metadata": {
    "collapsed": false,
    "pycharm": {
     "name": "#%%\n"
    }
   }
  },
  {
   "cell_type": "code",
   "execution_count": 233,
   "outputs": [],
   "source": [
    "# videos_emotions_types = emotions.groupby(['item_id', 'type']).size().unstack(fill_value=0).reset_index()"
   ],
   "metadata": {
    "collapsed": false,
    "pycharm": {
     "name": "#%%\n"
    }
   }
  },
  {
   "cell_type": "code",
   "execution_count": 11,
   "outputs": [],
   "source": [
    "final = df.merge(data,how='inner', on='item_id')"
   ],
   "metadata": {
    "collapsed": false,
    "pycharm": {
     "name": "#%%\n"
    }
   }
  },
  {
   "cell_type": "code",
   "execution_count": 97,
   "outputs": [],
   "source": [
    "# final.drop(['video_title', 'tv_title', 'season', 'video_description',\n",
    "#        'channel_sub', 'tv_sub',\n",
    "#        ], inplace=True, axis=1)"
   ],
   "metadata": {
    "collapsed": false,
    "pycharm": {
     "name": "#%%\n"
    }
   }
  },
  {
   "cell_type": "code",
   "execution_count": 15,
   "outputs": [],
   "source": [
    "final['ctr.CTR_10days_21_07'].fillna(data['ctr.CTR_10days_21_07'].mode()[0], inplace=True)\n",
    "final['ctr.CTR_10days_01_08'].fillna(data['ctr.CTR_10days_01_08'].mode()[0], inplace=True)\n",
    "final['ctr.CTR_10days_10_08'].fillna(data['ctr.CTR_10days_10_08'].mode()[0], inplace=True)\n",
    "final['ctr.CTR_10days_21_08'].fillna(data['ctr.CTR_10days_21_08'].mode()[0], inplace=True)"
   ],
   "metadata": {
    "collapsed": false,
    "pycharm": {
     "name": "#%%\n"
    }
   }
  },
  {
   "cell_type": "code",
   "execution_count": 2,
   "outputs": [
    {
     "ename": "NameError",
     "evalue": "name 'final' is not defined",
     "output_type": "error",
     "traceback": [
      "\u001B[0;31m---------------------------------------------------------------------------\u001B[0m",
      "\u001B[0;31mNameError\u001B[0m                                 Traceback (most recent call last)",
      "Cell \u001B[0;32mIn[2], line 1\u001B[0m\n\u001B[0;32m----> 1\u001B[0m \u001B[43mfinal\u001B[49m\u001B[38;5;241m.\u001B[39mhead()\n",
      "\u001B[0;31mNameError\u001B[0m: name 'final' is not defined"
     ]
    }
   ],
   "source": [
    "final.head()\n"
   ],
   "metadata": {
    "collapsed": false,
    "pycharm": {
     "name": "#%%\n"
    }
   }
  },
  {
   "cell_type": "code",
   "execution_count": 1,
   "outputs": [
    {
     "ename": "NameError",
     "evalue": "name 'final' is not defined",
     "output_type": "error",
     "traceback": [
      "\u001B[0;31m---------------------------------------------------------------------------\u001B[0m",
      "\u001B[0;31mNameError\u001B[0m                                 Traceback (most recent call last)",
      "Cell \u001B[0;32mIn[1], line 1\u001B[0m\n\u001B[0;32m----> 1\u001B[0m \u001B[43mfinal\u001B[49m[\u001B[38;5;124m'\u001B[39m\u001B[38;5;124mtv_title\u001B[39m\u001B[38;5;124m'\u001B[39m]\u001B[38;5;241m.\u001B[39mdropna(inplace\u001B[38;5;241m=\u001B[39m\u001B[38;5;28;01mTrue\u001B[39;00m)\n",
      "\u001B[0;31mNameError\u001B[0m: name 'final' is not defined"
     ]
    }
   ],
   "source": [
    "final['tv_title'].dropna(inplace=True)"
   ],
   "metadata": {
    "collapsed": false,
    "pycharm": {
     "name": "#%%\n"
    }
   }
  },
  {
   "cell_type": "code",
   "execution_count": 16,
   "outputs": [],
   "source": [
    "final['publicated'] = pd.to_datetime(final['publicated'])"
   ],
   "metadata": {
    "collapsed": false,
    "pycharm": {
     "name": "#%%\n"
    }
   }
  },
  {
   "cell_type": "code",
   "execution_count": 17,
   "outputs": [],
   "source": [
    "final['upld_year'] = final['publicated'].apply(lambda x: x.year)\n",
    "final['upld_month'] = final['publicated'].apply(lambda x: x.month)\n",
    "final['upld_day'] = final['publicated'].apply(lambda x: x.day)\n",
    "final['upld_hour'] = final['publicated'].apply(lambda x: x.hour)\n",
    "final['upld_minute'] = final['publicated'].apply(lambda x: x.minute)\n",
    "final['upld_second'] = final['publicated'].apply(lambda x: x.second)\n",
    "final['upld_dayofweek'] = final['publicated'].apply(lambda x: x.weekday())"
   ],
   "metadata": {
    "collapsed": false,
    "pycharm": {
     "name": "#%%\n"
    }
   }
  },
  {
   "cell_type": "code",
   "execution_count": 1,
   "outputs": [
    {
     "ename": "NameError",
     "evalue": "name 'final' is not defined",
     "output_type": "error",
     "traceback": [
      "\u001B[0;31m---------------------------------------------------------------------------\u001B[0m",
      "\u001B[0;31mNameError\u001B[0m                                 Traceback (most recent call last)",
      "Cell \u001B[0;32mIn[1], line 1\u001B[0m\n\u001B[0;32m----> 1\u001B[0m final \u001B[38;5;241m=\u001B[39m \u001B[43mfinal\u001B[49m[final\u001B[38;5;241m.\u001B[39mcolumns\u001B[38;5;241m.\u001B[39mdrop(\u001B[38;5;28mlist\u001B[39m(df\u001B[38;5;241m.\u001B[39mfilter(regex\u001B[38;5;241m=\u001B[39m\u001B[38;5;124m'\u001B[39m\u001B[38;5;124mvid_title\u001B[39m\u001B[38;5;124m'\u001B[39m)))]\n",
      "\u001B[0;31mNameError\u001B[0m: name 'final' is not defined"
     ]
    }
   ],
   "source": [
    "# final = final[final.columns.drop(list(df.filter(regex='vid_title')))]"
   ],
   "metadata": {
    "collapsed": false,
    "pycharm": {
     "name": "#%%\n"
    }
   }
  },
  {
   "cell_type": "code",
   "execution_count": 19,
   "outputs": [],
   "source": [
    "from sklearn.model_selection import train_test_split\n",
    "train, test = train_test_split(final, test_size=0.2, random_state=42)"
   ],
   "metadata": {
    "collapsed": false,
    "pycharm": {
     "name": "#%%\n"
    }
   }
  },
  {
   "cell_type": "code",
   "execution_count": 21,
   "outputs": [],
   "source": [
    "import pynndescent\n",
    "index = pynndescent.NNDescent(train.drop(['item_id', 'video_description', 'tv_title', 'video_title', 'ctr.CTR_10days_01_08', 'ctr.CTR_10days_21_07', 'ctr.CTR_10days_10_08', 'ctr.CTR_10days_21_08', 'tv_sub', 'season', 'publicated', 'category_title'], axis=1), n_jobs=8, n_neighbors=5, metric='jaccard')"
   ],
   "metadata": {
    "collapsed": false,
    "pycharm": {
     "name": "#%%\n"
    }
   }
  },
  {
   "cell_type": "code",
   "execution_count": 22,
   "outputs": [
    {
     "name": "stderr",
     "output_type": "stream",
     "text": [
      "/Users/gd/lib/python3.10/site-packages/scipy/sparse/_index.py:146: SparseEfficiencyWarning: Changing the sparsity structure of a csr_matrix is expensive. lil_matrix is more efficient.\n",
      "  self._set_arrayXarray(i, j, x)\n"
     ]
    }
   ],
   "source": [
    "index.prepare()"
   ],
   "metadata": {
    "collapsed": false,
    "pycharm": {
     "name": "#%%\n"
    }
   }
  },
  {
   "cell_type": "code",
   "execution_count": 23,
   "outputs": [],
   "source": [
    "import pickle\n",
    "with open('final_model_jaccard_2.pkl', 'wb') as f:\n",
    "    pickle.dump(index, f)"
   ],
   "metadata": {
    "collapsed": false,
    "pycharm": {
     "name": "#%%\n"
    }
   }
  },
  {
   "cell_type": "code",
   "execution_count": 24,
   "outputs": [],
   "source": [
    "final.to_csv('final_df_2.csv')"
   ],
   "metadata": {
    "collapsed": false,
    "pycharm": {
     "name": "#%%\n"
    }
   }
  },
  {
   "cell_type": "code",
   "execution_count": 26,
   "outputs": [],
   "source": [
    "neighbors = index.query(test.drop(['item_id', 'video_description', 'tv_title', 'video_title', 'ctr.CTR_10days_01_08', 'ctr.CTR_10days_21_07', 'ctr.CTR_10days_10_08', 'ctr.CTR_10days_21_08', 'tv_sub', 'season', 'publicated', 'category_title'], axis=1).head(10), k=100)"
   ],
   "metadata": {
    "collapsed": false,
    "pycharm": {
     "name": "#%%\n"
    }
   }
  },
  {
   "cell_type": "code",
   "execution_count": 27,
   "outputs": [],
   "source": [
    "pickled_model = pickle.load(open('final_model_jaccard_2.pkl', 'rb'))"
   ],
   "metadata": {
    "collapsed": false,
    "pycharm": {
     "name": "#%%\n"
    }
   }
  },
  {
   "cell_type": "code",
   "execution_count": 32,
   "outputs": [],
   "source": [
    "neighbors =  pickled_model.query(test.drop(['item_id', 'video_description', 'tv_title', 'video_title', 'ctr.CTR_10days_01_08', 'ctr.CTR_10days_21_07', 'ctr.CTR_10days_10_08', 'ctr.CTR_10days_21_08', 'tv_sub', 'season', 'publicated', 'category_title'], axis=1).head(10), k=100)"
   ],
   "metadata": {
    "collapsed": false,
    "pycharm": {
     "name": "#%%\n"
    }
   }
  },
  {
   "cell_type": "code",
   "execution_count": 33,
   "outputs": [
    {
     "name": "stdout",
     "output_type": "stream",
     "text": [
      "1025985    Арай Чобанян показал палату в которой рожает Ира Пинчук\n",
      "Name: video_title, dtype: object\n",
      "468857    LAUNCH ● X-DIAG PRO3 и DIAGZONE PRO ● АКТИВАЦИЯ ВСЕХ МАРОК АВТО\n",
      "Name: video_title, dtype: object\n",
      "1638168    1992  Реклама Барби Маттел Голливудские Волосы  Barbie Hollywood Hair\n",
      "Name: video_title, dtype: object\n",
      "423764    АСМР Карта Нурсултана в Казахстане ??\n",
      "Name: video_title, dtype: object\n",
      "1597718    Micro Machines (NES Dendy 8bit) - Full Walkthrough Longplay no commentary - Микро машинки на денди\n",
      "Name: video_title, dtype: object\n",
      "1698655    Кинетический песок АСМР • Видео для расслабления • ASMR выпуск 4\n",
      "Name: video_title, dtype: object\n",
      "67347    Зефирантес Выскочка_Расцвел Зефирантес_Красота на моем окне.Выскочка цветок уход.\n",
      "Name: video_title, dtype: object\n",
      "872391    «Повышенная государственная академическая стипендия за достижения»\n",
      "Name: video_title, dtype: object\n",
      "1564647    Вестница весны - под музыку, для любителей просто наблюдать за процессом\n",
      "Name: video_title, dtype: object\n",
      "79079    А. Брицын \"Рождество\" И. Дунаевский \"Песня о веселом ветре\"\n",
      "Name: video_title, dtype: object\n"
     ]
    }
   ],
   "source": [
    "for video_id in test.head(10)['item_id']:\n",
    "    print(data[data['item_id'] == video_id].video_title)"
   ],
   "metadata": {
    "collapsed": false,
    "pycharm": {
     "name": "#%%\n"
    }
   }
  },
  {
   "cell_type": "code",
   "execution_count": 34,
   "outputs": [
    {
     "name": "stdout",
     "output_type": "stream",
     "text": [
      "1823170    ? Девушки на Мотоциклах ! Красивейший Бернаут ? !\n",
      "Name: video_title, dtype: object\n",
      "1409011    Разварки на ниву\n",
      "Name: video_title, dtype: object\n",
      "881064    КАК ПРАВИЛЬНО настроить тормоза на электросамокате?\n",
      "Name: video_title, dtype: object\n",
      "1945673    Как отдыхают водители, бурятский бухлëр, в профессию без гражданства РФ, получаю трос\n",
      "Name: video_title, dtype: object\n",
      "2198594    Toyota Camry 2AZ-FE раскоксовка димексидом (Омск).mp4\n",
      "Name: video_title, dtype: object\n",
      "552280    форд фьюжн замена втулок стабилизатора, снятие подрамника!\n",
      "Name: video_title, dtype: object\n",
      "677480    Сервис чуть не угробил двигатель\n",
      "Name: video_title, dtype: object\n",
      "1345465    Renault Premium DXI 11 шум ДВС.mp4\n",
      "Name: video_title, dtype: object\n",
      "121841    ТОРМОЗА НА ВОДОПРОВОДНЫХ ШЛАНГАХ - ЧТО БУДЕТ ?\n",
      "Name: video_title, dtype: object\n",
      "198988    Замена сальника задней ступицы на ГАЗели. Сальник полуоси.\n",
      "Name: video_title, dtype: object\n",
      "1168901    Подборка ЖЕСТЬ на СТО\n",
      "Name: video_title, dtype: object\n",
      "574511    Подборка ЖЕСТЬ на СТО\n",
      "Name: video_title, dtype: object\n",
      "1029398    Такого никто не ожидал!!! Бездорожье крайнего севера. Большая подборка\n",
      "Name: video_title, dtype: object\n",
      "1593204    Как разобрать генератор и собрать генератор\n",
      "Name: video_title, dtype: object\n",
      "775677    Cursor 13 F3B разбор 2х двс\n",
      "Name: video_title, dtype: object\n",
      "480769    Вермикомпостер дома . Кормление калифорнийского червя !\n",
      "Name: video_title, dtype: object\n",
      "1219707    Перетяжка руля Приоры - Калины\n",
      "Name: video_title, dtype: object\n",
      "544284    Киа цены Август 2022\n",
      "Name: video_title, dtype: object\n",
      "1568241    Установка Трапеции дворников Нексия\n",
      "Name: video_title, dtype: object\n",
      "1406571    Ремонт трубки заднего стеклоомывателя (ВРЕМЕННОЕ РЕШЕНИЕ)\n",
      "Name: video_title, dtype: object\n",
      "1094553    Сцепление будет заклинивать, если не следить за этой мелочью  Отказ сцепления мотоблока профилак...\n",
      "Name: video_title, dtype: object\n",
      "387567    УАЗ ПАТРИОТ АКПП снимаем вискомуфту с вентилятором на зиму\n",
      "Name: video_title, dtype: object\n",
      "2139895    Супер талантливые малыши на мотоцикле\n",
      "Name: video_title, dtype: object\n",
      "1423587    КЛАПАННЫЕ ПРУЖИНЫ вместо ПРУЖИН ПОДВЕСКИ\n",
      "Name: video_title, dtype: object\n",
      "1023496    КАК ЗАМЕНИТЬ ПРИВОД В СБОРЕ ШРУС НА РЕНО ЛОГАН ?\n",
      "Name: video_title, dtype: object\n",
      "1959169    ? Мото Дома на Колесах ! Кемпинг на Мотоцикле ?!\n",
      "Name: video_title, dtype: object\n",
      "1184845    Форд Фокус 2 замена ремня ГРМ\n",
      "Name: video_title, dtype: object\n",
      "217307    Кнопка Старт (Start) в Daewoo Nexia\n",
      "Name: video_title, dtype: object\n",
      "755505    пылесос своими руками в гараж\n",
      "Name: video_title, dtype: object\n",
      "853462    Выхлоп для Муссо.\n",
      "Name: video_title, dtype: object\n",
      "157007    Киа цены Апрель 2023\n",
      "Name: video_title, dtype: object\n",
      "63799    развары R13 родные диски от восьмёры\n",
      "Name: video_title, dtype: object\n",
      "292070    Замена креплений бака на цельнометаллической газели\n",
      "Name: video_title, dtype: object\n",
      "1377747    Тюнинг Буханки 1 этап\n",
      "Name: video_title, dtype: object\n",
      "681262    Как установить разгрузочное реле\n",
      "Name: video_title, dtype: object\n",
      "1729995    Безумный тюнинг автобусов в Тайланде\n",
      "Name: video_title, dtype: object\n",
      "1207079    Обзор СТО Орбита на Васильевском острове\n",
      "Name: video_title, dtype: object\n",
      "1294362    Фольксваген цены Май 2023\n",
      "Name: video_title, dtype: object\n",
      "1201670    Замена сайлентблоков задней балки\n",
      "Name: video_title, dtype: object\n",
      "682770    Реанимация крюкового погрузчика МЗОК. Замена гидрораспределителя для дальнейшей диагностики...\n",
      "Name: video_title, dtype: object\n",
      "738897    Трёхуровневый реле-регулятор на тракторный генератор.\n",
      "Name: video_title, dtype: object\n",
      "367997    Разборка, осмотр, решение проблем задних фонарей ВАЗ 2107\n",
      "Name: video_title, dtype: object\n",
      "1598297    УАЗ ПАТРИОТ регулировка задней двери своими руками\n",
      "Name: video_title, dtype: object\n",
      "709683    Трактора пытаются вытащить застрявшие грузовики.\n",
      "Name: video_title, dtype: object\n",
      "147458    Мотоблок. Что внутри сцепления.\n",
      "Name: video_title, dtype: object\n",
      "441361    Экзамен ГИБДД маршрут №21 Калининград\n",
      "Name: video_title, dtype: object\n",
      "1288808    Первомайский гряземес 2023\n",
      "Name: video_title, dtype: object\n",
      "1558567    датчик давления шин, как не сломать.\n",
      "Name: video_title, dtype: object\n",
      "1241920    5-ступ. АКПП Aisin AW55-51SN\n",
      "Name: video_title, dtype: object\n",
      "1762185    Рецепт ёжиков из фарша с рисом и подливкой в духовке.\n",
      "Name: video_title, dtype: object\n",
      "247321    Форд S-Max_Galaxy. Замена салонного фильтра.\n",
      "Name: video_title, dtype: object\n",
      "1027228    Отключаем РХХ в Дроссельном Узле Лачетти\n",
      "Name: video_title, dtype: object\n",
      "49749    Легковой прицеп САЗ 82994-02 спустя год и более 20000км.\n",
      "Name: video_title, dtype: object\n",
      "517977    Жидкое стекло на автомобиль. Полировка кузова.\n",
      "Name: video_title, dtype: object\n",
      "1170421    Можно ли заработать на Газели 2705 фургон цельнометаллический в 2023-м\n",
      "Name: video_title, dtype: object\n",
      "1656733    АВАРИИ ГРУЗОВИКОВ - ПОДБОРКА ЖЕСТИ ИЗ АРХИВА ЭВАКУАТОРЩИКА #Аварии #Грузовик #Жесть #Архив\n",
      "Name: video_title, dtype: object\n",
      "44061    АВАРИИ ГРУЗОВИКОВ - ПОДБОРКА ЖЕСТИ ИЗ АРХИВА ЭВАКУАТОРЩИКА #Аварии #Грузовик #Жесть #Архив\n",
      "Name: video_title, dtype: object\n",
      "184414    АВАРИИ ГРУЗОВИКОВ - ПОДБОРКА ЖЕСТИ ИЗ АРХИВА ЭВАКУАТОРЩИКА #Аварии #Грузовик #Жесть #Архив\n",
      "Name: video_title, dtype: object\n",
      "74320    Street! Фейлы#3\n",
      "Name: video_title, dtype: object\n",
      "2259203    Мотоцикл Скаут-2 часть 3.mp4\n",
      "Name: video_title, dtype: object\n",
      "1791519    Форд Фокус 3 отказ электро рейки ЭУР (Омск)\n",
      "Name: video_title, dtype: object\n",
      "193354    Вот как едут по бездорожью зарубежные автобусы\n",
      "Name: video_title, dtype: object\n",
      "491919    Покраска Нивы В ИЗУМРУДНЫЙ ЦВЕТ ПОКРЫТИЯ ТИТАН\n",
      "Name: video_title, dtype: object\n",
      "826964    не просто замена колодок,этого вам не делают в сервисе!\n",
      "Name: video_title, dtype: object\n",
      "1355539    ?РАЗУМ. Как мы сажаем себя в тюрьму нашего мышления\n",
      "Name: video_title, dtype: object\n",
      "104058    ГУСЕНИЧНЫЙ ТРАКТОР ЗАСТРЯЛ В ГРЯЗИ. БОЛЬШАЯ ПОДБОРКА!!!\n",
      "Name: video_title, dtype: object\n",
      "706423    Джили Кулрей-Китайцы научились делать автомобили  тест драйв.\n",
      "Name: video_title, dtype: object\n",
      "434173    КАК ЗАМЕНИТЬ ШАРОВЫЕ ОПОРЫ НА ШЕВРОЛЕ НИВА\n",
      "Name: video_title, dtype: object\n",
      "700403    Установка подрамника Нива-Комфорт 1 часть\n",
      "Name: video_title, dtype: object\n",
      "1080619    Ремонт модулятора EBS WABCO на Мерседесе Дафе и Ивеко своими руками 4801030160 4801030220 480103...\n",
      "Name: video_title, dtype: object\n",
      "995376    Церковь и Апокрифы. Откуда мы знаем о Христе. дьякон Андрей Кураев. (часть 2).\n",
      "Name: video_title, dtype: object\n",
      "1411014    Как я разобрал КПП на ваз 2112 !?\n",
      "Name: video_title, dtype: object\n",
      "60563    Аккумулятор на заряде. Что делать с пробками откручивать или оставить.\n",
      "Name: video_title, dtype: object\n",
      "462739    Обзор навигатора NAVITEL N500 MAG Linux.mp4\n",
      "Name: video_title, dtype: object\n",
      "1112415    ЗАМЕНА ДЕМПФЕРНОГО ШКИВА КОЛЕНВАЛА\n",
      "Name: video_title, dtype: object\n",
      "826470    Штурманула г. Хотьково. Месяц за рулём.\n",
      "Name: video_title, dtype: object\n",
      "970060    ЛАДА ПРИОРА. Почему не работают дворники, стеклоочистители ?\n",
      "Name: video_title, dtype: object\n",
      "181885    Побежал расширительный бачок на Ниве Шевроле\n",
      "Name: video_title, dtype: object\n",
      "616163    АВАРИИ ГРУЗОВИКОВ - ПОДБОРКА ЖЕСТИ ИЗ АРХИВА ЭВАКУАТОРЩИКА #Аварии #Грузовик #Жесть #Архив\n",
      "Name: video_title, dtype: object\n",
      "1111784    \"Неторопливый\" RENAULT FLUENCE 1,6 AT тест AVTOSALON TV\n",
      "Name: video_title, dtype: object\n",
      "113350    КАК ВЫБРАТЬ СКЕЙТБОРД НОВИЧКУ | СКЕЙТ ДЛЯ НАЧИНАЮЩИХ!\n",
      "Name: video_title, dtype: object\n",
      "52159    Трехходовой клапан принцип работы. Обзор от Кривых Олега\n",
      "Name: video_title, dtype: object\n",
      "465882    Подборка ЖЕСТЬ на СТО\n",
      "Name: video_title, dtype: object\n",
      "297750    Краш тест Ford Mustang Mach-E & Volvo XC40 2021 года.mp4\n",
      "Name: video_title, dtype: object\n",
      "1847672    Основы автоэлектрики 6 Электрический ток-2\n",
      "Name: video_title, dtype: object\n",
      "1495683    Гонки на грузовиках по лютому бездорожью. Много грязи!!!\n",
      "Name: video_title, dtype: object\n",
      "1560748    КАК ЗАФИКСИРОВАТЬ И ОТВЕРНУТЬ ШКИВ КОЛЕНВАЛА НА ФОРД ФОКУС ?\n",
      "Name: video_title, dtype: object\n",
      "1656791    Подключаем ПТФ через ближний свет / СХЕМА\n",
      "Name: video_title, dtype: object\n",
      "61190    Натягиваем изношенную цепь ГРМ на ВАЗ 2106.\n",
      "Name: video_title, dtype: object\n",
      "1150294    Погоня за пьяным водителем на Гранте в Ижевске .(почти Голливуд).\n",
      "Name: video_title, dtype: object\n",
      "1321969    АВАРИИ ГРУЗОВИКОВ - ПОДБОРКА ЖЕСТИ ИЗ АРХИВА ЭВАКУАТОРЩИКА #Аварии #Грузовик #Жесть #Архив\n",
      "Name: video_title, dtype: object\n",
      "866976    Incar VR-UMS - USB-видеорегистратор с ADAS\n",
      "Name: video_title, dtype: object\n",
      "368961    Чистка авто кондиционера своими руками / запах в машине / как почистить испаритель кондиционера\n",
      "Name: video_title, dtype: object\n",
      "1491334    Шунтирование контроллера электросамоката!\n",
      "Name: video_title, dtype: object\n",
      "1533209    АВАРИИ ГРУЗОВИКОВ - ПОДБОРКА ЖЕСТИ ЭВАКУАТОРЩИКА #Аварии #Грузовик #Жесть #Эвакуатор\n",
      "Name: video_title, dtype: object\n",
      "1743107    Газель - замена лобового стекла.\n",
      "Name: video_title, dtype: object\n",
      "366576    С КАКИМ МОТОРОМ БРАТЬ ГАЗЕЛЬ КАКОЙ ДВИГАТЕЛЬ ЛУЧШЕ.\n",
      "Name: video_title, dtype: object\n",
      "1204596    Я СЖЁГ КОЛЕСО ЭЛЕКТРОСАМОКАТА!\n",
      "Name: video_title, dtype: object\n",
      "1278262    Легендарные советские трактора против Американских и Европейских\n",
      "Name: video_title, dtype: object\n",
      "190024    Показываю как ремонтируем бампер и почему нельзя впаивать сетку.\n",
      "Name: video_title, dtype: object\n"
     ]
    }
   ],
   "source": [
    "for i in neighbors[0][1]:\n",
    "    print(data[data['item_id'] == train.iloc[i].item_id].video_title)"
   ],
   "metadata": {
    "collapsed": false,
    "pycharm": {
     "name": "#%%\n"
    }
   }
  },
  {
   "cell_type": "code",
   "execution_count": 297,
   "outputs": [],
   "source": [
    "import pickle\n",
    "\n",
    "pickle.dump(index, open('index_vid_titles_categs.pkl', 'wb'))\n",
    "# m = pickle.load(open('index_vid_titles.pkl', 'rb'))"
   ],
   "metadata": {
    "collapsed": false,
    "pycharm": {
     "name": "#%%\n"
    }
   }
  },
  {
   "cell_type": "code",
   "execution_count": null,
   "outputs": [],
   "source": [
    "\n",
    "def wid_long(videos: pd.DataFrame, user_id: int, users: pd.DataFrame) -> pd.DataFrame:\n",
    "    tqdm.pandas()\n",
    "    hist = users[users[\"user_id\"] == user_id]\n",
    "    hist = pd.merge(hist, videos, on='item_id').drop(columns=[\"user_id\"], axis=1)\n",
    "    for i in tqdm(range(100)):\n",
    "        hist[f\"v_title_{i}\"] = hist.progress_apply(lambda row: row[f\"v_title_{i}\"] * 2\n",
    "        if ((row[\"watch_time\"] / (row[\"duration\"] / 1000)) > 0.25\n",
    "            if (row[\"duration\"] / 1000) > 300\n",
    "            else row[\"watch_time\"] > 30)\n",
    "        else 1, axis=1)\n",
    "    return hist.drop(columns=[\"watch_time\", \"duration\"], axis=1)\n",
    "\n",
    "\n",
    "def like(videos: pd.DataFrame, user_id: int, users: pd.DataFrame, emotions: pd.DataFrame) -> pd.DataFrame:\n",
    "    emotions = emotions[[\"C2\", \"C3\", \"C4\"]]\n",
    "    emotions = emotions[emotions[\"C2\"] == user_id]\n",
    "    emotions = emotions[[\"C3\", \"C4\"]]\n",
    "    hist = users[users[\"user_id\"] == user_id]\n",
    "    hist = pd.merge(hist, videos, on='item_id').drop(columns=[\"user_id\"], axis=1)\n",
    "    hist = pd.merge(hist, emotions, left_on='item_id', right_on=\"C3\").drop(columns=[\"user_id\"], axis=1)\n",
    "    for i in tqdm(range(100)):\n",
    "        hist[f\"v_title_{i}\"] = hist.progress_apply(lambda row: row[f\"v_title_{i}\"] * 2 if row[\"C4\"] == \"pos_emotions\"\n",
    "        else (0.5 if row[\"C4\"] == \"neg_emotions\" else 1), axis=1)\n",
    "    return hist.drop(columns=[\"C4\", \"C3\"], axis=1)\n",
    "\n",
    "\n",
    "def encode_categories(videos: pd.DataFrame) -> pd.DataFrame:\n",
    "    # получаем dummy-переменные\n",
    "    dummies = pd.get_dummies(videos['category_title'], prefix='cat')\n",
    "\n",
    "    # объединяем с исходным датафреймом\n",
    "    videos = pd.concat([videos, dummies], axis=1)\n",
    "    return videos.drop(columns=[\"category_title\"], axis=1)"
   ],
   "metadata": {
    "collapsed": false,
    "pycharm": {
     "name": "#%%\n"
    }
   }
  },
  {
   "cell_type": "code",
   "execution_count": 170,
   "outputs": [
    {
     "data": {
      "text/plain": "               item_id  \\\n0         video_165654   \n1        video_1173704   \n2          video_23927   \n3        video_1003780   \n4         video_105383   \n...                ...   \n2320655   video_839160   \n2320656  video_2134427   \n2320657  video_1453482   \n2320658  video_2225207   \n2320659  video_2242378   \n\n                                                                                               video_title  \\\n0                               MSI Pro MP241X недоОБЗОР (РЕШЕНИЕ ПРОБЛЕМЫ С МЕРЦАНИЕМ ПРИ ВЫКЛЮЧЕННОМ ПК)   \n1                                                             Наложение пястно фаланговой повязки на кисть   \n2                                   SilverstoneF1 Sochi Pro и Neoline x cop 6000s 5900s тест на радар СКАТ   \n3        БОЛЬНИЦА в Brookhaven! ДОКТОР ПУПКИН спас ЖЕНИХА! ТИК ТОКЕР НА СВАДЬБЕ! Сериал БРУКХЭВЭН 1 серия!   \n4                 Вебинар \"Особенности трудоустройства граждан Белоруссии, Казахстана, Киргизии и Армении\"   \n...                                                                                                    ...   \n2320655                                                         Любимцы: Гена в памперсе бегает по клинике   \n2320656                                              Телеканал «СПАС», «Главное», интервью С. В. Степашина   \n2320657                                                                           Взятие 3 отметок на ИС 7   \n2320658                 Простой и вкусный рецепт пирога с грушами и сыром камамбер (рецепт в комментариях)   \n2320659                                                                               ДОМ-2 Live 1570 день   \n\n         author_title     tv_title  season  \\\n0                   0         None       0   \n1                   1         None       0   \n2                   2         None       0   \n3                   3         None       0   \n4                   4         None       0   \n...               ...          ...     ...   \n2320655        147463      Любимцы       1   \n2320656         34203         None       0   \n2320657        155222         None       0   \n2320658          1646         None       0   \n2320659         94991  Дом 2. Live       7   \n\n                                                                                           video_description  \\\n0        В видео я обывательским взглядом расскажу про монитор MSI Pro MP241X. Так же покажу решение проб...   \n1          Видео с канала УЦ Академия безопасности (ab-dpo.ru): Наложение пястно фаланговой повязки на кисть   \n2        SilverstoneF1 Sochi Pro и Neoline x cop 6000s 5900s тест на радар СКАТ\\n#антирадар #радардетекто...   \n3        Играем в Роблокс (Roblox) - БОЛЬНИЦА в Brookhaven! ДОКТОР ПУПКИН спас ЖЕНИХА! ТИК ТОКЕР НА СВАДЬ...   \n4        10.08.2023 Вебинар \"Особенности трудоустройства граждан Белоруссии, Казахстана, Киргизии и Армен...   \n...                                                                                                      ...   \n2320655                                                                                                 None   \n2320656                                                                                                 None   \n2320657                                                                                                 None   \n2320658                                                                                                 None   \n2320659                                                                                                 None   \n\n                       category_title                 publicated  duration  \\\n0               Технологии и интернет  2022-12-08 13:53:05+03:00    391382   \n1                         Образование  2022-03-24 09:19:15+03:00    125922   \n2                           Авто-мото  2022-03-19 17:41:49+03:00    436570   \n3                               Детям  2021-02-20 11:50:53+03:00    719377   \n4        Бизнес и предпринимательство  2023-08-11 09:02:07+03:00   3834404   \n...                               ...                        ...       ...   \n2320655                       Сериалы  2017-09-11 22:00:13+03:00     23290   \n2320656                      Интервью  2022-03-28 11:19:33+03:00   1548792   \n2320657                     Видеоигры  2022-09-10 20:05:17+03:00    520001   \n2320658                        Разное  2023-07-06 12:16:29+03:00      8267   \n2320659                  Телепередачи  2016-10-21 15:27:59+03:00   4192046   \n\n         channel_sub  tv_sub  CTR_10days_21_07  CTR_10days_01_08  \\\n0                  0       0               NaN               0.0   \n1                 26       0               NaN               0.0   \n2                  2       0               NaN               NaN   \n3                673       0               0.0               1.0   \n4                 19       0               0.0               0.0   \n...              ...     ...               ...               ...   \n2320655            0       0               NaN               0.0   \n2320656           57       0               0.0               0.0   \n2320657           12       0               NaN               NaN   \n2320658            9       0               0.0               0.0   \n2320659       152974   33420               NaN               NaN   \n\n         CTR_10days_10_08  CTR_10days_21_08  \n0                0.000000               NaN  \n1                0.000000              0.00  \n2                0.000000              0.00  \n3                0.000000              0.00  \n4                0.000000              0.00  \n...                   ...               ...  \n2320655          0.333333              0.25  \n2320656          0.000000              0.00  \n2320657               NaN               NaN  \n2320658          0.000000              0.00  \n2320659               NaN              1.00  \n\n[2320660 rows x 15 columns]",
      "text/html": "<div>\n<style scoped>\n    .dataframe tbody tr th:only-of-type {\n        vertical-align: middle;\n    }\n\n    .dataframe tbody tr th {\n        vertical-align: top;\n    }\n\n    .dataframe thead th {\n        text-align: right;\n    }\n</style>\n<table border=\"1\" class=\"dataframe\">\n  <thead>\n    <tr style=\"text-align: right;\">\n      <th></th>\n      <th>item_id</th>\n      <th>video_title</th>\n      <th>author_title</th>\n      <th>tv_title</th>\n      <th>season</th>\n      <th>video_description</th>\n      <th>category_title</th>\n      <th>publicated</th>\n      <th>duration</th>\n      <th>channel_sub</th>\n      <th>tv_sub</th>\n      <th>CTR_10days_21_07</th>\n      <th>CTR_10days_01_08</th>\n      <th>CTR_10days_10_08</th>\n      <th>CTR_10days_21_08</th>\n    </tr>\n  </thead>\n  <tbody>\n    <tr>\n      <th>0</th>\n      <td>video_165654</td>\n      <td>MSI Pro MP241X недоОБЗОР (РЕШЕНИЕ ПРОБЛЕМЫ С МЕРЦАНИЕМ ПРИ ВЫКЛЮЧЕННОМ ПК)</td>\n      <td>0</td>\n      <td>None</td>\n      <td>0</td>\n      <td>В видео я обывательским взглядом расскажу про монитор MSI Pro MP241X. Так же покажу решение проб...</td>\n      <td>Технологии и интернет</td>\n      <td>2022-12-08 13:53:05+03:00</td>\n      <td>391382</td>\n      <td>0</td>\n      <td>0</td>\n      <td>NaN</td>\n      <td>0.0</td>\n      <td>0.000000</td>\n      <td>NaN</td>\n    </tr>\n    <tr>\n      <th>1</th>\n      <td>video_1173704</td>\n      <td>Наложение пястно фаланговой повязки на кисть</td>\n      <td>1</td>\n      <td>None</td>\n      <td>0</td>\n      <td>Видео с канала УЦ Академия безопасности (ab-dpo.ru): Наложение пястно фаланговой повязки на кисть</td>\n      <td>Образование</td>\n      <td>2022-03-24 09:19:15+03:00</td>\n      <td>125922</td>\n      <td>26</td>\n      <td>0</td>\n      <td>NaN</td>\n      <td>0.0</td>\n      <td>0.000000</td>\n      <td>0.00</td>\n    </tr>\n    <tr>\n      <th>2</th>\n      <td>video_23927</td>\n      <td>SilverstoneF1 Sochi Pro и Neoline x cop 6000s 5900s тест на радар СКАТ</td>\n      <td>2</td>\n      <td>None</td>\n      <td>0</td>\n      <td>SilverstoneF1 Sochi Pro и Neoline x cop 6000s 5900s тест на радар СКАТ\\n#антирадар #радардетекто...</td>\n      <td>Авто-мото</td>\n      <td>2022-03-19 17:41:49+03:00</td>\n      <td>436570</td>\n      <td>2</td>\n      <td>0</td>\n      <td>NaN</td>\n      <td>NaN</td>\n      <td>0.000000</td>\n      <td>0.00</td>\n    </tr>\n    <tr>\n      <th>3</th>\n      <td>video_1003780</td>\n      <td>БОЛЬНИЦА в Brookhaven! ДОКТОР ПУПКИН спас ЖЕНИХА! ТИК ТОКЕР НА СВАДЬБЕ! Сериал БРУКХЭВЭН 1 серия!</td>\n      <td>3</td>\n      <td>None</td>\n      <td>0</td>\n      <td>Играем в Роблокс (Roblox) - БОЛЬНИЦА в Brookhaven! ДОКТОР ПУПКИН спас ЖЕНИХА! ТИК ТОКЕР НА СВАДЬ...</td>\n      <td>Детям</td>\n      <td>2021-02-20 11:50:53+03:00</td>\n      <td>719377</td>\n      <td>673</td>\n      <td>0</td>\n      <td>0.0</td>\n      <td>1.0</td>\n      <td>0.000000</td>\n      <td>0.00</td>\n    </tr>\n    <tr>\n      <th>4</th>\n      <td>video_105383</td>\n      <td>Вебинар \"Особенности трудоустройства граждан Белоруссии, Казахстана, Киргизии и Армении\"</td>\n      <td>4</td>\n      <td>None</td>\n      <td>0</td>\n      <td>10.08.2023 Вебинар \"Особенности трудоустройства граждан Белоруссии, Казахстана, Киргизии и Армен...</td>\n      <td>Бизнес и предпринимательство</td>\n      <td>2023-08-11 09:02:07+03:00</td>\n      <td>3834404</td>\n      <td>19</td>\n      <td>0</td>\n      <td>0.0</td>\n      <td>0.0</td>\n      <td>0.000000</td>\n      <td>0.00</td>\n    </tr>\n    <tr>\n      <th>...</th>\n      <td>...</td>\n      <td>...</td>\n      <td>...</td>\n      <td>...</td>\n      <td>...</td>\n      <td>...</td>\n      <td>...</td>\n      <td>...</td>\n      <td>...</td>\n      <td>...</td>\n      <td>...</td>\n      <td>...</td>\n      <td>...</td>\n      <td>...</td>\n      <td>...</td>\n    </tr>\n    <tr>\n      <th>2320655</th>\n      <td>video_839160</td>\n      <td>Любимцы: Гена в памперсе бегает по клинике</td>\n      <td>147463</td>\n      <td>Любимцы</td>\n      <td>1</td>\n      <td>None</td>\n      <td>Сериалы</td>\n      <td>2017-09-11 22:00:13+03:00</td>\n      <td>23290</td>\n      <td>0</td>\n      <td>0</td>\n      <td>NaN</td>\n      <td>0.0</td>\n      <td>0.333333</td>\n      <td>0.25</td>\n    </tr>\n    <tr>\n      <th>2320656</th>\n      <td>video_2134427</td>\n      <td>Телеканал «СПАС», «Главное», интервью С. В. Степашина</td>\n      <td>34203</td>\n      <td>None</td>\n      <td>0</td>\n      <td>None</td>\n      <td>Интервью</td>\n      <td>2022-03-28 11:19:33+03:00</td>\n      <td>1548792</td>\n      <td>57</td>\n      <td>0</td>\n      <td>0.0</td>\n      <td>0.0</td>\n      <td>0.000000</td>\n      <td>0.00</td>\n    </tr>\n    <tr>\n      <th>2320657</th>\n      <td>video_1453482</td>\n      <td>Взятие 3 отметок на ИС 7</td>\n      <td>155222</td>\n      <td>None</td>\n      <td>0</td>\n      <td>None</td>\n      <td>Видеоигры</td>\n      <td>2022-09-10 20:05:17+03:00</td>\n      <td>520001</td>\n      <td>12</td>\n      <td>0</td>\n      <td>NaN</td>\n      <td>NaN</td>\n      <td>NaN</td>\n      <td>NaN</td>\n    </tr>\n    <tr>\n      <th>2320658</th>\n      <td>video_2225207</td>\n      <td>Простой и вкусный рецепт пирога с грушами и сыром камамбер (рецепт в комментариях)</td>\n      <td>1646</td>\n      <td>None</td>\n      <td>0</td>\n      <td>None</td>\n      <td>Разное</td>\n      <td>2023-07-06 12:16:29+03:00</td>\n      <td>8267</td>\n      <td>9</td>\n      <td>0</td>\n      <td>0.0</td>\n      <td>0.0</td>\n      <td>0.000000</td>\n      <td>0.00</td>\n    </tr>\n    <tr>\n      <th>2320659</th>\n      <td>video_2242378</td>\n      <td>ДОМ-2 Live 1570 день</td>\n      <td>94991</td>\n      <td>Дом 2. Live</td>\n      <td>7</td>\n      <td>None</td>\n      <td>Телепередачи</td>\n      <td>2016-10-21 15:27:59+03:00</td>\n      <td>4192046</td>\n      <td>152974</td>\n      <td>33420</td>\n      <td>NaN</td>\n      <td>NaN</td>\n      <td>NaN</td>\n      <td>1.00</td>\n    </tr>\n  </tbody>\n</table>\n<p>2320660 rows × 15 columns</p>\n</div>"
     },
     "execution_count": 170,
     "metadata": {},
     "output_type": "execute_result"
    }
   ],
   "source": [
    "data"
   ],
   "metadata": {
    "collapsed": false,
    "pycharm": {
     "name": "#%%\n"
    }
   }
  },
  {
   "cell_type": "code",
   "execution_count": 172,
   "outputs": [],
   "source": [
    "final.to_csv('final_df.csv', index=False)"
   ],
   "metadata": {
    "collapsed": false,
    "pycharm": {
     "name": "#%%\n"
    }
   }
  },
  {
   "cell_type": "code",
   "execution_count": 173,
   "outputs": [
    {
     "data": {
      "text/plain": "               item_id  vid_title_0  vid_title_1  vid_title_2  vid_title_3  \\\n0         video_165654     0.317030     0.583350     0.319950     0.233488   \n1        video_1173704     0.481264     0.387798     0.602036     0.802317   \n2          video_23927     0.648496     0.440843     0.160715     0.613938   \n3        video_1003780     0.203357     0.307920     0.590847     0.516022   \n4         video_105383     0.744297     0.835887     0.621679     0.773973   \n...                ...          ...          ...          ...          ...   \n2320657   video_839160     0.292854     0.666169     0.771124     0.671644   \n2320658  video_2134427     0.557534     0.428624     0.511768     0.810072   \n2320659  video_1453482     0.434726     0.334742     0.281761     0.154127   \n2320660  video_2225207     0.805957     0.767042     0.671743     0.632880   \n2320661  video_2242378     0.334941     0.213630     0.290286     0.331302   \n\n         vid_title_4  vid_title_5  vid_title_6  vid_title_7  vid_title_8  ...  \\\n0           0.397311     0.335484     0.683385     0.544738     0.459705  ...   \n1           0.655285     0.626316     0.562532     0.271270     0.515960  ...   \n2           0.367600     0.542256     0.304734     0.719216     0.541566  ...   \n3           0.755484     0.283917     0.717133     0.625334     0.525521  ...   \n4           0.504829     0.539626     0.493591     0.560223     0.590560  ...   \n...              ...          ...          ...          ...          ...  ...   \n2320657     0.643341     0.410232     0.162509     0.522382     0.561864  ...   \n2320658     0.586449     0.477702     0.389940     0.329786     0.467130  ...   \n2320659     0.254287     0.386525     0.505897     0.527292     0.430226  ...   \n2320660     0.815049     0.631796     0.608704     0.433524     0.722830  ...   \n2320661     0.371701     0.339785     0.469659     0.492817     0.309658  ...   \n\n         CTR_10days_01_08  CTR_10days_10_08  CTR_10days_21_08  upld_year  \\\n0                     0.0          0.000000              0.00       2022   \n1                     0.0          0.000000              0.00       2022   \n2                     0.0          0.000000              0.00       2022   \n3                     1.0          0.000000              0.00       2021   \n4                     0.0          0.000000              0.00       2023   \n...                   ...               ...               ...        ...   \n2320657               0.0          0.333333              0.25       2017   \n2320658               0.0          0.000000              0.00       2022   \n2320659               0.0          0.000000              0.00       2022   \n2320660               0.0          0.000000              0.00       2023   \n2320661               0.0          0.000000              1.00       2016   \n\n         upld_month  upld_day  upld_hour  upld_minute  upld_second  \\\n0                12         8         13           53            5   \n1                 3        24          9           19           15   \n2                 3        19         17           41           49   \n3                 2        20         11           50           53   \n4                 8        11          9            2            7   \n...             ...       ...        ...          ...          ...   \n2320657           9        11         22            0           13   \n2320658           3        28         11           19           33   \n2320659           9        10         20            5           17   \n2320660           7         6         12           16           29   \n2320661          10        21         15           27           59   \n\n         upld_dayofweek  \n0                     3  \n1                     3  \n2                     5  \n3                     5  \n4                     4  \n...                 ...  \n2320657               0  \n2320658               0  \n2320659               5  \n2320660               3  \n2320661               4  \n\n[2320662 rows x 268 columns]",
      "text/html": "<div>\n<style scoped>\n    .dataframe tbody tr th:only-of-type {\n        vertical-align: middle;\n    }\n\n    .dataframe tbody tr th {\n        vertical-align: top;\n    }\n\n    .dataframe thead th {\n        text-align: right;\n    }\n</style>\n<table border=\"1\" class=\"dataframe\">\n  <thead>\n    <tr style=\"text-align: right;\">\n      <th></th>\n      <th>item_id</th>\n      <th>vid_title_0</th>\n      <th>vid_title_1</th>\n      <th>vid_title_2</th>\n      <th>vid_title_3</th>\n      <th>vid_title_4</th>\n      <th>vid_title_5</th>\n      <th>vid_title_6</th>\n      <th>vid_title_7</th>\n      <th>vid_title_8</th>\n      <th>...</th>\n      <th>CTR_10days_01_08</th>\n      <th>CTR_10days_10_08</th>\n      <th>CTR_10days_21_08</th>\n      <th>upld_year</th>\n      <th>upld_month</th>\n      <th>upld_day</th>\n      <th>upld_hour</th>\n      <th>upld_minute</th>\n      <th>upld_second</th>\n      <th>upld_dayofweek</th>\n    </tr>\n  </thead>\n  <tbody>\n    <tr>\n      <th>0</th>\n      <td>video_165654</td>\n      <td>0.317030</td>\n      <td>0.583350</td>\n      <td>0.319950</td>\n      <td>0.233488</td>\n      <td>0.397311</td>\n      <td>0.335484</td>\n      <td>0.683385</td>\n      <td>0.544738</td>\n      <td>0.459705</td>\n      <td>...</td>\n      <td>0.0</td>\n      <td>0.000000</td>\n      <td>0.00</td>\n      <td>2022</td>\n      <td>12</td>\n      <td>8</td>\n      <td>13</td>\n      <td>53</td>\n      <td>5</td>\n      <td>3</td>\n    </tr>\n    <tr>\n      <th>1</th>\n      <td>video_1173704</td>\n      <td>0.481264</td>\n      <td>0.387798</td>\n      <td>0.602036</td>\n      <td>0.802317</td>\n      <td>0.655285</td>\n      <td>0.626316</td>\n      <td>0.562532</td>\n      <td>0.271270</td>\n      <td>0.515960</td>\n      <td>...</td>\n      <td>0.0</td>\n      <td>0.000000</td>\n      <td>0.00</td>\n      <td>2022</td>\n      <td>3</td>\n      <td>24</td>\n      <td>9</td>\n      <td>19</td>\n      <td>15</td>\n      <td>3</td>\n    </tr>\n    <tr>\n      <th>2</th>\n      <td>video_23927</td>\n      <td>0.648496</td>\n      <td>0.440843</td>\n      <td>0.160715</td>\n      <td>0.613938</td>\n      <td>0.367600</td>\n      <td>0.542256</td>\n      <td>0.304734</td>\n      <td>0.719216</td>\n      <td>0.541566</td>\n      <td>...</td>\n      <td>0.0</td>\n      <td>0.000000</td>\n      <td>0.00</td>\n      <td>2022</td>\n      <td>3</td>\n      <td>19</td>\n      <td>17</td>\n      <td>41</td>\n      <td>49</td>\n      <td>5</td>\n    </tr>\n    <tr>\n      <th>3</th>\n      <td>video_1003780</td>\n      <td>0.203357</td>\n      <td>0.307920</td>\n      <td>0.590847</td>\n      <td>0.516022</td>\n      <td>0.755484</td>\n      <td>0.283917</td>\n      <td>0.717133</td>\n      <td>0.625334</td>\n      <td>0.525521</td>\n      <td>...</td>\n      <td>1.0</td>\n      <td>0.000000</td>\n      <td>0.00</td>\n      <td>2021</td>\n      <td>2</td>\n      <td>20</td>\n      <td>11</td>\n      <td>50</td>\n      <td>53</td>\n      <td>5</td>\n    </tr>\n    <tr>\n      <th>4</th>\n      <td>video_105383</td>\n      <td>0.744297</td>\n      <td>0.835887</td>\n      <td>0.621679</td>\n      <td>0.773973</td>\n      <td>0.504829</td>\n      <td>0.539626</td>\n      <td>0.493591</td>\n      <td>0.560223</td>\n      <td>0.590560</td>\n      <td>...</td>\n      <td>0.0</td>\n      <td>0.000000</td>\n      <td>0.00</td>\n      <td>2023</td>\n      <td>8</td>\n      <td>11</td>\n      <td>9</td>\n      <td>2</td>\n      <td>7</td>\n      <td>4</td>\n    </tr>\n    <tr>\n      <th>...</th>\n      <td>...</td>\n      <td>...</td>\n      <td>...</td>\n      <td>...</td>\n      <td>...</td>\n      <td>...</td>\n      <td>...</td>\n      <td>...</td>\n      <td>...</td>\n      <td>...</td>\n      <td>...</td>\n      <td>...</td>\n      <td>...</td>\n      <td>...</td>\n      <td>...</td>\n      <td>...</td>\n      <td>...</td>\n      <td>...</td>\n      <td>...</td>\n      <td>...</td>\n      <td>...</td>\n    </tr>\n    <tr>\n      <th>2320657</th>\n      <td>video_839160</td>\n      <td>0.292854</td>\n      <td>0.666169</td>\n      <td>0.771124</td>\n      <td>0.671644</td>\n      <td>0.643341</td>\n      <td>0.410232</td>\n      <td>0.162509</td>\n      <td>0.522382</td>\n      <td>0.561864</td>\n      <td>...</td>\n      <td>0.0</td>\n      <td>0.333333</td>\n      <td>0.25</td>\n      <td>2017</td>\n      <td>9</td>\n      <td>11</td>\n      <td>22</td>\n      <td>0</td>\n      <td>13</td>\n      <td>0</td>\n    </tr>\n    <tr>\n      <th>2320658</th>\n      <td>video_2134427</td>\n      <td>0.557534</td>\n      <td>0.428624</td>\n      <td>0.511768</td>\n      <td>0.810072</td>\n      <td>0.586449</td>\n      <td>0.477702</td>\n      <td>0.389940</td>\n      <td>0.329786</td>\n      <td>0.467130</td>\n      <td>...</td>\n      <td>0.0</td>\n      <td>0.000000</td>\n      <td>0.00</td>\n      <td>2022</td>\n      <td>3</td>\n      <td>28</td>\n      <td>11</td>\n      <td>19</td>\n      <td>33</td>\n      <td>0</td>\n    </tr>\n    <tr>\n      <th>2320659</th>\n      <td>video_1453482</td>\n      <td>0.434726</td>\n      <td>0.334742</td>\n      <td>0.281761</td>\n      <td>0.154127</td>\n      <td>0.254287</td>\n      <td>0.386525</td>\n      <td>0.505897</td>\n      <td>0.527292</td>\n      <td>0.430226</td>\n      <td>...</td>\n      <td>0.0</td>\n      <td>0.000000</td>\n      <td>0.00</td>\n      <td>2022</td>\n      <td>9</td>\n      <td>10</td>\n      <td>20</td>\n      <td>5</td>\n      <td>17</td>\n      <td>5</td>\n    </tr>\n    <tr>\n      <th>2320660</th>\n      <td>video_2225207</td>\n      <td>0.805957</td>\n      <td>0.767042</td>\n      <td>0.671743</td>\n      <td>0.632880</td>\n      <td>0.815049</td>\n      <td>0.631796</td>\n      <td>0.608704</td>\n      <td>0.433524</td>\n      <td>0.722830</td>\n      <td>...</td>\n      <td>0.0</td>\n      <td>0.000000</td>\n      <td>0.00</td>\n      <td>2023</td>\n      <td>7</td>\n      <td>6</td>\n      <td>12</td>\n      <td>16</td>\n      <td>29</td>\n      <td>3</td>\n    </tr>\n    <tr>\n      <th>2320661</th>\n      <td>video_2242378</td>\n      <td>0.334941</td>\n      <td>0.213630</td>\n      <td>0.290286</td>\n      <td>0.331302</td>\n      <td>0.371701</td>\n      <td>0.339785</td>\n      <td>0.469659</td>\n      <td>0.492817</td>\n      <td>0.309658</td>\n      <td>...</td>\n      <td>0.0</td>\n      <td>0.000000</td>\n      <td>1.00</td>\n      <td>2016</td>\n      <td>10</td>\n      <td>21</td>\n      <td>15</td>\n      <td>27</td>\n      <td>59</td>\n      <td>4</td>\n    </tr>\n  </tbody>\n</table>\n<p>2320662 rows × 268 columns</p>\n</div>"
     },
     "execution_count": 173,
     "metadata": {},
     "output_type": "execute_result"
    }
   ],
   "source": [
    "final"
   ],
   "metadata": {
    "collapsed": false,
    "pycharm": {
     "name": "#%%\n"
    }
   }
  },
  {
   "cell_type": "code",
   "execution_count": null,
   "outputs": [],
   "source": [],
   "metadata": {
    "collapsed": false,
    "pycharm": {
     "name": "#%%\n"
    }
   }
  }
 ],
 "metadata": {
  "kernelspec": {
   "display_name": "Python 3",
   "language": "python",
   "name": "python3"
  },
  "language_info": {
   "codemirror_mode": {
    "name": "ipython",
    "version": 2
   },
   "file_extension": ".py",
   "mimetype": "text/x-python",
   "name": "python",
   "nbconvert_exporter": "python",
   "pygments_lexer": "ipython2",
   "version": "2.7.6"
  }
 },
 "nbformat": 4,
 "nbformat_minor": 0
}